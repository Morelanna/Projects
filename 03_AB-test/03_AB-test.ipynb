{
 "cells": [
  {
   "cell_type": "markdown",
   "metadata": {},
   "source": [
    "# Проект: Принятие решений в бизнесе"
   ]
  },
  {
   "cell_type": "markdown",
   "metadata": {},
   "source": [
    "**Цель проекта:** Вместе с отделом маркетинга мы подготовили список гипотез для увеличения выручки. Необходимо приоритизировать гипотезы, запустить A/B-тест и проанализировать результаты. "
   ]
  },
  {
   "cell_type": "markdown",
   "metadata": {},
   "source": [
    "**Часть 1: Приоритизация гипотез**"
   ]
  },
  {
   "cell_type": "markdown",
   "metadata": {},
   "source": [
    "**Входные данные:**\n",
    "- Файл `hypothesis.csv`"
   ]
  },
  {
   "cell_type": "markdown",
   "metadata": {},
   "source": [
    "**Описание файла:**\n",
    "- *Hypothesis* — краткое описание гипотезы;\n",
    "- *Reach* — охват пользователей по 10-балльной шкале;\n",
    "- *Impact* — влияние на пользователей по 10-балльной шкале;\n",
    "- *Confidence* — уверенность в гипотезе по 10-балльной шкале;\n",
    "- *Efforts* — затраты ресурсов на проверку гипотезы по 10-балльной шкале. Чем больше значение Efforts, тем дороже проверка гипотезы."
   ]
  },
  {
   "cell_type": "markdown",
   "metadata": {},
   "source": [
    "**Задачи:**\n",
    "- Применить фреймворк ICE для приоритизации гипотез. Отсортировать их по убыванию приоритета.\n",
    "- Применить фреймворк RICE для приоритизации гипотез. Отсортировать их по убыванию приоритета.\n",
    "- Указать, как изменилась приоритизация гипотез при применении RICE вместо ICE. Объяснить, почему так произошло."
   ]
  },
  {
   "cell_type": "markdown",
   "metadata": {},
   "source": [
    "**Часть 2: Анализ A/B-теста**"
   ]
  },
  {
   "cell_type": "markdown",
   "metadata": {},
   "source": [
    "**Входные данные:**\n",
    "- Файл `orders.csv`\n",
    "- Файл `visitors.csv`"
   ]
  },
  {
   "cell_type": "markdown",
   "metadata": {},
   "source": [
    "**Описание файлов:**"
   ]
  },
  {
   "cell_type": "markdown",
   "metadata": {},
   "source": [
    "**Файл `orders.csv`:**\n",
    "- *transactionId* — идентификатор заказа;\n",
    "- *visitorId* — идентификатор пользователя, совершившего заказ;\n",
    "- *date* — дата, когда был совершён заказ;\n",
    "- *revenue* — выручка заказа;\n",
    "- *group* — группа A/B-теста, в которую попал заказ."
   ]
  },
  {
   "cell_type": "markdown",
   "metadata": {},
   "source": [
    "**Файл `visitors.csv`:**\n",
    "- *date* — дата;\n",
    "- *group* — группа A/B-теста;\n",
    "- *visitors* — количество пользователей в указанную дату в указанной группе A/B-теста"
   ]
  },
  {
   "cell_type": "markdown",
   "metadata": {},
   "source": [
    "**Задачи:**\n",
    "- Построить график кумулятивной выручки по группам. Сделать выводы и предположения.\n",
    "- Построить график кумулятивного среднего чека по группам. Сделать выводы и предположения.\n",
    "- Построить график относительного изменения кумулятивного среднего чека группы B к группе A. Сделать выводы и предположения.\n",
    "- Построить график кумулятивного среднего количества заказов на посетителя по группам. Сделать выводы и предположения.\n",
    "- Построить график относительного изменения кумулятивного среднего количества заказов на посетителя группы B к группе A. Сделать выводы и предположения.\n",
    "- Построить точечный график количества заказов по пользователям. Сделать выводы и предположения.\n",
    "- Посчитать 95-й и 99-й перцентили количества заказов на пользователя. Выберать границу для определения аномальных пользователей.\n",
    "- Построить точечный график стоимостей заказов. Сделать выводы и предположения.\n",
    "- Посчитать 95-й и 99-й перцентили стоимости заказов. Выбрать границу для определения аномальных заказов.\n",
    "- Посчитать статистическую значимость различий в среднем количестве заказов на посетителя между группами по «сырым» данным. Сделать выводы и предположения.\n",
    "- Посчитайте статистическую значимость различий в среднем чеке заказа между группами по «сырым» данным. Сделать выводы и предположения.\n",
    "- Посчитать статистическую значимость различий в среднем количестве заказов на посетителя между группами по «очищенным» данным. Сделать выводы и предположения.\n",
    "- Посчитать статистическую значимость различий в среднем чеке заказа между группами по «очищенным» данным. Сделать выводы и предположения.\n",
    "- Принять решение по результатам теста и объяснить его."
   ]
  },
  {
   "cell_type": "markdown",
   "metadata": {},
   "source": [
    "**План работы:**\n",
    "- Шаг 1. Предобработка данных\n",
    "- Шаг 2. Приоритизация гипотез\n",
    "- Шаг 3. Анализ А/В-теста\n",
    "- Шаг 4. Статистическая значимость"
   ]
  },
  {
   "cell_type": "markdown",
   "metadata": {},
   "source": [
    "## Предобработка данных"
   ]
  },
  {
   "cell_type": "code",
   "execution_count": 1,
   "metadata": {},
   "outputs": [],
   "source": [
    "import pandas as pd\n",
    "import matplotlib.pyplot as plt\n",
    "import math\n",
    "import seaborn as sns\n",
    "from scipy import stats as st\n",
    "import numpy as np \n",
    "import datetime as dt\n",
    "from pandas.plotting import register_matplotlib_converters\n",
    "import os"
   ]
  },
  {
   "cell_type": "code",
   "execution_count": 2,
   "metadata": {},
   "outputs": [],
   "source": [
    "pth1 = '/datasets/hypothesis.csv'\n",
    "pth2 = 'hypothesis.csv'\n",
    "pth3 = '/datasets/orders.csv'\n",
    "pth4 = 'orders.csv'\n",
    "pth5 = '/datasets/visitors.csv'\n",
    "pth6 = 'visitors.csv'\n",
    "if os.path.exists(pth1):\n",
    "    hypothesis  = pd.read_csv(pth1)\n",
    "    orders = pd.read_csv(pth3)\n",
    "    visitors = pd.read_csv(pth5)\n",
    "else:\n",
    "    hypothesis  = pd.read_csv(pth2)\n",
    "    orders = pd.read_csv(pth4)\n",
    "    visitors = pd.read_csv(pth6)"
   ]
  },
  {
   "cell_type": "markdown",
   "metadata": {},
   "source": [
    "Посмотрим файл `hypothesis` и сделаем предобработку, если нужно."
   ]
  },
  {
   "cell_type": "code",
   "execution_count": 3,
   "metadata": {},
   "outputs": [],
   "source": [
    "pd.options.display.max_colwidth = 150"
   ]
  },
  {
   "cell_type": "code",
   "execution_count": 4,
   "metadata": {
    "scrolled": true
   },
   "outputs": [
    {
     "data": {
      "text/html": [
       "<div>\n",
       "<style scoped>\n",
       "    .dataframe tbody tr th:only-of-type {\n",
       "        vertical-align: middle;\n",
       "    }\n",
       "\n",
       "    .dataframe tbody tr th {\n",
       "        vertical-align: top;\n",
       "    }\n",
       "\n",
       "    .dataframe thead th {\n",
       "        text-align: right;\n",
       "    }\n",
       "</style>\n",
       "<table border=\"1\" class=\"dataframe\">\n",
       "  <thead>\n",
       "    <tr style=\"text-align: right;\">\n",
       "      <th></th>\n",
       "      <th>Hypothesis</th>\n",
       "      <th>Reach</th>\n",
       "      <th>Impact</th>\n",
       "      <th>Confidence</th>\n",
       "      <th>Efforts</th>\n",
       "    </tr>\n",
       "  </thead>\n",
       "  <tbody>\n",
       "    <tr>\n",
       "      <th>0</th>\n",
       "      <td>Добавить два новых канала привлечения трафика, что позволит привлекать на 30% больше пользователей</td>\n",
       "      <td>3</td>\n",
       "      <td>10</td>\n",
       "      <td>8</td>\n",
       "      <td>6</td>\n",
       "    </tr>\n",
       "    <tr>\n",
       "      <th>1</th>\n",
       "      <td>Запустить собственную службу доставки, что сократит срок доставки заказов</td>\n",
       "      <td>2</td>\n",
       "      <td>5</td>\n",
       "      <td>4</td>\n",
       "      <td>10</td>\n",
       "    </tr>\n",
       "    <tr>\n",
       "      <th>2</th>\n",
       "      <td>Добавить блоки рекомендаций товаров на сайт интернет магазина, чтобы повысить конверсию и средний чек заказа</td>\n",
       "      <td>8</td>\n",
       "      <td>3</td>\n",
       "      <td>7</td>\n",
       "      <td>3</td>\n",
       "    </tr>\n",
       "    <tr>\n",
       "      <th>3</th>\n",
       "      <td>Изменить структура категорий, что увеличит конверсию, т.к. пользователи быстрее найдут нужный товар</td>\n",
       "      <td>8</td>\n",
       "      <td>3</td>\n",
       "      <td>3</td>\n",
       "      <td>8</td>\n",
       "    </tr>\n",
       "    <tr>\n",
       "      <th>4</th>\n",
       "      <td>Изменить цвет фона главной страницы, чтобы увеличить вовлеченность пользователей</td>\n",
       "      <td>3</td>\n",
       "      <td>1</td>\n",
       "      <td>1</td>\n",
       "      <td>1</td>\n",
       "    </tr>\n",
       "  </tbody>\n",
       "</table>\n",
       "</div>"
      ],
      "text/plain": [
       "                                                                                                     Hypothesis  \\\n",
       "0            Добавить два новых канала привлечения трафика, что позволит привлекать на 30% больше пользователей   \n",
       "1                                     Запустить собственную службу доставки, что сократит срок доставки заказов   \n",
       "2  Добавить блоки рекомендаций товаров на сайт интернет магазина, чтобы повысить конверсию и средний чек заказа   \n",
       "3           Изменить структура категорий, что увеличит конверсию, т.к. пользователи быстрее найдут нужный товар   \n",
       "4                              Изменить цвет фона главной страницы, чтобы увеличить вовлеченность пользователей   \n",
       "\n",
       "   Reach  Impact  Confidence  Efforts  \n",
       "0      3      10           8        6  \n",
       "1      2       5           4       10  \n",
       "2      8       3           7        3  \n",
       "3      8       3           3        8  \n",
       "4      3       1           1        1  "
      ]
     },
     "execution_count": 4,
     "metadata": {},
     "output_type": "execute_result"
    }
   ],
   "source": [
    "hypothesis.head()"
   ]
  },
  {
   "cell_type": "code",
   "execution_count": 5,
   "metadata": {},
   "outputs": [],
   "source": [
    "# приводим названия столбцов к нижнему регистру\n",
    "hypothesis.columns = hypothesis.columns.str.lower()"
   ]
  },
  {
   "cell_type": "code",
   "execution_count": 6,
   "metadata": {},
   "outputs": [
    {
     "name": "stdout",
     "output_type": "stream",
     "text": [
      "<class 'pandas.core.frame.DataFrame'>\n",
      "RangeIndex: 9 entries, 0 to 8\n",
      "Data columns (total 5 columns):\n",
      " #   Column      Non-Null Count  Dtype \n",
      "---  ------      --------------  ----- \n",
      " 0   hypothesis  9 non-null      object\n",
      " 1   reach       9 non-null      int64 \n",
      " 2   impact      9 non-null      int64 \n",
      " 3   confidence  9 non-null      int64 \n",
      " 4   efforts     9 non-null      int64 \n",
      "dtypes: int64(4), object(1)\n",
      "memory usage: 488.0+ bytes\n"
     ]
    }
   ],
   "source": [
    "hypothesis.info()"
   ]
  },
  {
   "cell_type": "code",
   "execution_count": 7,
   "metadata": {},
   "outputs": [
    {
     "data": {
      "text/plain": [
       "0"
      ]
     },
     "execution_count": 7,
     "metadata": {},
     "output_type": "execute_result"
    }
   ],
   "source": [
    "# считаем дубликаты\n",
    "hypothesis.duplicated().sum()"
   ]
  },
  {
   "cell_type": "code",
   "execution_count": 8,
   "metadata": {},
   "outputs": [
    {
     "data": {
      "text/plain": [
       "hypothesis    0\n",
       "reach         0\n",
       "impact        0\n",
       "confidence    0\n",
       "efforts       0\n",
       "dtype: int64"
      ]
     },
     "execution_count": 8,
     "metadata": {},
     "output_type": "execute_result"
    }
   ],
   "source": [
    "# считаем пропуски\n",
    "hypothesis.isna().sum()"
   ]
  },
  {
   "cell_type": "markdown",
   "metadata": {},
   "source": [
    "Посмотрим файл `orders` и сделаем предобработку."
   ]
  },
  {
   "cell_type": "code",
   "execution_count": 9,
   "metadata": {},
   "outputs": [
    {
     "data": {
      "text/html": [
       "<div>\n",
       "<style scoped>\n",
       "    .dataframe tbody tr th:only-of-type {\n",
       "        vertical-align: middle;\n",
       "    }\n",
       "\n",
       "    .dataframe tbody tr th {\n",
       "        vertical-align: top;\n",
       "    }\n",
       "\n",
       "    .dataframe thead th {\n",
       "        text-align: right;\n",
       "    }\n",
       "</style>\n",
       "<table border=\"1\" class=\"dataframe\">\n",
       "  <thead>\n",
       "    <tr style=\"text-align: right;\">\n",
       "      <th></th>\n",
       "      <th>transactionId</th>\n",
       "      <th>visitorId</th>\n",
       "      <th>date</th>\n",
       "      <th>revenue</th>\n",
       "      <th>group</th>\n",
       "    </tr>\n",
       "  </thead>\n",
       "  <tbody>\n",
       "    <tr>\n",
       "      <th>0</th>\n",
       "      <td>3667963787</td>\n",
       "      <td>3312258926</td>\n",
       "      <td>2019-08-15</td>\n",
       "      <td>1650</td>\n",
       "      <td>B</td>\n",
       "    </tr>\n",
       "    <tr>\n",
       "      <th>1</th>\n",
       "      <td>2804400009</td>\n",
       "      <td>3642806036</td>\n",
       "      <td>2019-08-15</td>\n",
       "      <td>730</td>\n",
       "      <td>B</td>\n",
       "    </tr>\n",
       "    <tr>\n",
       "      <th>2</th>\n",
       "      <td>2961555356</td>\n",
       "      <td>4069496402</td>\n",
       "      <td>2019-08-15</td>\n",
       "      <td>400</td>\n",
       "      <td>A</td>\n",
       "    </tr>\n",
       "    <tr>\n",
       "      <th>3</th>\n",
       "      <td>3797467345</td>\n",
       "      <td>1196621759</td>\n",
       "      <td>2019-08-15</td>\n",
       "      <td>9759</td>\n",
       "      <td>B</td>\n",
       "    </tr>\n",
       "    <tr>\n",
       "      <th>4</th>\n",
       "      <td>2282983706</td>\n",
       "      <td>2322279887</td>\n",
       "      <td>2019-08-15</td>\n",
       "      <td>2308</td>\n",
       "      <td>B</td>\n",
       "    </tr>\n",
       "  </tbody>\n",
       "</table>\n",
       "</div>"
      ],
      "text/plain": [
       "   transactionId   visitorId        date  revenue group\n",
       "0     3667963787  3312258926  2019-08-15     1650     B\n",
       "1     2804400009  3642806036  2019-08-15      730     B\n",
       "2     2961555356  4069496402  2019-08-15      400     A\n",
       "3     3797467345  1196621759  2019-08-15     9759     B\n",
       "4     2282983706  2322279887  2019-08-15     2308     B"
      ]
     },
     "execution_count": 9,
     "metadata": {},
     "output_type": "execute_result"
    }
   ],
   "source": [
    "orders.head()"
   ]
  },
  {
   "cell_type": "code",
   "execution_count": 10,
   "metadata": {},
   "outputs": [
    {
     "name": "stdout",
     "output_type": "stream",
     "text": [
      "<class 'pandas.core.frame.DataFrame'>\n",
      "RangeIndex: 1197 entries, 0 to 1196\n",
      "Data columns (total 5 columns):\n",
      " #   Column         Non-Null Count  Dtype \n",
      "---  ------         --------------  ----- \n",
      " 0   transactionId  1197 non-null   int64 \n",
      " 1   visitorId      1197 non-null   int64 \n",
      " 2   date           1197 non-null   object\n",
      " 3   revenue        1197 non-null   int64 \n",
      " 4   group          1197 non-null   object\n",
      "dtypes: int64(3), object(2)\n",
      "memory usage: 46.9+ KB\n"
     ]
    }
   ],
   "source": [
    "orders.info()"
   ]
  },
  {
   "cell_type": "code",
   "execution_count": 11,
   "metadata": {},
   "outputs": [
    {
     "name": "stdout",
     "output_type": "stream",
     "text": [
      "<class 'pandas.core.frame.DataFrame'>\n",
      "RangeIndex: 1197 entries, 0 to 1196\n",
      "Data columns (total 5 columns):\n",
      " #   Column         Non-Null Count  Dtype         \n",
      "---  ------         --------------  -----         \n",
      " 0   transactionId  1197 non-null   int64         \n",
      " 1   visitorId      1197 non-null   int64         \n",
      " 2   date           1197 non-null   datetime64[ns]\n",
      " 3   revenue        1197 non-null   int64         \n",
      " 4   group          1197 non-null   object        \n",
      "dtypes: datetime64[ns](1), int64(3), object(1)\n",
      "memory usage: 46.9+ KB\n"
     ]
    }
   ],
   "source": [
    "# изменяем тип данных колонки date\n",
    "orders['date'] = pd.to_datetime(orders['date'], format='%Y-%m-%d')\n",
    "orders.info()"
   ]
  },
  {
   "cell_type": "code",
   "execution_count": 12,
   "metadata": {},
   "outputs": [
    {
     "data": {
      "text/plain": [
       "0"
      ]
     },
     "execution_count": 12,
     "metadata": {},
     "output_type": "execute_result"
    }
   ],
   "source": [
    "# считаем дубликаты\n",
    "orders.duplicated().sum()"
   ]
  },
  {
   "cell_type": "code",
   "execution_count": 13,
   "metadata": {},
   "outputs": [
    {
     "data": {
      "text/plain": [
       "transactionId    0\n",
       "visitorId        0\n",
       "date             0\n",
       "revenue          0\n",
       "group            0\n",
       "dtype: int64"
      ]
     },
     "execution_count": 13,
     "metadata": {},
     "output_type": "execute_result"
    }
   ],
   "source": [
    "# считаем пропуски\n",
    "orders.isna().sum()"
   ]
  },
  {
   "cell_type": "markdown",
   "metadata": {},
   "source": [
    "Посмотрим файл `visitors` и сделаем предобработку."
   ]
  },
  {
   "cell_type": "code",
   "execution_count": 14,
   "metadata": {},
   "outputs": [
    {
     "data": {
      "text/html": [
       "<div>\n",
       "<style scoped>\n",
       "    .dataframe tbody tr th:only-of-type {\n",
       "        vertical-align: middle;\n",
       "    }\n",
       "\n",
       "    .dataframe tbody tr th {\n",
       "        vertical-align: top;\n",
       "    }\n",
       "\n",
       "    .dataframe thead th {\n",
       "        text-align: right;\n",
       "    }\n",
       "</style>\n",
       "<table border=\"1\" class=\"dataframe\">\n",
       "  <thead>\n",
       "    <tr style=\"text-align: right;\">\n",
       "      <th></th>\n",
       "      <th>date</th>\n",
       "      <th>group</th>\n",
       "      <th>visitors</th>\n",
       "    </tr>\n",
       "  </thead>\n",
       "  <tbody>\n",
       "    <tr>\n",
       "      <th>0</th>\n",
       "      <td>2019-08-01</td>\n",
       "      <td>A</td>\n",
       "      <td>719</td>\n",
       "    </tr>\n",
       "    <tr>\n",
       "      <th>1</th>\n",
       "      <td>2019-08-02</td>\n",
       "      <td>A</td>\n",
       "      <td>619</td>\n",
       "    </tr>\n",
       "    <tr>\n",
       "      <th>2</th>\n",
       "      <td>2019-08-03</td>\n",
       "      <td>A</td>\n",
       "      <td>507</td>\n",
       "    </tr>\n",
       "    <tr>\n",
       "      <th>3</th>\n",
       "      <td>2019-08-04</td>\n",
       "      <td>A</td>\n",
       "      <td>717</td>\n",
       "    </tr>\n",
       "    <tr>\n",
       "      <th>4</th>\n",
       "      <td>2019-08-05</td>\n",
       "      <td>A</td>\n",
       "      <td>756</td>\n",
       "    </tr>\n",
       "  </tbody>\n",
       "</table>\n",
       "</div>"
      ],
      "text/plain": [
       "         date group  visitors\n",
       "0  2019-08-01     A       719\n",
       "1  2019-08-02     A       619\n",
       "2  2019-08-03     A       507\n",
       "3  2019-08-04     A       717\n",
       "4  2019-08-05     A       756"
      ]
     },
     "execution_count": 14,
     "metadata": {},
     "output_type": "execute_result"
    }
   ],
   "source": [
    "visitors.head()"
   ]
  },
  {
   "cell_type": "code",
   "execution_count": 15,
   "metadata": {},
   "outputs": [
    {
     "name": "stdout",
     "output_type": "stream",
     "text": [
      "<class 'pandas.core.frame.DataFrame'>\n",
      "RangeIndex: 62 entries, 0 to 61\n",
      "Data columns (total 3 columns):\n",
      " #   Column    Non-Null Count  Dtype \n",
      "---  ------    --------------  ----- \n",
      " 0   date      62 non-null     object\n",
      " 1   group     62 non-null     object\n",
      " 2   visitors  62 non-null     int64 \n",
      "dtypes: int64(1), object(2)\n",
      "memory usage: 1.6+ KB\n"
     ]
    }
   ],
   "source": [
    "visitors.info()"
   ]
  },
  {
   "cell_type": "code",
   "execution_count": 16,
   "metadata": {},
   "outputs": [
    {
     "name": "stdout",
     "output_type": "stream",
     "text": [
      "<class 'pandas.core.frame.DataFrame'>\n",
      "RangeIndex: 62 entries, 0 to 61\n",
      "Data columns (total 3 columns):\n",
      " #   Column    Non-Null Count  Dtype         \n",
      "---  ------    --------------  -----         \n",
      " 0   date      62 non-null     datetime64[ns]\n",
      " 1   group     62 non-null     object        \n",
      " 2   visitors  62 non-null     int64         \n",
      "dtypes: datetime64[ns](1), int64(1), object(1)\n",
      "memory usage: 1.6+ KB\n"
     ]
    }
   ],
   "source": [
    "# изменяем тип данных колонки date\n",
    "visitors['date'] = pd.to_datetime(visitors['date'], format='%Y-%m-%d')\n",
    "visitors.info()"
   ]
  },
  {
   "cell_type": "code",
   "execution_count": 17,
   "metadata": {},
   "outputs": [
    {
     "data": {
      "text/plain": [
       "0"
      ]
     },
     "execution_count": 17,
     "metadata": {},
     "output_type": "execute_result"
    }
   ],
   "source": [
    "# считаем дубликаты\n",
    "visitors.duplicated().sum()"
   ]
  },
  {
   "cell_type": "code",
   "execution_count": 18,
   "metadata": {},
   "outputs": [
    {
     "data": {
      "text/plain": [
       "date        0\n",
       "group       0\n",
       "visitors    0\n",
       "dtype: int64"
      ]
     },
     "execution_count": 18,
     "metadata": {},
     "output_type": "execute_result"
    }
   ],
   "source": [
    "# считаем пропуски\n",
    "visitors.isna().sum()"
   ]
  },
  {
   "cell_type": "markdown",
   "metadata": {},
   "source": [
    "Пропусков и дубликатов в данных не обнаружено, тип данных изменен на корректный. Данные загружены и готовы к анализу."
   ]
  },
  {
   "cell_type": "markdown",
   "metadata": {},
   "source": [
    "## Приоритизация гипотез"
   ]
  },
  {
   "cell_type": "markdown",
   "metadata": {},
   "source": [
    "**Применим фреймворк ICE для приоритизации гипотез. Отсортируем их по убыванию приоритета.**"
   ]
  },
  {
   "cell_type": "code",
   "execution_count": 19,
   "metadata": {},
   "outputs": [],
   "source": [
    "pd.set_option('display.precision', 2)"
   ]
  },
  {
   "cell_type": "code",
   "execution_count": 20,
   "metadata": {},
   "outputs": [
    {
     "data": {
      "text/html": [
       "<div>\n",
       "<style scoped>\n",
       "    .dataframe tbody tr th:only-of-type {\n",
       "        vertical-align: middle;\n",
       "    }\n",
       "\n",
       "    .dataframe tbody tr th {\n",
       "        vertical-align: top;\n",
       "    }\n",
       "\n",
       "    .dataframe thead th {\n",
       "        text-align: right;\n",
       "    }\n",
       "</style>\n",
       "<table border=\"1\" class=\"dataframe\">\n",
       "  <thead>\n",
       "    <tr style=\"text-align: right;\">\n",
       "      <th></th>\n",
       "      <th>hypothesis</th>\n",
       "      <th>reach</th>\n",
       "      <th>impact</th>\n",
       "      <th>confidence</th>\n",
       "      <th>efforts</th>\n",
       "      <th>ICE</th>\n",
       "    </tr>\n",
       "  </thead>\n",
       "  <tbody>\n",
       "    <tr>\n",
       "      <th>8</th>\n",
       "      <td>Запустить акцию, дающую скидку на товар в день рождения</td>\n",
       "      <td>1</td>\n",
       "      <td>9</td>\n",
       "      <td>9</td>\n",
       "      <td>5</td>\n",
       "      <td>16.20</td>\n",
       "    </tr>\n",
       "    <tr>\n",
       "      <th>0</th>\n",
       "      <td>Добавить два новых канала привлечения трафика, что позволит привлекать на 30% больше пользователей</td>\n",
       "      <td>3</td>\n",
       "      <td>10</td>\n",
       "      <td>8</td>\n",
       "      <td>6</td>\n",
       "      <td>13.33</td>\n",
       "    </tr>\n",
       "    <tr>\n",
       "      <th>7</th>\n",
       "      <td>Добавить форму подписки на все основные страницы, чтобы собрать базу клиентов для email-рассылок</td>\n",
       "      <td>10</td>\n",
       "      <td>7</td>\n",
       "      <td>8</td>\n",
       "      <td>5</td>\n",
       "      <td>11.20</td>\n",
       "    </tr>\n",
       "    <tr>\n",
       "      <th>6</th>\n",
       "      <td>Показать на главной странице баннеры с актуальными акциями и распродажами, чтобы увеличить конверсию</td>\n",
       "      <td>5</td>\n",
       "      <td>3</td>\n",
       "      <td>8</td>\n",
       "      <td>3</td>\n",
       "      <td>8.00</td>\n",
       "    </tr>\n",
       "    <tr>\n",
       "      <th>2</th>\n",
       "      <td>Добавить блоки рекомендаций товаров на сайт интернет магазина, чтобы повысить конверсию и средний чек заказа</td>\n",
       "      <td>8</td>\n",
       "      <td>3</td>\n",
       "      <td>7</td>\n",
       "      <td>3</td>\n",
       "      <td>7.00</td>\n",
       "    </tr>\n",
       "    <tr>\n",
       "      <th>1</th>\n",
       "      <td>Запустить собственную службу доставки, что сократит срок доставки заказов</td>\n",
       "      <td>2</td>\n",
       "      <td>5</td>\n",
       "      <td>4</td>\n",
       "      <td>10</td>\n",
       "      <td>2.00</td>\n",
       "    </tr>\n",
       "    <tr>\n",
       "      <th>5</th>\n",
       "      <td>Добавить страницу отзывов клиентов о магазине, что позволит увеличить количество заказов</td>\n",
       "      <td>3</td>\n",
       "      <td>2</td>\n",
       "      <td>2</td>\n",
       "      <td>3</td>\n",
       "      <td>1.33</td>\n",
       "    </tr>\n",
       "    <tr>\n",
       "      <th>3</th>\n",
       "      <td>Изменить структура категорий, что увеличит конверсию, т.к. пользователи быстрее найдут нужный товар</td>\n",
       "      <td>8</td>\n",
       "      <td>3</td>\n",
       "      <td>3</td>\n",
       "      <td>8</td>\n",
       "      <td>1.12</td>\n",
       "    </tr>\n",
       "    <tr>\n",
       "      <th>4</th>\n",
       "      <td>Изменить цвет фона главной страницы, чтобы увеличить вовлеченность пользователей</td>\n",
       "      <td>3</td>\n",
       "      <td>1</td>\n",
       "      <td>1</td>\n",
       "      <td>1</td>\n",
       "      <td>1.00</td>\n",
       "    </tr>\n",
       "  </tbody>\n",
       "</table>\n",
       "</div>"
      ],
      "text/plain": [
       "                                                                                                     hypothesis  \\\n",
       "8                                                       Запустить акцию, дающую скидку на товар в день рождения   \n",
       "0            Добавить два новых канала привлечения трафика, что позволит привлекать на 30% больше пользователей   \n",
       "7              Добавить форму подписки на все основные страницы, чтобы собрать базу клиентов для email-рассылок   \n",
       "6          Показать на главной странице баннеры с актуальными акциями и распродажами, чтобы увеличить конверсию   \n",
       "2  Добавить блоки рекомендаций товаров на сайт интернет магазина, чтобы повысить конверсию и средний чек заказа   \n",
       "1                                     Запустить собственную службу доставки, что сократит срок доставки заказов   \n",
       "5                      Добавить страницу отзывов клиентов о магазине, что позволит увеличить количество заказов   \n",
       "3           Изменить структура категорий, что увеличит конверсию, т.к. пользователи быстрее найдут нужный товар   \n",
       "4                              Изменить цвет фона главной страницы, чтобы увеличить вовлеченность пользователей   \n",
       "\n",
       "   reach  impact  confidence  efforts    ICE  \n",
       "8      1       9           9        5  16.20  \n",
       "0      3      10           8        6  13.33  \n",
       "7     10       7           8        5  11.20  \n",
       "6      5       3           8        3   8.00  \n",
       "2      8       3           7        3   7.00  \n",
       "1      2       5           4       10   2.00  \n",
       "5      3       2           2        3   1.33  \n",
       "3      8       3           3        8   1.12  \n",
       "4      3       1           1        1   1.00  "
      ]
     },
     "execution_count": 20,
     "metadata": {},
     "output_type": "execute_result"
    }
   ],
   "source": [
    "hypothesis['ICE'] = (hypothesis['impact'] *  hypothesis['confidence']) / hypothesis['efforts']\n",
    "hypothesis.sort_values(by='ICE', ascending=False, inplace=True)\n",
    "hypothesis"
   ]
  },
  {
   "cell_type": "markdown",
   "metadata": {},
   "source": [
    "По ICE приоритет у 8, 0 и 7 гипотез."
   ]
  },
  {
   "cell_type": "markdown",
   "metadata": {},
   "source": [
    "**Применим фреймворк RICE для приоритизации гипотез. Отсортируем их по убыванию приоритета.**"
   ]
  },
  {
   "cell_type": "code",
   "execution_count": 21,
   "metadata": {},
   "outputs": [
    {
     "data": {
      "text/html": [
       "<div>\n",
       "<style scoped>\n",
       "    .dataframe tbody tr th:only-of-type {\n",
       "        vertical-align: middle;\n",
       "    }\n",
       "\n",
       "    .dataframe tbody tr th {\n",
       "        vertical-align: top;\n",
       "    }\n",
       "\n",
       "    .dataframe thead th {\n",
       "        text-align: right;\n",
       "    }\n",
       "</style>\n",
       "<table border=\"1\" class=\"dataframe\">\n",
       "  <thead>\n",
       "    <tr style=\"text-align: right;\">\n",
       "      <th></th>\n",
       "      <th>hypothesis</th>\n",
       "      <th>reach</th>\n",
       "      <th>impact</th>\n",
       "      <th>confidence</th>\n",
       "      <th>efforts</th>\n",
       "      <th>ICE</th>\n",
       "      <th>RICE</th>\n",
       "    </tr>\n",
       "  </thead>\n",
       "  <tbody>\n",
       "    <tr>\n",
       "      <th>7</th>\n",
       "      <td>Добавить форму подписки на все основные страницы, чтобы собрать базу клиентов для email-рассылок</td>\n",
       "      <td>10</td>\n",
       "      <td>7</td>\n",
       "      <td>8</td>\n",
       "      <td>5</td>\n",
       "      <td>11.20</td>\n",
       "      <td>112.0</td>\n",
       "    </tr>\n",
       "    <tr>\n",
       "      <th>2</th>\n",
       "      <td>Добавить блоки рекомендаций товаров на сайт интернет магазина, чтобы повысить конверсию и средний чек заказа</td>\n",
       "      <td>8</td>\n",
       "      <td>3</td>\n",
       "      <td>7</td>\n",
       "      <td>3</td>\n",
       "      <td>7.00</td>\n",
       "      <td>56.0</td>\n",
       "    </tr>\n",
       "    <tr>\n",
       "      <th>0</th>\n",
       "      <td>Добавить два новых канала привлечения трафика, что позволит привлекать на 30% больше пользователей</td>\n",
       "      <td>3</td>\n",
       "      <td>10</td>\n",
       "      <td>8</td>\n",
       "      <td>6</td>\n",
       "      <td>13.33</td>\n",
       "      <td>40.0</td>\n",
       "    </tr>\n",
       "    <tr>\n",
       "      <th>6</th>\n",
       "      <td>Показать на главной странице баннеры с актуальными акциями и распродажами, чтобы увеличить конверсию</td>\n",
       "      <td>5</td>\n",
       "      <td>3</td>\n",
       "      <td>8</td>\n",
       "      <td>3</td>\n",
       "      <td>8.00</td>\n",
       "      <td>40.0</td>\n",
       "    </tr>\n",
       "    <tr>\n",
       "      <th>8</th>\n",
       "      <td>Запустить акцию, дающую скидку на товар в день рождения</td>\n",
       "      <td>1</td>\n",
       "      <td>9</td>\n",
       "      <td>9</td>\n",
       "      <td>5</td>\n",
       "      <td>16.20</td>\n",
       "      <td>16.2</td>\n",
       "    </tr>\n",
       "    <tr>\n",
       "      <th>3</th>\n",
       "      <td>Изменить структура категорий, что увеличит конверсию, т.к. пользователи быстрее найдут нужный товар</td>\n",
       "      <td>8</td>\n",
       "      <td>3</td>\n",
       "      <td>3</td>\n",
       "      <td>8</td>\n",
       "      <td>1.12</td>\n",
       "      <td>9.0</td>\n",
       "    </tr>\n",
       "    <tr>\n",
       "      <th>1</th>\n",
       "      <td>Запустить собственную службу доставки, что сократит срок доставки заказов</td>\n",
       "      <td>2</td>\n",
       "      <td>5</td>\n",
       "      <td>4</td>\n",
       "      <td>10</td>\n",
       "      <td>2.00</td>\n",
       "      <td>4.0</td>\n",
       "    </tr>\n",
       "    <tr>\n",
       "      <th>5</th>\n",
       "      <td>Добавить страницу отзывов клиентов о магазине, что позволит увеличить количество заказов</td>\n",
       "      <td>3</td>\n",
       "      <td>2</td>\n",
       "      <td>2</td>\n",
       "      <td>3</td>\n",
       "      <td>1.33</td>\n",
       "      <td>4.0</td>\n",
       "    </tr>\n",
       "    <tr>\n",
       "      <th>4</th>\n",
       "      <td>Изменить цвет фона главной страницы, чтобы увеличить вовлеченность пользователей</td>\n",
       "      <td>3</td>\n",
       "      <td>1</td>\n",
       "      <td>1</td>\n",
       "      <td>1</td>\n",
       "      <td>1.00</td>\n",
       "      <td>3.0</td>\n",
       "    </tr>\n",
       "  </tbody>\n",
       "</table>\n",
       "</div>"
      ],
      "text/plain": [
       "                                                                                                     hypothesis  \\\n",
       "7              Добавить форму подписки на все основные страницы, чтобы собрать базу клиентов для email-рассылок   \n",
       "2  Добавить блоки рекомендаций товаров на сайт интернет магазина, чтобы повысить конверсию и средний чек заказа   \n",
       "0            Добавить два новых канала привлечения трафика, что позволит привлекать на 30% больше пользователей   \n",
       "6          Показать на главной странице баннеры с актуальными акциями и распродажами, чтобы увеличить конверсию   \n",
       "8                                                       Запустить акцию, дающую скидку на товар в день рождения   \n",
       "3           Изменить структура категорий, что увеличит конверсию, т.к. пользователи быстрее найдут нужный товар   \n",
       "1                                     Запустить собственную службу доставки, что сократит срок доставки заказов   \n",
       "5                      Добавить страницу отзывов клиентов о магазине, что позволит увеличить количество заказов   \n",
       "4                              Изменить цвет фона главной страницы, чтобы увеличить вовлеченность пользователей   \n",
       "\n",
       "   reach  impact  confidence  efforts    ICE   RICE  \n",
       "7     10       7           8        5  11.20  112.0  \n",
       "2      8       3           7        3   7.00   56.0  \n",
       "0      3      10           8        6  13.33   40.0  \n",
       "6      5       3           8        3   8.00   40.0  \n",
       "8      1       9           9        5  16.20   16.2  \n",
       "3      8       3           3        8   1.12    9.0  \n",
       "1      2       5           4       10   2.00    4.0  \n",
       "5      3       2           2        3   1.33    4.0  \n",
       "4      3       1           1        1   1.00    3.0  "
      ]
     },
     "execution_count": 21,
     "metadata": {},
     "output_type": "execute_result"
    }
   ],
   "source": [
    "hypothesis['RICE'] = (hypothesis['reach'] * hypothesis['impact'] *  hypothesis['confidence']) / hypothesis['efforts']\n",
    "hypothesis.sort_values(by='RICE', ascending=False, inplace=True)\n",
    "hypothesis "
   ]
  },
  {
   "cell_type": "markdown",
   "metadata": {},
   "source": [
    "По RICE приоритет у 7, 2 и 0 гипотез."
   ]
  },
  {
   "cell_type": "markdown",
   "metadata": {},
   "source": [
    "**Вывод:** Разница фреймворков ICE и RICE между собой заключается в том, что RICE учитывает кол-во пользователей (охват), которых затронут изменения, а ICE - нет. Видим, что 8-ая гипотеза опустилась. Её охват (reach) равен 1, в то время как  у 7-ой гипотезы он равен 10, поэтому она вырвалась в лидеры."
   ]
  },
  {
   "cell_type": "markdown",
   "metadata": {},
   "source": [
    "## Анализ А/В-теста"
   ]
  },
  {
   "cell_type": "markdown",
   "metadata": {},
   "source": [
    "Предварительно изучим количество заказов и посещений в каждой из групп."
   ]
  },
  {
   "cell_type": "code",
   "execution_count": 22,
   "metadata": {},
   "outputs": [
    {
     "data": {
      "text/plain": [
       "18736"
      ]
     },
     "execution_count": 22,
     "metadata": {},
     "output_type": "execute_result"
    }
   ],
   "source": [
    "# количество посещений в группе А\n",
    "visitors.query('group == \"A\"')['visitors'].sum()"
   ]
  },
  {
   "cell_type": "code",
   "execution_count": 23,
   "metadata": {},
   "outputs": [
    {
     "data": {
      "text/plain": [
       "18916"
      ]
     },
     "execution_count": 23,
     "metadata": {},
     "output_type": "execute_result"
    }
   ],
   "source": [
    "# количество посещений в группе B\n",
    "visitors.query('group == \"B\"')['visitors'].sum()"
   ]
  },
  {
   "cell_type": "code",
   "execution_count": 24,
   "metadata": {},
   "outputs": [
    {
     "data": {
      "text/plain": [
       "557"
      ]
     },
     "execution_count": 24,
     "metadata": {},
     "output_type": "execute_result"
    }
   ],
   "source": [
    "# количество заказов в группе А\n",
    "orders.query('group == \"A\"').shape[0]"
   ]
  },
  {
   "cell_type": "code",
   "execution_count": 25,
   "metadata": {
    "scrolled": true
   },
   "outputs": [
    {
     "data": {
      "text/plain": [
       "640"
      ]
     },
     "execution_count": 25,
     "metadata": {},
     "output_type": "execute_result"
    }
   ],
   "source": [
    "# количество заказов в группе В\n",
    "orders.query('group == \"B\"').shape[0]"
   ]
  },
  {
   "cell_type": "markdown",
   "metadata": {},
   "source": [
    "В группе В на 180 посещений больше, чем в группе А."
   ]
  },
  {
   "cell_type": "markdown",
   "metadata": {},
   "source": [
    " Проверим, не попали ли некоторые пользователи в разные группы."
   ]
  },
  {
   "cell_type": "code",
   "execution_count": 26,
   "metadata": {},
   "outputs": [],
   "source": [
    "visitorsA = orders[orders['group']=='A']['visitorId']\n",
    "visitorsB = orders[orders['group']=='B']['visitorId']"
   ]
  },
  {
   "cell_type": "code",
   "execution_count": 27,
   "metadata": {},
   "outputs": [],
   "source": [
    "visitors_AB = orders.loc[orders['visitorId'].isin(visitorsA) & orders['visitorId'].isin(visitorsB), 'visitorId'].unique()"
   ]
  },
  {
   "cell_type": "code",
   "execution_count": 28,
   "metadata": {},
   "outputs": [
    {
     "data": {
      "text/plain": [
       "58"
      ]
     },
     "execution_count": 28,
     "metadata": {},
     "output_type": "execute_result"
    }
   ],
   "source": [
    "visitors_AB.shape[0]"
   ]
  },
  {
   "cell_type": "code",
   "execution_count": 29,
   "metadata": {
    "scrolled": true
   },
   "outputs": [
    {
     "data": {
      "text/plain": [
       "1031"
      ]
     },
     "execution_count": 29,
     "metadata": {},
     "output_type": "execute_result"
    }
   ],
   "source": [
    "(orders.groupby('visitorId')['group'].nunique()>1).count()"
   ]
  },
  {
   "cell_type": "markdown",
   "metadata": {},
   "source": [
    "Удалим таких пользователей и посмотрим, сколько осталось."
   ]
  },
  {
   "cell_type": "code",
   "execution_count": 30,
   "metadata": {
    "scrolled": true
   },
   "outputs": [
    {
     "data": {
      "text/plain": [
       "973"
      ]
     },
     "execution_count": 30,
     "metadata": {},
     "output_type": "execute_result"
    }
   ],
   "source": [
    "orders = orders.loc[~orders['visitorId'].isin(visitors_AB)]\n",
    "(orders.groupby('visitorId')['group'].nunique()>1).count()"
   ]
  },
  {
   "cell_type": "markdown",
   "metadata": {},
   "source": [
    "Подготовим таблицу с куммулятивными данными по выручке и посещениям."
   ]
  },
  {
   "cell_type": "code",
   "execution_count": 31,
   "metadata": {},
   "outputs": [],
   "source": [
    "register_matplotlib_converters()\n",
    "dates_groups = orders[['date','group']].drop_duplicates()"
   ]
  },
  {
   "cell_type": "code",
   "execution_count": 32,
   "metadata": {},
   "outputs": [],
   "source": [
    "dates_groups = orders[['date','group']].drop_duplicates()\n",
    "orders_aggregated = (dates_groups\n",
    "                     .apply(lambda x: orders[np.logical_and(orders['date'] <= x['date'], orders['group'] ==  x['group'])]\n",
    "                    .agg({'date':'max', 'group':'max', 'revenue':'sum', 'transactionId':'nunique'}), axis=1) \n",
    "                    .sort_values(by=['date','group']))"
   ]
  },
  {
   "cell_type": "code",
   "execution_count": 33,
   "metadata": {},
   "outputs": [
    {
     "data": {
      "text/html": [
       "<div>\n",
       "<style scoped>\n",
       "    .dataframe tbody tr th:only-of-type {\n",
       "        vertical-align: middle;\n",
       "    }\n",
       "\n",
       "    .dataframe tbody tr th {\n",
       "        vertical-align: top;\n",
       "    }\n",
       "\n",
       "    .dataframe thead th {\n",
       "        text-align: right;\n",
       "    }\n",
       "</style>\n",
       "<table border=\"1\" class=\"dataframe\">\n",
       "  <thead>\n",
       "    <tr style=\"text-align: right;\">\n",
       "      <th></th>\n",
       "      <th>date</th>\n",
       "      <th>group</th>\n",
       "      <th>revenue</th>\n",
       "      <th>orders</th>\n",
       "    </tr>\n",
       "  </thead>\n",
       "  <tbody>\n",
       "    <tr>\n",
       "      <th>55</th>\n",
       "      <td>2019-08-01</td>\n",
       "      <td>A</td>\n",
       "      <td>142779</td>\n",
       "      <td>23</td>\n",
       "    </tr>\n",
       "    <tr>\n",
       "      <th>66</th>\n",
       "      <td>2019-08-01</td>\n",
       "      <td>B</td>\n",
       "      <td>59758</td>\n",
       "      <td>17</td>\n",
       "    </tr>\n",
       "    <tr>\n",
       "      <th>175</th>\n",
       "      <td>2019-08-02</td>\n",
       "      <td>A</td>\n",
       "      <td>234381</td>\n",
       "      <td>42</td>\n",
       "    </tr>\n",
       "    <tr>\n",
       "      <th>173</th>\n",
       "      <td>2019-08-02</td>\n",
       "      <td>B</td>\n",
       "      <td>221801</td>\n",
       "      <td>40</td>\n",
       "    </tr>\n",
       "    <tr>\n",
       "      <th>291</th>\n",
       "      <td>2019-08-03</td>\n",
       "      <td>A</td>\n",
       "      <td>346854</td>\n",
       "      <td>66</td>\n",
       "    </tr>\n",
       "  </tbody>\n",
       "</table>\n",
       "</div>"
      ],
      "text/plain": [
       "          date group  revenue  orders\n",
       "55  2019-08-01     A   142779      23\n",
       "66  2019-08-01     B    59758      17\n",
       "175 2019-08-02     A   234381      42\n",
       "173 2019-08-02     B   221801      40\n",
       "291 2019-08-03     A   346854      66"
      ]
     },
     "execution_count": 33,
     "metadata": {},
     "output_type": "execute_result"
    }
   ],
   "source": [
    "orders_aggregated.rename(columns={'transactionId':'orders'}, inplace=True)\n",
    "orders_aggregated.head()"
   ]
  },
  {
   "cell_type": "code",
   "execution_count": 34,
   "metadata": {},
   "outputs": [
    {
     "data": {
      "text/html": [
       "<div>\n",
       "<style scoped>\n",
       "    .dataframe tbody tr th:only-of-type {\n",
       "        vertical-align: middle;\n",
       "    }\n",
       "\n",
       "    .dataframe tbody tr th {\n",
       "        vertical-align: top;\n",
       "    }\n",
       "\n",
       "    .dataframe thead th {\n",
       "        text-align: right;\n",
       "    }\n",
       "</style>\n",
       "<table border=\"1\" class=\"dataframe\">\n",
       "  <thead>\n",
       "    <tr style=\"text-align: right;\">\n",
       "      <th></th>\n",
       "      <th>date</th>\n",
       "      <th>group</th>\n",
       "      <th>visitors</th>\n",
       "    </tr>\n",
       "  </thead>\n",
       "  <tbody>\n",
       "    <tr>\n",
       "      <th>55</th>\n",
       "      <td>2019-08-01</td>\n",
       "      <td>A</td>\n",
       "      <td>719</td>\n",
       "    </tr>\n",
       "    <tr>\n",
       "      <th>66</th>\n",
       "      <td>2019-08-01</td>\n",
       "      <td>B</td>\n",
       "      <td>713</td>\n",
       "    </tr>\n",
       "    <tr>\n",
       "      <th>175</th>\n",
       "      <td>2019-08-02</td>\n",
       "      <td>A</td>\n",
       "      <td>1338</td>\n",
       "    </tr>\n",
       "    <tr>\n",
       "      <th>173</th>\n",
       "      <td>2019-08-02</td>\n",
       "      <td>B</td>\n",
       "      <td>1294</td>\n",
       "    </tr>\n",
       "    <tr>\n",
       "      <th>291</th>\n",
       "      <td>2019-08-03</td>\n",
       "      <td>A</td>\n",
       "      <td>1845</td>\n",
       "    </tr>\n",
       "  </tbody>\n",
       "</table>\n",
       "</div>"
      ],
      "text/plain": [
       "          date group  visitors\n",
       "55  2019-08-01     A       719\n",
       "66  2019-08-01     B       713\n",
       "175 2019-08-02     A      1338\n",
       "173 2019-08-02     B      1294\n",
       "291 2019-08-03     A      1845"
      ]
     },
     "execution_count": 34,
     "metadata": {},
     "output_type": "execute_result"
    }
   ],
   "source": [
    "visitors_aggregated = (dates_groups\n",
    "                     .apply(lambda x: visitors[np.logical_and(visitors['date'] <= x['date'], visitors['group'] ==  x['group'])]\n",
    "                    .agg({'date':'max', 'group':'max', 'visitors':'sum'}), axis=1) \n",
    "                    .sort_values(by=['date','group']))\n",
    "visitors_aggregated.head()"
   ]
  },
  {
   "cell_type": "markdown",
   "metadata": {},
   "source": [
    "**Построим график кумулятивной выручки по группам.**"
   ]
  },
  {
   "cell_type": "code",
   "execution_count": 35,
   "metadata": {},
   "outputs": [
    {
     "data": {
      "text/html": [
       "<div>\n",
       "<style scoped>\n",
       "    .dataframe tbody tr th:only-of-type {\n",
       "        vertical-align: middle;\n",
       "    }\n",
       "\n",
       "    .dataframe tbody tr th {\n",
       "        vertical-align: top;\n",
       "    }\n",
       "\n",
       "    .dataframe thead th {\n",
       "        text-align: right;\n",
       "    }\n",
       "</style>\n",
       "<table border=\"1\" class=\"dataframe\">\n",
       "  <thead>\n",
       "    <tr style=\"text-align: right;\">\n",
       "      <th></th>\n",
       "      <th>date</th>\n",
       "      <th>group</th>\n",
       "      <th>revenue</th>\n",
       "      <th>orders</th>\n",
       "      <th>visitors</th>\n",
       "    </tr>\n",
       "  </thead>\n",
       "  <tbody>\n",
       "    <tr>\n",
       "      <th>0</th>\n",
       "      <td>2019-08-01</td>\n",
       "      <td>A</td>\n",
       "      <td>142779</td>\n",
       "      <td>23</td>\n",
       "      <td>719</td>\n",
       "    </tr>\n",
       "    <tr>\n",
       "      <th>1</th>\n",
       "      <td>2019-08-01</td>\n",
       "      <td>B</td>\n",
       "      <td>59758</td>\n",
       "      <td>17</td>\n",
       "      <td>713</td>\n",
       "    </tr>\n",
       "    <tr>\n",
       "      <th>2</th>\n",
       "      <td>2019-08-02</td>\n",
       "      <td>A</td>\n",
       "      <td>234381</td>\n",
       "      <td>42</td>\n",
       "      <td>1338</td>\n",
       "    </tr>\n",
       "    <tr>\n",
       "      <th>3</th>\n",
       "      <td>2019-08-02</td>\n",
       "      <td>B</td>\n",
       "      <td>221801</td>\n",
       "      <td>40</td>\n",
       "      <td>1294</td>\n",
       "    </tr>\n",
       "    <tr>\n",
       "      <th>4</th>\n",
       "      <td>2019-08-03</td>\n",
       "      <td>A</td>\n",
       "      <td>346854</td>\n",
       "      <td>66</td>\n",
       "      <td>1845</td>\n",
       "    </tr>\n",
       "  </tbody>\n",
       "</table>\n",
       "</div>"
      ],
      "text/plain": [
       "        date group  revenue  orders  visitors\n",
       "0 2019-08-01     A   142779      23       719\n",
       "1 2019-08-01     B    59758      17       713\n",
       "2 2019-08-02     A   234381      42      1338\n",
       "3 2019-08-02     B   221801      40      1294\n",
       "4 2019-08-03     A   346854      66      1845"
      ]
     },
     "execution_count": 35,
     "metadata": {},
     "output_type": "execute_result"
    }
   ],
   "source": [
    "cumulative_data = orders_aggregated.merge(visitors_aggregated, on=['date','group'])\n",
    "cumulative_data.head()"
   ]
  },
  {
   "cell_type": "code",
   "execution_count": 36,
   "metadata": {},
   "outputs": [
    {
     "data": {
      "image/png": "[encoded data removed]",
      "text/plain": [
       "<Figure size 1000x500 with 1 Axes>"
      ]
     },
     "metadata": {},
     "output_type": "display_data"
    }
   ],
   "source": [
    "cumulative_a = cumulative_data.loc[cumulative_data['group'] == 'A',['date', 'revenue', 'orders', 'visitors']]\n",
    "cumulative_b = cumulative_data.loc[cumulative_data['group'] == 'B',['date', 'revenue', 'orders', 'visitors']]\n",
    "\n",
    "plt.figure(figsize=(10, 5))\n",
    "plt.plot(cumulative_a['date'], cumulative_a['revenue'], label='A')\n",
    "plt.plot(cumulative_b['date'], cumulative_b['revenue'], label='B')\n",
    "plt.xticks(rotation=45)\n",
    "plt.ylabel('Выручка')\n",
    "plt.xlabel('Дата')\n",
    "plt.title('Кумулятивная выручка по группам')\n",
    "plt.legend();"
   ]
  },
  {
   "cell_type": "markdown",
   "metadata": {},
   "source": [
    "Группа А растет постепенно, в то время как в В есть резкий рост после 17.08. Это может быть большим заказом."
   ]
  },
  {
   "cell_type": "markdown",
   "metadata": {},
   "source": [
    "**Построим график кумулятивного среднего чека по группам.**"
   ]
  },
  {
   "cell_type": "code",
   "execution_count": 37,
   "metadata": {},
   "outputs": [
    {
     "data": {
      "image/png": "[encoded data removed]",
      "text/plain": [
       "<Figure size 1000x500 with 1 Axes>"
      ]
     },
     "metadata": {},
     "output_type": "display_data"
    }
   ],
   "source": [
    "plt.figure(figsize=(10, 5))\n",
    "plt.plot(cumulative_a['date'], cumulative_a['revenue'] / cumulative_a['orders'], label='A')\n",
    "plt.plot(cumulative_b['date'], cumulative_b['revenue'] / cumulative_b['orders'], label='B')\n",
    "plt.xticks(rotation=45)\n",
    "plt.xlabel('Дата')\n",
    "plt.ylabel('Средний чек')\n",
    "plt.title('Кумулятивный средний чек по группам')\n",
    "plt.legend();"
   ]
  },
  {
   "cell_type": "markdown",
   "metadata": {},
   "source": [
    "Средний чек обеих групп выравнивается после 13.08. Однако видим, что по группе В есть большой скачок после 17.08 и после него чек этой группы начинает снижаться."
   ]
  },
  {
   "cell_type": "markdown",
   "metadata": {},
   "source": [
    "**Построим график относительного изменения кумулятивного среднего чека группы B к группе A.**"
   ]
  },
  {
   "cell_type": "code",
   "execution_count": 38,
   "metadata": {},
   "outputs": [
    {
     "data": {
      "text/html": [
       "<div>\n",
       "<style scoped>\n",
       "    .dataframe tbody tr th:only-of-type {\n",
       "        vertical-align: middle;\n",
       "    }\n",
       "\n",
       "    .dataframe tbody tr th {\n",
       "        vertical-align: top;\n",
       "    }\n",
       "\n",
       "    .dataframe thead th {\n",
       "        text-align: right;\n",
       "    }\n",
       "</style>\n",
       "<table border=\"1\" class=\"dataframe\">\n",
       "  <thead>\n",
       "    <tr style=\"text-align: right;\">\n",
       "      <th></th>\n",
       "      <th>date</th>\n",
       "      <th>revenue_a</th>\n",
       "      <th>orders_a</th>\n",
       "      <th>visitors_a</th>\n",
       "      <th>revenue_b</th>\n",
       "      <th>orders_b</th>\n",
       "      <th>visitors_b</th>\n",
       "    </tr>\n",
       "  </thead>\n",
       "  <tbody>\n",
       "    <tr>\n",
       "      <th>0</th>\n",
       "      <td>2019-08-01</td>\n",
       "      <td>142779</td>\n",
       "      <td>23</td>\n",
       "      <td>719</td>\n",
       "      <td>59758</td>\n",
       "      <td>17</td>\n",
       "      <td>713</td>\n",
       "    </tr>\n",
       "    <tr>\n",
       "      <th>1</th>\n",
       "      <td>2019-08-02</td>\n",
       "      <td>234381</td>\n",
       "      <td>42</td>\n",
       "      <td>1338</td>\n",
       "      <td>221801</td>\n",
       "      <td>40</td>\n",
       "      <td>1294</td>\n",
       "    </tr>\n",
       "    <tr>\n",
       "      <th>2</th>\n",
       "      <td>2019-08-03</td>\n",
       "      <td>346854</td>\n",
       "      <td>66</td>\n",
       "      <td>1845</td>\n",
       "      <td>288850</td>\n",
       "      <td>54</td>\n",
       "      <td>1803</td>\n",
       "    </tr>\n",
       "    <tr>\n",
       "      <th>3</th>\n",
       "      <td>2019-08-04</td>\n",
       "      <td>388030</td>\n",
       "      <td>77</td>\n",
       "      <td>2562</td>\n",
       "      <td>385740</td>\n",
       "      <td>68</td>\n",
       "      <td>2573</td>\n",
       "    </tr>\n",
       "    <tr>\n",
       "      <th>4</th>\n",
       "      <td>2019-08-05</td>\n",
       "      <td>474413</td>\n",
       "      <td>99</td>\n",
       "      <td>3318</td>\n",
       "      <td>475648</td>\n",
       "      <td>89</td>\n",
       "      <td>3280</td>\n",
       "    </tr>\n",
       "  </tbody>\n",
       "</table>\n",
       "</div>"
      ],
      "text/plain": [
       "        date  revenue_a  orders_a  visitors_a  revenue_b  orders_b  visitors_b\n",
       "0 2019-08-01     142779        23         719      59758        17         713\n",
       "1 2019-08-02     234381        42        1338     221801        40        1294\n",
       "2 2019-08-03     346854        66        1845     288850        54        1803\n",
       "3 2019-08-04     388030        77        2562     385740        68        2573\n",
       "4 2019-08-05     474413        99        3318     475648        89        3280"
      ]
     },
     "execution_count": 38,
     "metadata": {},
     "output_type": "execute_result"
    }
   ],
   "source": [
    "# собираем данные в одном датафрейме\n",
    "merged_cumulative = cumulative_a.merge(cumulative_b, on=['date'], suffixes=('_a', '_b'))\n",
    "merged_cumulative.head()"
   ]
  },
  {
   "cell_type": "code",
   "execution_count": 39,
   "metadata": {
    "scrolled": false
   },
   "outputs": [
    {
     "data": {
      "image/png": "[encoded data removed]",
      "text/plain": [
       "<Figure size 1000x500 with 1 Axes>"
      ]
     },
     "metadata": {},
     "output_type": "display_data"
    }
   ],
   "source": [
    "plt.figure(figsize=(10, 5))\n",
    "plt.plot(merged_cumulative['date'],\n",
    "    (merged_cumulative['revenue_b'] / merged_cumulative['orders_b']) / \n",
    "    (merged_cumulative['revenue_a'] / merged_cumulative['orders_a']) -1)\n",
    "plt.xticks(rotation=45)\n",
    "plt.xlabel('Дата')\n",
    "plt.ylabel('Относительное изменение среднего чека')\n",
    "plt.title('Изменения относительного кумулятивного среднего чека')\n",
    "plt.axhline(y=0, color='grey', linestyle='--');"
   ]
  },
  {
   "cell_type": "markdown",
   "metadata": {},
   "source": [
    "Видим два скачка 05.08 и 17.08. Скачок 17.08 отмечали на графике ранее. Вероятно, большие заказы есть и раньше."
   ]
  },
  {
   "cell_type": "markdown",
   "metadata": {},
   "source": [
    "**Построим график кумулятивного среднего количества заказов на посетителя по группам.**"
   ]
  },
  {
   "cell_type": "code",
   "execution_count": 40,
   "metadata": {},
   "outputs": [
    {
     "data": {
      "image/png": "[encoded data removed]",
      "text/plain": [
       "<Figure size 1000x500 with 1 Axes>"
      ]
     },
     "metadata": {},
     "output_type": "display_data"
    }
   ],
   "source": [
    "plt.figure(figsize=(10, 5))\n",
    "plt.plot(cumulative_a['date'], cumulative_a['orders'] / cumulative_a['visitors'], label='A')\n",
    "plt.plot(cumulative_b['date'], cumulative_b['orders'] / cumulative_b['visitors'], label='B')\n",
    "plt.xticks(rotation=45)\n",
    "plt.xlabel('Дата')\n",
    "plt.ylabel('Среднее количество заказов на посетителя')\n",
    "plt.title('Кумулятивное среднее количество заказов на посетителя по группам')\n",
    "plt.axis(xmin=cumulative_a['date'].min(), xmax=cumulative_a['date'].max(), ymin=0.020, ymax=0.04)\n",
    "plt.legend();"
   ]
  },
  {
   "cell_type": "markdown",
   "metadata": {},
   "source": [
    "Видим, что до определенного значения графики колебались, затем выровнялись, группа В начала лидировать и показала себя лучше."
   ]
  },
  {
   "cell_type": "markdown",
   "metadata": {},
   "source": [
    "**Построим график относительного изменения кумулятивного среднего количества заказов на посетителя группы B к группе A**"
   ]
  },
  {
   "cell_type": "code",
   "execution_count": 41,
   "metadata": {},
   "outputs": [
    {
     "data": {
      "image/png": "[encoded data removed]",
      "text/plain": [
       "<Figure size 1000x500 with 1 Axes>"
      ]
     },
     "metadata": {},
     "output_type": "display_data"
    }
   ],
   "source": [
    "plt.figure(figsize=(10, 5))\n",
    "plt.plot(merged_cumulative['date'],\n",
    "        (merged_cumulative['orders_b'] / merged_cumulative['visitors_b']) \n",
    "        / (merged_cumulative['orders_a'] / merged_cumulative['visitors_a']) -1)\n",
    "plt.xticks(rotation=45)\n",
    "plt.xlabel('Дата')\n",
    "plt.ylabel('Относительное изменение среднего количества\\n заказов на посетителя')\n",
    "plt.title('Относительное изменение кумулятивного среднего количества заказов на посетителя группы B к группе A')\n",
    "plt.axis(xmin=merged_cumulative['date'].min(), xmax=merged_cumulative['date'].max(), ymin=-0.3, ymax=0.3)\n",
    "plt.axhline(y=0, color='grey', linestyle='--');"
   ]
  },
  {
   "cell_type": "markdown",
   "metadata": {},
   "source": [
    "В начале группа В проигрывала группе А, но затем существенно обогнала и показала результат лучше. Нужно проверить аномалии."
   ]
  },
  {
   "cell_type": "markdown",
   "metadata": {},
   "source": [
    "**Построим точечный график стоимостей заказов. Посчитаем 95-й и 99-й перцентили стоимости заказов. Выберем границу для определения аномальных заказов.**"
   ]
  },
  {
   "cell_type": "code",
   "execution_count": 42,
   "metadata": {},
   "outputs": [
    {
     "data": {
      "image/png": "[encoded data removed]",
      "text/plain": [
       "<Figure size 1000x500 with 1 Axes>"
      ]
     },
     "metadata": {},
     "output_type": "display_data"
    }
   ],
   "source": [
    "x_values = pd.Series(range(0,orders['revenue'].count())) \n",
    "\n",
    "plt.figure(figsize=(10, 5))\n",
    "sns.scatterplot(x=x_values, y='revenue', hue='group', data=orders)\n",
    "plt.ylabel('Стоимость заказа')\n",
    "plt.grid()\n",
    "plt.title('Точечный график стоимости заказов')\n",
    "plt.xlabel('Количество пользователей');"
   ]
  },
  {
   "cell_type": "markdown",
   "metadata": {},
   "source": [
    "Как предполагали ранее, средний чек группы В был увеличен всего из-за одного заказа. Уберем его."
   ]
  },
  {
   "cell_type": "code",
   "execution_count": 43,
   "metadata": {},
   "outputs": [
    {
     "name": "stdout",
     "output_type": "stream",
     "text": [
      "[26785. 53904.]\n"
     ]
    },
    {
     "data": {
      "image/png": "[encoded data removed]",
      "text/plain": [
       "<Figure size 1000x500 with 1 Axes>"
      ]
     },
     "metadata": {},
     "output_type": "display_data"
    }
   ],
   "source": [
    "orders_new = orders.query('revenue < 200000')\n",
    "x_values = pd.Series(range(0, orders_new['revenue'].count()))\n",
    "plt.figure(figsize=(10, 5))\n",
    "sns.scatterplot(x=x_values, y='revenue', hue='group', data=orders_new)\n",
    "plt.grid()\n",
    "plt.title('Точечный график стоимости заказов')\n",
    "plt.ylabel('Стоимость заказа')\n",
    "plt.xlabel('Количество пользователей');\n",
    "print(np.percentile(orders['revenue'], [95, 99]))"
   ]
  },
  {
   "cell_type": "markdown",
   "metadata": {},
   "source": [
    "Тут уже все выглядит более ясно, поэтому убираем все, что выше 99 перцентиля."
   ]
  },
  {
   "cell_type": "code",
   "execution_count": 44,
   "metadata": {},
   "outputs": [],
   "source": [
    "per_99 = np.percentile(orders['revenue'], [99])[0]\n",
    "orders_new = orders.query('revenue<= @per_99')"
   ]
  },
  {
   "cell_type": "markdown",
   "metadata": {},
   "source": [
    "Таблица с заказами очищена от аномально дорогих заказов, теперь изучим количество заказов."
   ]
  },
  {
   "cell_type": "markdown",
   "metadata": {},
   "source": [
    "**Построим точечный график количества заказов. Посчитаем 95-й и 99-й перцентили стоимости заказов. Выберем границу для определения аномальных пользователей.**"
   ]
  },
  {
   "cell_type": "code",
   "execution_count": 45,
   "metadata": {},
   "outputs": [
    {
     "data": {
      "image/png": "[encoded data removed]",
      "text/plain": [
       "<Figure size 640x480 with 1 Axes>"
      ]
     },
     "metadata": {},
     "output_type": "display_data"
    }
   ],
   "source": [
    "orders_by_users = (orders.groupby('visitorId')['revenue'].count()\n",
    "                   .reset_index()\n",
    "                   .rename(columns={'revenue':'orders'}))\n",
    "orders_by_users['orders'].hist()\n",
    "plt.ylabel('Частота')\n",
    "plt.xlabel('Количество заказов на пользователя')\n",
    "plt.title('Распределение количества заказов');"
   ]
  },
  {
   "cell_type": "markdown",
   "metadata": {},
   "source": [
    "В основном клиенты делают 1, намного реже 2 или 3 заказа."
   ]
  },
  {
   "cell_type": "code",
   "execution_count": 46,
   "metadata": {
    "scrolled": false
   },
   "outputs": [
    {
     "name": "stdout",
     "output_type": "stream",
     "text": [
      "[1. 2.]\n"
     ]
    },
    {
     "data": {
      "image/png": "[encoded data removed]",
      "text/plain": [
       "<Figure size 640x480 with 1 Axes>"
      ]
     },
     "metadata": {},
     "output_type": "display_data"
    }
   ],
   "source": [
    "x_values = pd.Series(range(0,orders_by_users['orders'].count()))\n",
    "plt.scatter(data=orders_by_users, x=x_values, y='orders') \n",
    "plt.grid()\n",
    "plt.title('Точечный график количества заказов на пользователя')\n",
    "plt.yticks([0, 1, 2, 3, 4]);\n",
    "plt.ylabel('Количество заказов на пользователя')\n",
    "plt.xlabel('Количество заказов')\n",
    "plt.xlabel('Количество пользователей');\n",
    "print(np.percentile(orders_by_users['orders'], [95, 99]))"
   ]
  },
  {
   "cell_type": "markdown",
   "metadata": {},
   "source": [
    "Больше двух заказов это аномалия. Уберем таких пользователей."
   ]
  },
  {
   "cell_type": "code",
   "execution_count": 47,
   "metadata": {},
   "outputs": [],
   "source": [
    "per_99 = np.percentile(orders_by_users['orders'], [99])[0]\n",
    "orders_by_users_new = orders_by_users.query('orders<= @per_99')"
   ]
  },
  {
   "cell_type": "markdown",
   "metadata": {},
   "source": [
    "Сформируем итоговую таблицу заказов без аномалий."
   ]
  },
  {
   "cell_type": "code",
   "execution_count": 48,
   "metadata": {},
   "outputs": [],
   "source": [
    "orders_new = orders_new.loc[orders_new['visitorId'].isin(orders_by_users_new['visitorId'])]"
   ]
  },
  {
   "cell_type": "code",
   "execution_count": 49,
   "metadata": {},
   "outputs": [
    {
     "name": "stdout",
     "output_type": "stream",
     "text": [
      "Абсолютные потери: 30\n",
      "Относительные потери: 3.1%\n"
     ]
    }
   ],
   "source": [
    "losses = orders.shape[0] - orders_new.shape[0]\n",
    "print('Абсолютные потери:', losses)\n",
    "print('Относительные потери: {0:.1%}'.format(losses / orders['visitorId'].nunique()))"
   ]
  },
  {
   "cell_type": "markdown",
   "metadata": {},
   "source": [
    "**Вывод:** Изучены сырые данные, подготовлена таблица по этим данным без аномалий. При аномалиях группа В показала себя лучше, но их мы убрали. Будем далее изучать данные."
   ]
  },
  {
   "cell_type": "markdown",
   "metadata": {},
   "source": [
    "## Статистическая значимость"
   ]
  },
  {
   "cell_type": "markdown",
   "metadata": {},
   "source": [
    "**Посчитаем статистическую значимость различий в среднем количестве заказов на посетителя между группами по «сырым» данным.**"
   ]
  },
  {
   "cell_type": "markdown",
   "metadata": {},
   "source": [
    "Для проверки будем использовать непараметрический критерий Манна-Уитни, так как с большой долей вероятности можно утверждать что данные у нас распределены ненормально."
   ]
  },
  {
   "cell_type": "markdown",
   "metadata": {},
   "source": [
    "- Н0 - статистические значимые различия среднего количества заказов на посетителя между группами отсутствуют\n",
    "- Н1 - статистические значимые различия среднего количества заказов на посетителя между группами есть"
   ]
  },
  {
   "cell_type": "code",
   "execution_count": 50,
   "metadata": {},
   "outputs": [],
   "source": [
    "orders_by_usersA = orders[orders['group']=='A'].groupby('visitorId')['transactionId'].nunique().reset_index()\n",
    "orders_by_usersA.columns=['visitorsId','orders']\n",
    "\n",
    "orders_by_usersB = orders[orders['group']=='B'].groupby('visitorId')['transactionId'].nunique().reset_index()\n",
    "orders_by_usersB.columns=['visitorsId','orders']"
   ]
  },
  {
   "cell_type": "code",
   "execution_count": 51,
   "metadata": {},
   "outputs": [],
   "source": [
    "freeloadersA = pd.Series(0, index=np.arange(visitors[visitors['group']=='A']['visitors'].sum() \n",
    "                                            - len(orders_by_usersA['orders'])), name='orders')\n",
    "freeloadersB = pd.Series(0, index=np.arange(visitors[visitors['group']=='B']['visitors'].sum() \n",
    "                                            - len(orders_by_usersB['orders'])), name='orders')"
   ]
  },
  {
   "cell_type": "code",
   "execution_count": 52,
   "metadata": {},
   "outputs": [],
   "source": [
    "sampleA = pd.concat([orders_by_usersA['orders'], freeloadersA])\n",
    "sampleB = pd.concat([orders_by_usersB['orders'], freeloadersB])"
   ]
  },
  {
   "cell_type": "code",
   "execution_count": 53,
   "metadata": {},
   "outputs": [
    {
     "name": "stdout",
     "output_type": "stream",
     "text": [
      "p_value: 0.01102\n"
     ]
    }
   ],
   "source": [
    "print('p_value: {:.5f}'.format(st.mannwhitneyu(sampleA, sampleB)[1]))"
   ]
  },
  {
   "cell_type": "markdown",
   "metadata": {},
   "source": [
    "P-value меньше 0.05, поэтому нулевую гипотезу отвергаем (есть различия)."
   ]
  },
  {
   "cell_type": "markdown",
   "metadata": {},
   "source": [
    "**Посчитаем статистическую значимость различий в среднем чеке заказа между группами по «сырым» данным.**"
   ]
  },
  {
   "cell_type": "markdown",
   "metadata": {},
   "source": [
    "- Н0 - статистические значимые различия среднего чека между группами отсутствуют\n",
    "- Н1 - статистические значимые различия среднего чека между группами есть"
   ]
  },
  {
   "cell_type": "code",
   "execution_count": 54,
   "metadata": {},
   "outputs": [
    {
     "name": "stdout",
     "output_type": "stream",
     "text": [
      "p_value: 0.82949\n",
      "Средний чек группы А: 7189.44\n",
      "Средний чек группы B: 9249.95\n",
      "Разница: 28.7%\n"
     ]
    }
   ],
   "source": [
    "print('p_value: {:.5f}'.format(\n",
    "    st.mannwhitneyu(orders[orders['group']=='A']['revenue'], orders[orders['group']=='B']['revenue'])[1]\n",
    "))\n",
    "print('Средний чек группы А: {:.2f}'.format(orders[orders['group']=='A']['revenue'].mean()))\n",
    "print('Средний чек группы B: {:.2f}'.format(orders[orders['group']=='B']['revenue'].mean()))\n",
    "print('Разница: {0:.1%}'.format(orders[orders['group']=='B']['revenue'].mean()\n",
    "                                /orders[orders['group']=='A']['revenue'].mean()-1))"
   ]
  },
  {
   "cell_type": "markdown",
   "metadata": {},
   "source": [
    "P-value значительно больше 0.05, значит нулевая гипотеза не отвергается (нет различий). Различие среднего чека между сегментами 28.7% или чуть больше 2000, что оказалось не статистически значимо."
   ]
  },
  {
   "cell_type": "markdown",
   "metadata": {},
   "source": [
    "**Посчитаем статистическую значимость различий в среднем количестве заказов на посетителя между группами по «очищенным» данным.**"
   ]
  },
  {
   "cell_type": "markdown",
   "metadata": {},
   "source": [
    "- Н0 - статистические значимые различия среднего количества заказов на посетителя между группами отсутствуют\n",
    "- Н1 - статистические значимые различия среднего количества заказов на посетителя между группами есть"
   ]
  },
  {
   "cell_type": "code",
   "execution_count": 55,
   "metadata": {},
   "outputs": [],
   "source": [
    "orders_by_usersA = orders_new[orders_new['group']=='A'].groupby('visitorId')['transactionId'].nunique().reset_index()\n",
    "orders_by_usersA.columns=['visitorsId','orders']\n",
    "\n",
    "orders_by_usersB = orders_new[orders_new['group']=='B'].groupby('visitorId')['transactionId'].nunique().reset_index()\n",
    "orders_by_usersB.columns=['visitorsId','orders']"
   ]
  },
  {
   "cell_type": "code",
   "execution_count": 56,
   "metadata": {},
   "outputs": [],
   "source": [
    "freeloadersA = pd.Series(0, index=np.arange(visitors[visitors['group']=='A']['visitors'].sum() \n",
    "                                            - len(orders_by_usersA['orders'])), name='orders')\n",
    "freeloadersB = pd.Series(0, index=np.arange(visitors[visitors['group']=='B']['visitors'].sum() \n",
    "                                            - len(orders_by_usersB['orders'])), name='orders')"
   ]
  },
  {
   "cell_type": "code",
   "execution_count": 57,
   "metadata": {},
   "outputs": [],
   "source": [
    "sampleA = pd.concat([orders_by_usersA['orders'], freeloadersA])\n",
    "sampleB = pd.concat([orders_by_usersB['orders'], freeloadersB])"
   ]
  },
  {
   "cell_type": "code",
   "execution_count": 58,
   "metadata": {},
   "outputs": [
    {
     "name": "stdout",
     "output_type": "stream",
     "text": [
      "p_value: 0.00695\n"
     ]
    }
   ],
   "source": [
    "print('p_value: {:.5f}'.format(st.mannwhitneyu(sampleA, sampleB)[1]))"
   ]
  },
  {
   "cell_type": "markdown",
   "metadata": {},
   "source": [
    "На очищенных данных ситуация почти не изменилась. Группа В так же в лидерах. Отвергаем нулевую гипотезу о равенстве среднего количества заказов."
   ]
  },
  {
   "cell_type": "markdown",
   "metadata": {},
   "source": [
    "**Посчитаем статистическую значимость различий в среднем чеке заказа между группами по «очищенным» данным.**"
   ]
  },
  {
   "cell_type": "markdown",
   "metadata": {},
   "source": [
    "- Н0 - статистические значимые различия среднего чека между группами отсутствуют\n",
    "- Н1 - статистические значимые различия среднего чека между группами есть"
   ]
  },
  {
   "cell_type": "code",
   "execution_count": 59,
   "metadata": {},
   "outputs": [
    {
     "name": "stdout",
     "output_type": "stream",
     "text": [
      "p_value: 0.78770\n",
      "Средний чек (очищенный) группы А: 6487.02\n",
      "Средний чек (очищенный) группы B: 6277.27\n",
      "Разница: -3.2%\n"
     ]
    }
   ],
   "source": [
    "print('p_value: {:.5f}'.format(\n",
    "    st.mannwhitneyu(orders_new[orders_new['group']=='A']['revenue'], orders_new[orders_new['group']=='B']['revenue'])[1]\n",
    "))\n",
    "print('Средний чек (очищенный) группы А: {:.2f}'.format(orders_new[orders_new['group']=='A']['revenue'].mean()))\n",
    "print('Средний чек (очищенный) группы B: {:.2f}'.format(orders_new[orders_new['group']=='B']['revenue'].mean()))\n",
    "print('Разница: {0:.1%}'.format(orders_new[orders_new['group']=='B']['revenue'].mean()\n",
    "                                /orders_new[orders_new['group']=='A']['revenue'].mean()-1))"
   ]
  },
  {
   "cell_type": "markdown",
   "metadata": {},
   "source": [
    "Мы по прежнему не можем отвергнуть нулевую гипотезу о равенстве среднего чека. Но заметим, что средние чеки значительно выровнялись, нет такой большой разницы между группами."
   ]
  },
  {
   "cell_type": "markdown",
   "metadata": {},
   "source": [
    "**Вывод:** \n",
    "- Есть статистически значимое различие по конверсии между группами и по сырым данным, и по очищенным данным\n",
    "- И по сырым данным, и по очищенным данным нет статистически значимого различия по среднему чеку между группами\n",
    "- Показатели группы B лучше группы A"
   ]
  },
  {
   "cell_type": "markdown",
   "metadata": {},
   "source": [
    "На основе выводов выше принимаем решение остановить А/В-тест и зафиксировать победу группы В."
   ]
  }
 ],
 "metadata": {
  "ExecuteTimeLog": [
   {
    "duration": 1423,
    "start_time": "2023-03-14T11:41:35.230Z"
   },
   {
    "duration": 215,
    "start_time": "2023-03-14T11:46:44.688Z"
   },
   {
    "duration": 32,
    "start_time": "2023-03-14T11:48:49.717Z"
   },
   {
    "duration": 13,
    "start_time": "2023-03-14T11:49:03.780Z"
   },
   {
    "duration": 8,
    "start_time": "2023-03-14T11:49:09.781Z"
   },
   {
    "duration": 11,
    "start_time": "2023-03-14T11:49:43.104Z"
   },
   {
    "duration": 6,
    "start_time": "2023-03-14T11:50:11.992Z"
   },
   {
    "duration": 4,
    "start_time": "2023-03-14T11:52:13.817Z"
   },
   {
    "duration": 11,
    "start_time": "2023-03-14T11:52:15.762Z"
   },
   {
    "duration": 6,
    "start_time": "2023-03-14T11:52:47.355Z"
   },
   {
    "duration": 8,
    "start_time": "2023-03-14T11:54:45.962Z"
   },
   {
    "duration": 11,
    "start_time": "2023-03-14T11:54:56.341Z"
   },
   {
    "duration": 5,
    "start_time": "2023-03-14T11:55:28.434Z"
   },
   {
    "duration": 6,
    "start_time": "2023-03-14T11:55:37.031Z"
   },
   {
    "duration": 13,
    "start_time": "2023-03-14T11:56:06.204Z"
   },
   {
    "duration": 6,
    "start_time": "2023-03-14T11:56:31.759Z"
   },
   {
    "duration": 10,
    "start_time": "2023-03-14T11:57:11.932Z"
   },
   {
    "duration": 17,
    "start_time": "2023-03-14T11:57:25.103Z"
   },
   {
    "duration": 16,
    "start_time": "2023-03-14T11:57:53.417Z"
   },
   {
    "duration": 112,
    "start_time": "2023-03-14T11:58:14.670Z"
   },
   {
    "duration": 6,
    "start_time": "2023-03-14T11:58:28.952Z"
   },
   {
    "duration": 14,
    "start_time": "2023-03-14T12:03:45.752Z"
   },
   {
    "duration": 3,
    "start_time": "2023-03-14T12:04:52.170Z"
   },
   {
    "duration": 11,
    "start_time": "2023-03-14T12:04:54.498Z"
   },
   {
    "duration": 2,
    "start_time": "2023-03-14T12:05:03.818Z"
   },
   {
    "duration": 12,
    "start_time": "2023-03-14T12:05:06.740Z"
   },
   {
    "duration": 12,
    "start_time": "2023-03-14T12:05:47.794Z"
   },
   {
    "duration": 99,
    "start_time": "2023-03-14T12:13:46.094Z"
   },
   {
    "duration": 8,
    "start_time": "2023-03-14T12:54:18.249Z"
   },
   {
    "duration": 7,
    "start_time": "2023-03-14T12:54:37.327Z"
   },
   {
    "duration": 10,
    "start_time": "2023-03-14T12:55:04.445Z"
   },
   {
    "duration": 8,
    "start_time": "2023-03-14T12:55:28.017Z"
   },
   {
    "duration": 7,
    "start_time": "2023-03-14T12:55:49.691Z"
   },
   {
    "duration": 6,
    "start_time": "2023-03-14T12:56:04.525Z"
   },
   {
    "duration": 6,
    "start_time": "2023-03-14T12:56:58.999Z"
   },
   {
    "duration": 5,
    "start_time": "2023-03-14T12:57:21.955Z"
   },
   {
    "duration": 7,
    "start_time": "2023-03-14T12:58:15.476Z"
   },
   {
    "duration": 4,
    "start_time": "2023-03-14T12:58:20.029Z"
   },
   {
    "duration": 7,
    "start_time": "2023-03-14T12:59:01.139Z"
   },
   {
    "duration": 6,
    "start_time": "2023-03-14T12:59:13.217Z"
   },
   {
    "duration": 74,
    "start_time": "2023-03-14T12:59:54.570Z"
   },
   {
    "duration": 7,
    "start_time": "2023-03-14T13:00:07.698Z"
   },
   {
    "duration": 13,
    "start_time": "2023-03-14T13:53:05.128Z"
   },
   {
    "duration": 9,
    "start_time": "2023-03-14T13:53:18.378Z"
   },
   {
    "duration": 8,
    "start_time": "2023-03-14T13:53:29.109Z"
   },
   {
    "duration": 6,
    "start_time": "2023-03-14T13:55:11.446Z"
   },
   {
    "duration": 151,
    "start_time": "2023-03-14T13:55:17.601Z"
   },
   {
    "duration": 10,
    "start_time": "2023-03-14T14:01:36.733Z"
   },
   {
    "duration": 142,
    "start_time": "2023-03-14T14:01:55.806Z"
   },
   {
    "duration": 17,
    "start_time": "2023-03-14T14:02:04.114Z"
   },
   {
    "duration": 25,
    "start_time": "2023-03-14T14:02:06.757Z"
   },
   {
    "duration": 6,
    "start_time": "2023-03-14T14:02:36.779Z"
   },
   {
    "duration": 153,
    "start_time": "2023-03-14T14:02:37.706Z"
   },
   {
    "duration": 11,
    "start_time": "2023-03-14T14:02:38.255Z"
   },
   {
    "duration": 148,
    "start_time": "2023-03-14T14:02:44.677Z"
   },
   {
    "duration": 15,
    "start_time": "2023-03-14T14:02:50.325Z"
   },
   {
    "duration": 26,
    "start_time": "2023-03-14T14:03:23.120Z"
   },
   {
    "duration": 19,
    "start_time": "2023-03-14T14:03:37.510Z"
   },
   {
    "duration": 308,
    "start_time": "2023-03-14T14:04:03.588Z"
   },
   {
    "duration": 213,
    "start_time": "2023-03-14T14:04:18.782Z"
   },
   {
    "duration": 1146,
    "start_time": "2023-03-14T14:33:28.474Z"
   },
   {
    "duration": 182,
    "start_time": "2023-03-14T14:33:57.700Z"
   },
   {
    "duration": 12,
    "start_time": "2023-03-14T14:37:21.112Z"
   },
   {
    "duration": 1113,
    "start_time": "2023-03-14T14:38:19.702Z"
   },
   {
    "duration": 1285,
    "start_time": "2023-03-14T14:39:20.653Z"
   },
   {
    "duration": 12,
    "start_time": "2023-03-14T14:39:33.464Z"
   },
   {
    "duration": 332,
    "start_time": "2023-03-14T14:40:05.616Z"
   },
   {
    "duration": 370,
    "start_time": "2023-03-14T14:40:14.716Z"
   },
   {
    "duration": 305,
    "start_time": "2023-03-14T14:40:34.522Z"
   },
   {
    "duration": 289,
    "start_time": "2023-03-14T14:49:17.669Z"
   },
   {
    "duration": 302,
    "start_time": "2023-03-14T14:49:35.815Z"
   },
   {
    "duration": 279,
    "start_time": "2023-03-14T14:49:42.981Z"
   },
   {
    "duration": 281,
    "start_time": "2023-03-14T14:49:47.646Z"
   },
   {
    "duration": 306,
    "start_time": "2023-03-14T14:49:58.111Z"
   },
   {
    "duration": 1448,
    "start_time": "2023-03-15T06:41:23.794Z"
   },
   {
    "duration": 206,
    "start_time": "2023-03-15T06:41:25.244Z"
   },
   {
    "duration": 14,
    "start_time": "2023-03-15T06:41:25.452Z"
   },
   {
    "duration": 4,
    "start_time": "2023-03-15T06:41:25.468Z"
   },
   {
    "duration": 13,
    "start_time": "2023-03-15T06:41:25.475Z"
   },
   {
    "duration": 10,
    "start_time": "2023-03-15T06:41:25.491Z"
   },
   {
    "duration": 20,
    "start_time": "2023-03-15T06:41:25.503Z"
   },
   {
    "duration": 14,
    "start_time": "2023-03-15T06:41:25.525Z"
   },
   {
    "duration": 32,
    "start_time": "2023-03-15T06:41:25.541Z"
   },
   {
    "duration": 6,
    "start_time": "2023-03-15T06:41:25.575Z"
   },
   {
    "duration": 9,
    "start_time": "2023-03-15T06:41:25.582Z"
   },
   {
    "duration": 11,
    "start_time": "2023-03-15T06:41:25.593Z"
   },
   {
    "duration": 21,
    "start_time": "2023-03-15T06:41:25.606Z"
   },
   {
    "duration": 8,
    "start_time": "2023-03-15T06:41:25.630Z"
   },
   {
    "duration": 7,
    "start_time": "2023-03-15T06:41:25.639Z"
   },
   {
    "duration": 37,
    "start_time": "2023-03-15T06:41:25.648Z"
   },
   {
    "duration": 13,
    "start_time": "2023-03-15T06:41:25.687Z"
   },
   {
    "duration": 8,
    "start_time": "2023-03-15T06:41:25.702Z"
   },
   {
    "duration": 14,
    "start_time": "2023-03-15T06:41:25.712Z"
   },
   {
    "duration": 9,
    "start_time": "2023-03-15T06:41:25.727Z"
   },
   {
    "duration": 39,
    "start_time": "2023-03-15T06:41:25.737Z"
   },
   {
    "duration": 6,
    "start_time": "2023-03-15T06:41:25.778Z"
   },
   {
    "duration": 6,
    "start_time": "2023-03-15T06:41:25.786Z"
   },
   {
    "duration": 12,
    "start_time": "2023-03-15T06:41:25.794Z"
   },
   {
    "duration": 10,
    "start_time": "2023-03-15T06:41:25.808Z"
   },
   {
    "duration": 164,
    "start_time": "2023-03-15T06:42:26.704Z"
   },
   {
    "duration": 9,
    "start_time": "2023-03-15T06:42:29.134Z"
   },
   {
    "duration": 145,
    "start_time": "2023-03-15T06:42:33.349Z"
   },
   {
    "duration": 13,
    "start_time": "2023-03-15T06:42:41.457Z"
   },
   {
    "duration": 121,
    "start_time": "2023-03-15T06:47:02.621Z"
   },
   {
    "duration": 306,
    "start_time": "2023-03-15T06:47:21.459Z"
   },
   {
    "duration": 215,
    "start_time": "2023-03-15T06:47:26.127Z"
   },
   {
    "duration": 14,
    "start_time": "2023-03-15T06:47:35.599Z"
   },
   {
    "duration": 368,
    "start_time": "2023-03-15T06:47:37.756Z"
   },
   {
    "duration": 12,
    "start_time": "2023-03-15T06:53:12.426Z"
   },
   {
    "duration": 885,
    "start_time": "2023-03-15T06:55:32.029Z"
   },
   {
    "duration": 9,
    "start_time": "2023-03-15T06:56:48.693Z"
   },
   {
    "duration": 145,
    "start_time": "2023-03-15T06:56:52.451Z"
   },
   {
    "duration": 15,
    "start_time": "2023-03-15T06:56:56.106Z"
   },
   {
    "duration": 215,
    "start_time": "2023-03-15T06:57:05.135Z"
   },
   {
    "duration": 221,
    "start_time": "2023-03-15T06:57:16.171Z"
   },
   {
    "duration": 759,
    "start_time": "2023-03-15T06:57:28.115Z"
   },
   {
    "duration": 1078,
    "start_time": "2023-03-15T06:57:45.118Z"
   },
   {
    "duration": 5,
    "start_time": "2023-03-15T06:59:51.481Z"
   },
   {
    "duration": 78,
    "start_time": "2023-03-15T06:59:51.489Z"
   },
   {
    "duration": 9,
    "start_time": "2023-03-15T06:59:51.569Z"
   },
   {
    "duration": 7,
    "start_time": "2023-03-15T06:59:51.580Z"
   },
   {
    "duration": 46,
    "start_time": "2023-03-15T06:59:51.590Z"
   },
   {
    "duration": 14,
    "start_time": "2023-03-15T06:59:51.638Z"
   },
   {
    "duration": 33,
    "start_time": "2023-03-15T06:59:51.654Z"
   },
   {
    "duration": 28,
    "start_time": "2023-03-15T06:59:51.690Z"
   },
   {
    "duration": 17,
    "start_time": "2023-03-15T06:59:51.720Z"
   },
   {
    "duration": 12,
    "start_time": "2023-03-15T06:59:51.739Z"
   },
   {
    "duration": 11,
    "start_time": "2023-03-15T06:59:51.753Z"
   },
   {
    "duration": 107,
    "start_time": "2023-03-15T06:59:51.766Z"
   },
   {
    "duration": 17,
    "start_time": "2023-03-15T06:59:51.875Z"
   },
   {
    "duration": 14,
    "start_time": "2023-03-15T06:59:51.895Z"
   },
   {
    "duration": 6,
    "start_time": "2023-03-15T06:59:51.911Z"
   },
   {
    "duration": 23,
    "start_time": "2023-03-15T06:59:51.919Z"
   },
   {
    "duration": 30,
    "start_time": "2023-03-15T06:59:51.944Z"
   },
   {
    "duration": 11,
    "start_time": "2023-03-15T06:59:51.976Z"
   },
   {
    "duration": 14,
    "start_time": "2023-03-15T06:59:51.989Z"
   },
   {
    "duration": 13,
    "start_time": "2023-03-15T06:59:52.005Z"
   },
   {
    "duration": 33,
    "start_time": "2023-03-15T06:59:52.020Z"
   },
   {
    "duration": 27,
    "start_time": "2023-03-15T06:59:52.056Z"
   },
   {
    "duration": 14,
    "start_time": "2023-03-15T06:59:52.086Z"
   },
   {
    "duration": 16,
    "start_time": "2023-03-15T06:59:52.103Z"
   },
   {
    "duration": 14,
    "start_time": "2023-03-15T06:59:52.121Z"
   },
   {
    "duration": 17,
    "start_time": "2023-03-15T06:59:52.138Z"
   },
   {
    "duration": 172,
    "start_time": "2023-03-15T06:59:52.157Z"
   },
   {
    "duration": 10,
    "start_time": "2023-03-15T06:59:52.331Z"
   },
   {
    "duration": 159,
    "start_time": "2023-03-15T06:59:52.343Z"
   },
   {
    "duration": 13,
    "start_time": "2023-03-15T06:59:52.504Z"
   },
   {
    "duration": 253,
    "start_time": "2023-03-15T06:59:52.520Z"
   },
   {
    "duration": 234,
    "start_time": "2023-03-15T06:59:52.775Z"
   },
   {
    "duration": 14,
    "start_time": "2023-03-15T06:59:53.011Z"
   },
   {
    "duration": 288,
    "start_time": "2023-03-15T06:59:55.791Z"
   },
   {
    "duration": 225,
    "start_time": "2023-03-15T07:00:08.739Z"
   },
   {
    "duration": 225,
    "start_time": "2023-03-15T07:00:37.821Z"
   },
   {
    "duration": 332,
    "start_time": "2023-03-15T07:05:33.976Z"
   },
   {
    "duration": 334,
    "start_time": "2023-03-15T07:07:01.549Z"
   },
   {
    "duration": 250,
    "start_time": "2023-03-15T07:13:04.377Z"
   },
   {
    "duration": 261,
    "start_time": "2023-03-15T07:13:35.766Z"
   },
   {
    "duration": 16,
    "start_time": "2023-03-15T07:20:11.560Z"
   },
   {
    "duration": 266,
    "start_time": "2023-03-15T07:20:28.302Z"
   },
   {
    "duration": 374,
    "start_time": "2023-03-15T07:23:07.310Z"
   },
   {
    "duration": 316,
    "start_time": "2023-03-15T07:23:24.533Z"
   },
   {
    "duration": 260,
    "start_time": "2023-03-15T07:23:31.708Z"
   },
   {
    "duration": 7,
    "start_time": "2023-03-15T07:23:51.819Z"
   },
   {
    "duration": 7,
    "start_time": "2023-03-15T07:28:58.156Z"
   },
   {
    "duration": 239,
    "start_time": "2023-03-15T07:29:10.423Z"
   },
   {
    "duration": 143,
    "start_time": "2023-03-15T07:30:29.003Z"
   },
   {
    "duration": 8,
    "start_time": "2023-03-15T07:33:13.254Z"
   },
   {
    "duration": 243,
    "start_time": "2023-03-15T07:34:19.225Z"
   },
   {
    "duration": 261,
    "start_time": "2023-03-15T07:34:49.596Z"
   },
   {
    "duration": 164,
    "start_time": "2023-03-15T07:36:13.817Z"
   },
   {
    "duration": 13,
    "start_time": "2023-03-15T07:44:09.720Z"
   },
   {
    "duration": 10,
    "start_time": "2023-03-15T07:44:14.311Z"
   },
   {
    "duration": 5,
    "start_time": "2023-03-15T07:44:18.619Z"
   },
   {
    "duration": 128,
    "start_time": "2023-03-15T11:22:41.441Z"
   },
   {
    "duration": 5,
    "start_time": "2023-03-15T11:22:50.407Z"
   },
   {
    "duration": 94,
    "start_time": "2023-03-15T11:22:50.414Z"
   },
   {
    "duration": 10,
    "start_time": "2023-03-15T11:22:50.511Z"
   },
   {
    "duration": 15,
    "start_time": "2023-03-15T11:22:50.523Z"
   },
   {
    "duration": 32,
    "start_time": "2023-03-15T11:22:50.542Z"
   },
   {
    "duration": 44,
    "start_time": "2023-03-15T11:22:50.576Z"
   },
   {
    "duration": 34,
    "start_time": "2023-03-15T11:22:50.622Z"
   },
   {
    "duration": 29,
    "start_time": "2023-03-15T11:22:50.658Z"
   },
   {
    "duration": 36,
    "start_time": "2023-03-15T11:22:50.690Z"
   },
   {
    "duration": 20,
    "start_time": "2023-03-15T11:22:50.729Z"
   },
   {
    "duration": 23,
    "start_time": "2023-03-15T11:22:50.752Z"
   },
   {
    "duration": 45,
    "start_time": "2023-03-15T11:22:50.777Z"
   },
   {
    "duration": 29,
    "start_time": "2023-03-15T11:22:50.824Z"
   },
   {
    "duration": 9,
    "start_time": "2023-03-15T11:22:50.857Z"
   },
   {
    "duration": 47,
    "start_time": "2023-03-15T11:22:50.868Z"
   },
   {
    "duration": 31,
    "start_time": "2023-03-15T11:22:50.917Z"
   },
   {
    "duration": 20,
    "start_time": "2023-03-15T11:22:50.951Z"
   },
   {
    "duration": 32,
    "start_time": "2023-03-15T11:22:50.972Z"
   },
   {
    "duration": 18,
    "start_time": "2023-03-15T11:22:51.006Z"
   },
   {
    "duration": 18,
    "start_time": "2023-03-15T11:22:51.026Z"
   },
   {
    "duration": 18,
    "start_time": "2023-03-15T11:22:51.046Z"
   },
   {
    "duration": 28,
    "start_time": "2023-03-15T11:22:51.066Z"
   },
   {
    "duration": 12,
    "start_time": "2023-03-15T11:22:51.096Z"
   },
   {
    "duration": 16,
    "start_time": "2023-03-15T11:22:51.109Z"
   },
   {
    "duration": 14,
    "start_time": "2023-03-15T11:22:51.127Z"
   },
   {
    "duration": 8,
    "start_time": "2023-03-15T11:22:51.143Z"
   },
   {
    "duration": 211,
    "start_time": "2023-03-15T11:22:51.153Z"
   },
   {
    "duration": 21,
    "start_time": "2023-03-15T11:22:51.366Z"
   },
   {
    "duration": 156,
    "start_time": "2023-03-15T11:22:51.389Z"
   },
   {
    "duration": 27,
    "start_time": "2023-03-15T11:22:51.547Z"
   },
   {
    "duration": 259,
    "start_time": "2023-03-15T11:22:51.576Z"
   },
   {
    "duration": 228,
    "start_time": "2023-03-15T11:22:51.837Z"
   },
   {
    "duration": 26,
    "start_time": "2023-03-15T11:22:52.067Z"
   },
   {
    "duration": 432,
    "start_time": "2023-03-15T11:22:52.094Z"
   },
   {
    "duration": 269,
    "start_time": "2023-03-15T11:22:52.528Z"
   },
   {
    "duration": 334,
    "start_time": "2023-03-15T11:22:52.799Z"
   },
   {
    "duration": 329,
    "start_time": "2023-03-15T11:22:53.135Z"
   },
   {
    "duration": 326,
    "start_time": "2023-03-15T11:22:53.467Z"
   },
   {
    "duration": 7,
    "start_time": "2023-03-15T11:22:53.795Z"
   },
   {
    "duration": 253,
    "start_time": "2023-03-15T11:22:53.805Z"
   },
   {
    "duration": 151,
    "start_time": "2023-03-15T11:22:54.062Z"
   },
   {
    "duration": 9,
    "start_time": "2023-03-15T11:22:54.216Z"
   },
   {
    "duration": 16,
    "start_time": "2023-03-15T11:22:54.227Z"
   },
   {
    "duration": 140,
    "start_time": "2023-03-15T11:23:08.859Z"
   },
   {
    "duration": 335,
    "start_time": "2023-03-15T11:27:57.521Z"
   },
   {
    "duration": 430,
    "start_time": "2023-03-15T11:28:15.517Z"
   },
   {
    "duration": 458,
    "start_time": "2023-03-15T11:29:11.005Z"
   },
   {
    "duration": 11,
    "start_time": "2023-03-15T11:31:07.617Z"
   },
   {
    "duration": 14,
    "start_time": "2023-03-15T11:31:22.534Z"
   },
   {
    "duration": 1080,
    "start_time": "2023-03-15T11:34:45.933Z"
   },
   {
    "duration": 14,
    "start_time": "2023-03-15T11:35:17.949Z"
   },
   {
    "duration": 11,
    "start_time": "2023-03-15T11:38:25.902Z"
   },
   {
    "duration": 8,
    "start_time": "2023-03-15T11:39:42.894Z"
   },
   {
    "duration": 7,
    "start_time": "2023-03-15T11:39:56.705Z"
   },
   {
    "duration": 5,
    "start_time": "2023-03-15T11:40:12.114Z"
   },
   {
    "duration": 33,
    "start_time": "2023-03-15T11:41:17.510Z"
   },
   {
    "duration": 43,
    "start_time": "2023-03-15T11:43:09.754Z"
   },
   {
    "duration": 34,
    "start_time": "2023-03-15T11:44:10.613Z"
   },
   {
    "duration": 27,
    "start_time": "2023-03-15T11:44:47.410Z"
   },
   {
    "duration": 13,
    "start_time": "2023-03-15T11:46:07.703Z"
   },
   {
    "duration": 13,
    "start_time": "2023-03-15T11:46:57.531Z"
   },
   {
    "duration": 13,
    "start_time": "2023-03-15T11:49:18.618Z"
   },
   {
    "duration": 12,
    "start_time": "2023-03-15T11:49:30.241Z"
   },
   {
    "duration": 7,
    "start_time": "2023-03-15T11:49:51.617Z"
   },
   {
    "duration": 5,
    "start_time": "2023-03-15T11:50:05.730Z"
   },
   {
    "duration": 41,
    "start_time": "2023-03-15T11:50:40.633Z"
   },
   {
    "duration": 12,
    "start_time": "2023-03-15T11:52:07.555Z"
   },
   {
    "duration": 18,
    "start_time": "2023-03-15T11:53:04.214Z"
   },
   {
    "duration": 4,
    "start_time": "2023-03-15T12:02:01.549Z"
   },
   {
    "duration": 158,
    "start_time": "2023-03-15T12:02:01.556Z"
   },
   {
    "duration": 12,
    "start_time": "2023-03-15T12:02:01.716Z"
   },
   {
    "duration": 60,
    "start_time": "2023-03-15T12:02:01.730Z"
   },
   {
    "duration": 89,
    "start_time": "2023-03-15T12:02:01.793Z"
   },
   {
    "duration": 36,
    "start_time": "2023-03-15T12:02:01.892Z"
   },
   {
    "duration": 55,
    "start_time": "2023-03-15T12:02:01.930Z"
   },
   {
    "duration": 99,
    "start_time": "2023-03-15T12:02:01.987Z"
   },
   {
    "duration": 74,
    "start_time": "2023-03-15T12:02:02.089Z"
   },
   {
    "duration": 68,
    "start_time": "2023-03-15T12:02:02.165Z"
   },
   {
    "duration": 65,
    "start_time": "2023-03-15T12:02:02.235Z"
   },
   {
    "duration": 68,
    "start_time": "2023-03-15T12:02:02.302Z"
   },
   {
    "duration": 75,
    "start_time": "2023-03-15T12:02:02.372Z"
   },
   {
    "duration": 63,
    "start_time": "2023-03-15T12:02:02.451Z"
   },
   {
    "duration": 40,
    "start_time": "2023-03-15T12:02:02.516Z"
   },
   {
    "duration": 56,
    "start_time": "2023-03-15T12:02:02.558Z"
   },
   {
    "duration": 55,
    "start_time": "2023-03-15T12:02:02.616Z"
   },
   {
    "duration": 58,
    "start_time": "2023-03-15T12:02:02.675Z"
   },
   {
    "duration": 25,
    "start_time": "2023-03-15T12:02:02.735Z"
   },
   {
    "duration": 65,
    "start_time": "2023-03-15T12:02:02.762Z"
   },
   {
    "duration": 64,
    "start_time": "2023-03-15T12:02:02.829Z"
   },
   {
    "duration": 42,
    "start_time": "2023-03-15T12:02:02.895Z"
   },
   {
    "duration": 56,
    "start_time": "2023-03-15T12:02:02.939Z"
   },
   {
    "duration": 30,
    "start_time": "2023-03-15T12:02:02.997Z"
   },
   {
    "duration": 22,
    "start_time": "2023-03-15T12:02:03.029Z"
   },
   {
    "duration": 8,
    "start_time": "2023-03-15T12:02:03.053Z"
   },
   {
    "duration": 224,
    "start_time": "2023-03-15T12:02:03.063Z"
   },
   {
    "duration": 13,
    "start_time": "2023-03-15T12:02:03.290Z"
   },
   {
    "duration": 199,
    "start_time": "2023-03-15T12:02:03.305Z"
   },
   {
    "duration": 17,
    "start_time": "2023-03-15T12:02:03.506Z"
   },
   {
    "duration": 276,
    "start_time": "2023-03-15T12:02:03.525Z"
   },
   {
    "duration": 264,
    "start_time": "2023-03-15T12:02:03.803Z"
   },
   {
    "duration": 20,
    "start_time": "2023-03-15T12:02:04.076Z"
   },
   {
    "duration": 347,
    "start_time": "2023-03-15T12:02:04.099Z"
   },
   {
    "duration": 351,
    "start_time": "2023-03-15T12:02:04.448Z"
   },
   {
    "duration": 615,
    "start_time": "2023-03-15T12:02:04.802Z"
   },
   {
    "duration": 390,
    "start_time": "2023-03-15T12:02:05.419Z"
   },
   {
    "duration": 337,
    "start_time": "2023-03-15T12:02:05.812Z"
   },
   {
    "duration": 7,
    "start_time": "2023-03-15T12:02:06.152Z"
   },
   {
    "duration": 182,
    "start_time": "2023-03-15T12:02:06.173Z"
   },
   {
    "duration": 165,
    "start_time": "2023-03-15T12:02:06.360Z"
   },
   {
    "duration": 8,
    "start_time": "2023-03-15T12:02:06.527Z"
   },
   {
    "duration": 8,
    "start_time": "2023-03-15T12:02:06.537Z"
   },
   {
    "duration": 50,
    "start_time": "2023-03-15T12:02:06.547Z"
   },
   {
    "duration": 23,
    "start_time": "2023-03-15T12:02:06.600Z"
   },
   {
    "duration": 13,
    "start_time": "2023-03-15T12:02:06.626Z"
   },
   {
    "duration": 37,
    "start_time": "2023-03-15T12:02:06.641Z"
   },
   {
    "duration": 19,
    "start_time": "2023-03-15T12:02:06.681Z"
   },
   {
    "duration": 12,
    "start_time": "2023-03-15T12:02:06.702Z"
   },
   {
    "duration": 14,
    "start_time": "2023-03-15T12:02:06.716Z"
   },
   {
    "duration": 14,
    "start_time": "2023-03-15T12:02:06.733Z"
   },
   {
    "duration": 56,
    "start_time": "2023-03-15T12:02:06.749Z"
   },
   {
    "duration": 31,
    "start_time": "2023-03-15T12:02:06.807Z"
   },
   {
    "duration": 1355,
    "start_time": "2023-03-15T13:46:01.323Z"
   },
   {
    "duration": 61,
    "start_time": "2023-03-15T13:46:02.680Z"
   },
   {
    "duration": 14,
    "start_time": "2023-03-15T13:46:02.743Z"
   },
   {
    "duration": 50,
    "start_time": "2023-03-15T13:46:02.760Z"
   },
   {
    "duration": 16,
    "start_time": "2023-03-15T13:46:02.812Z"
   },
   {
    "duration": 8,
    "start_time": "2023-03-15T13:46:02.830Z"
   },
   {
    "duration": 27,
    "start_time": "2023-03-15T13:46:02.840Z"
   },
   {
    "duration": 16,
    "start_time": "2023-03-15T13:46:02.869Z"
   },
   {
    "duration": 37,
    "start_time": "2023-03-15T13:46:02.887Z"
   },
   {
    "duration": 16,
    "start_time": "2023-03-15T13:46:02.927Z"
   },
   {
    "duration": 31,
    "start_time": "2023-03-15T13:46:02.945Z"
   },
   {
    "duration": 38,
    "start_time": "2023-03-15T13:46:02.979Z"
   },
   {
    "duration": 23,
    "start_time": "2023-03-15T13:46:03.019Z"
   },
   {
    "duration": 31,
    "start_time": "2023-03-15T13:46:03.044Z"
   },
   {
    "duration": 22,
    "start_time": "2023-03-15T13:46:03.077Z"
   },
   {
    "duration": 18,
    "start_time": "2023-03-15T13:46:03.101Z"
   },
   {
    "duration": 18,
    "start_time": "2023-03-15T13:46:03.121Z"
   },
   {
    "duration": 10,
    "start_time": "2023-03-15T13:46:03.141Z"
   },
   {
    "duration": 14,
    "start_time": "2023-03-15T13:46:03.154Z"
   },
   {
    "duration": 10,
    "start_time": "2023-03-15T13:46:03.170Z"
   },
   {
    "duration": 10,
    "start_time": "2023-03-15T13:46:03.182Z"
   },
   {
    "duration": 5,
    "start_time": "2023-03-15T13:46:03.194Z"
   },
   {
    "duration": 5,
    "start_time": "2023-03-15T13:46:03.200Z"
   },
   {
    "duration": 8,
    "start_time": "2023-03-15T13:46:03.207Z"
   },
   {
    "duration": 13,
    "start_time": "2023-03-15T13:46:03.242Z"
   },
   {
    "duration": 15,
    "start_time": "2023-03-15T13:46:03.257Z"
   },
   {
    "duration": 176,
    "start_time": "2023-03-15T13:46:03.274Z"
   },
   {
    "duration": 13,
    "start_time": "2023-03-15T13:46:03.454Z"
   },
   {
    "duration": 145,
    "start_time": "2023-03-15T13:46:03.469Z"
   },
   {
    "duration": 29,
    "start_time": "2023-03-15T13:46:03.616Z"
   },
   {
    "duration": 295,
    "start_time": "2023-03-15T13:46:03.646Z"
   },
   {
    "duration": 231,
    "start_time": "2023-03-15T13:46:03.943Z"
   },
   {
    "duration": 14,
    "start_time": "2023-03-15T13:46:04.177Z"
   },
   {
    "duration": 357,
    "start_time": "2023-03-15T13:46:04.193Z"
   },
   {
    "duration": 224,
    "start_time": "2023-03-15T13:46:04.552Z"
   },
   {
    "duration": 298,
    "start_time": "2023-03-15T13:46:04.777Z"
   },
   {
    "duration": 222,
    "start_time": "2023-03-15T13:46:05.077Z"
   },
   {
    "duration": 253,
    "start_time": "2023-03-15T13:46:05.301Z"
   },
   {
    "duration": 7,
    "start_time": "2023-03-15T13:46:05.556Z"
   },
   {
    "duration": 223,
    "start_time": "2023-03-15T13:46:05.564Z"
   },
   {
    "duration": 133,
    "start_time": "2023-03-15T13:46:05.790Z"
   },
   {
    "duration": 6,
    "start_time": "2023-03-15T13:46:05.925Z"
   },
   {
    "duration": 12,
    "start_time": "2023-03-15T13:46:05.942Z"
   },
   {
    "duration": 32,
    "start_time": "2023-03-15T13:46:05.956Z"
   },
   {
    "duration": 10,
    "start_time": "2023-03-15T13:46:05.990Z"
   },
   {
    "duration": 25,
    "start_time": "2023-03-15T13:46:06.002Z"
   },
   {
    "duration": 31,
    "start_time": "2023-03-15T13:46:06.028Z"
   },
   {
    "duration": 13,
    "start_time": "2023-03-15T13:46:06.061Z"
   },
   {
    "duration": 13,
    "start_time": "2023-03-15T13:46:06.076Z"
   },
   {
    "duration": 7,
    "start_time": "2023-03-15T13:46:06.091Z"
   },
   {
    "duration": 13,
    "start_time": "2023-03-15T13:46:06.099Z"
   },
   {
    "duration": 40,
    "start_time": "2023-03-15T13:46:06.113Z"
   },
   {
    "duration": 13,
    "start_time": "2023-03-15T13:46:06.154Z"
   },
   {
    "duration": 1273,
    "start_time": "2023-03-15T13:47:45.595Z"
   },
   {
    "duration": 62,
    "start_time": "2023-03-15T13:47:46.870Z"
   },
   {
    "duration": 16,
    "start_time": "2023-03-15T13:47:46.934Z"
   },
   {
    "duration": 7,
    "start_time": "2023-03-15T13:47:46.952Z"
   },
   {
    "duration": 13,
    "start_time": "2023-03-15T13:47:46.961Z"
   },
   {
    "duration": 10,
    "start_time": "2023-03-15T13:47:46.976Z"
   },
   {
    "duration": 9,
    "start_time": "2023-03-15T13:47:46.988Z"
   },
   {
    "duration": 12,
    "start_time": "2023-03-15T13:47:46.999Z"
   },
   {
    "duration": 42,
    "start_time": "2023-03-15T13:47:47.013Z"
   },
   {
    "duration": 6,
    "start_time": "2023-03-15T13:47:47.060Z"
   },
   {
    "duration": 7,
    "start_time": "2023-03-15T13:47:47.068Z"
   },
   {
    "duration": 20,
    "start_time": "2023-03-15T13:47:47.077Z"
   },
   {
    "duration": 17,
    "start_time": "2023-03-15T13:47:47.099Z"
   },
   {
    "duration": 36,
    "start_time": "2023-03-15T13:47:47.118Z"
   },
   {
    "duration": 3,
    "start_time": "2023-03-15T13:47:47.156Z"
   },
   {
    "duration": 15,
    "start_time": "2023-03-15T13:47:47.160Z"
   },
   {
    "duration": 20,
    "start_time": "2023-03-15T13:47:47.177Z"
   },
   {
    "duration": 9,
    "start_time": "2023-03-15T13:47:47.199Z"
   },
   {
    "duration": 32,
    "start_time": "2023-03-15T13:47:47.210Z"
   },
   {
    "duration": 11,
    "start_time": "2023-03-15T13:47:47.243Z"
   },
   {
    "duration": 11,
    "start_time": "2023-03-15T13:47:47.256Z"
   },
   {
    "duration": 6,
    "start_time": "2023-03-15T13:47:47.268Z"
   },
   {
    "duration": 17,
    "start_time": "2023-03-15T13:47:47.276Z"
   },
   {
    "duration": 152,
    "start_time": "2023-03-15T13:47:47.294Z"
   },
   {
    "duration": 0,
    "start_time": "2023-03-15T13:47:47.450Z"
   },
   {
    "duration": 0,
    "start_time": "2023-03-15T13:47:47.451Z"
   },
   {
    "duration": 0,
    "start_time": "2023-03-15T13:47:47.451Z"
   },
   {
    "duration": 0,
    "start_time": "2023-03-15T13:47:47.452Z"
   },
   {
    "duration": 0,
    "start_time": "2023-03-15T13:47:47.454Z"
   },
   {
    "duration": 0,
    "start_time": "2023-03-15T13:47:47.455Z"
   },
   {
    "duration": 0,
    "start_time": "2023-03-15T13:47:47.456Z"
   },
   {
    "duration": 0,
    "start_time": "2023-03-15T13:47:47.457Z"
   },
   {
    "duration": 0,
    "start_time": "2023-03-15T13:47:47.459Z"
   },
   {
    "duration": 0,
    "start_time": "2023-03-15T13:47:47.461Z"
   },
   {
    "duration": 0,
    "start_time": "2023-03-15T13:47:47.462Z"
   },
   {
    "duration": 0,
    "start_time": "2023-03-15T13:47:47.463Z"
   },
   {
    "duration": 0,
    "start_time": "2023-03-15T13:47:47.464Z"
   },
   {
    "duration": 0,
    "start_time": "2023-03-15T13:47:47.466Z"
   },
   {
    "duration": 0,
    "start_time": "2023-03-15T13:47:47.467Z"
   },
   {
    "duration": 0,
    "start_time": "2023-03-15T13:47:47.470Z"
   },
   {
    "duration": 1,
    "start_time": "2023-03-15T13:47:47.471Z"
   },
   {
    "duration": 0,
    "start_time": "2023-03-15T13:47:47.473Z"
   },
   {
    "duration": 0,
    "start_time": "2023-03-15T13:47:47.475Z"
   },
   {
    "duration": 0,
    "start_time": "2023-03-15T13:47:47.477Z"
   },
   {
    "duration": 0,
    "start_time": "2023-03-15T13:47:47.479Z"
   },
   {
    "duration": 0,
    "start_time": "2023-03-15T13:47:47.480Z"
   },
   {
    "duration": 0,
    "start_time": "2023-03-15T13:47:47.482Z"
   },
   {
    "duration": 0,
    "start_time": "2023-03-15T13:47:47.483Z"
   },
   {
    "duration": 0,
    "start_time": "2023-03-15T13:47:47.484Z"
   },
   {
    "duration": 0,
    "start_time": "2023-03-15T13:47:47.486Z"
   },
   {
    "duration": 0,
    "start_time": "2023-03-15T13:47:47.488Z"
   },
   {
    "duration": 0,
    "start_time": "2023-03-15T13:47:47.489Z"
   },
   {
    "duration": 0,
    "start_time": "2023-03-15T13:47:47.491Z"
   },
   {
    "duration": 0,
    "start_time": "2023-03-15T13:47:47.493Z"
   },
   {
    "duration": 8,
    "start_time": "2023-03-15T13:47:55.626Z"
   },
   {
    "duration": 1292,
    "start_time": "2023-03-15T13:48:08.793Z"
   },
   {
    "duration": 69,
    "start_time": "2023-03-15T13:48:10.088Z"
   },
   {
    "duration": 11,
    "start_time": "2023-03-15T13:48:10.160Z"
   },
   {
    "duration": 28,
    "start_time": "2023-03-15T13:48:10.173Z"
   },
   {
    "duration": 79,
    "start_time": "2023-03-15T13:48:10.204Z"
   },
   {
    "duration": 12,
    "start_time": "2023-03-15T13:48:10.285Z"
   },
   {
    "duration": 14,
    "start_time": "2023-03-15T13:48:10.299Z"
   },
   {
    "duration": 19,
    "start_time": "2023-03-15T13:48:10.315Z"
   },
   {
    "duration": 42,
    "start_time": "2023-03-15T13:48:10.336Z"
   },
   {
    "duration": 17,
    "start_time": "2023-03-15T13:48:10.380Z"
   },
   {
    "duration": 8,
    "start_time": "2023-03-15T13:48:10.399Z"
   },
   {
    "duration": 30,
    "start_time": "2023-03-15T13:48:10.409Z"
   },
   {
    "duration": 43,
    "start_time": "2023-03-15T13:48:10.441Z"
   },
   {
    "duration": 15,
    "start_time": "2023-03-15T13:48:10.487Z"
   },
   {
    "duration": 3,
    "start_time": "2023-03-15T13:48:10.504Z"
   },
   {
    "duration": 18,
    "start_time": "2023-03-15T13:48:10.508Z"
   },
   {
    "duration": 17,
    "start_time": "2023-03-15T13:48:10.527Z"
   },
   {
    "duration": 10,
    "start_time": "2023-03-15T13:48:10.553Z"
   },
   {
    "duration": 9,
    "start_time": "2023-03-15T13:48:10.565Z"
   },
   {
    "duration": 8,
    "start_time": "2023-03-15T13:48:10.576Z"
   },
   {
    "duration": 8,
    "start_time": "2023-03-15T13:48:10.585Z"
   },
   {
    "duration": 13,
    "start_time": "2023-03-15T13:48:10.595Z"
   },
   {
    "duration": 7,
    "start_time": "2023-03-15T13:48:10.610Z"
   },
   {
    "duration": 11,
    "start_time": "2023-03-15T13:48:10.642Z"
   },
   {
    "duration": 12,
    "start_time": "2023-03-15T13:48:10.655Z"
   },
   {
    "duration": 52,
    "start_time": "2023-03-15T13:48:10.670Z"
   },
   {
    "duration": 227,
    "start_time": "2023-03-15T13:48:10.724Z"
   },
   {
    "duration": 11,
    "start_time": "2023-03-15T13:48:10.955Z"
   },
   {
    "duration": 149,
    "start_time": "2023-03-15T13:48:10.967Z"
   },
   {
    "duration": 59,
    "start_time": "2023-03-15T13:48:11.118Z"
   },
   {
    "duration": 316,
    "start_time": "2023-03-15T13:48:11.178Z"
   },
   {
    "duration": 218,
    "start_time": "2023-03-15T13:48:11.496Z"
   },
   {
    "duration": 12,
    "start_time": "2023-03-15T13:48:11.716Z"
   },
   {
    "duration": 341,
    "start_time": "2023-03-15T13:48:11.729Z"
   },
   {
    "duration": 237,
    "start_time": "2023-03-15T13:48:12.072Z"
   },
   {
    "duration": 342,
    "start_time": "2023-03-15T13:48:12.311Z"
   },
   {
    "duration": 246,
    "start_time": "2023-03-15T13:48:12.655Z"
   },
   {
    "duration": 280,
    "start_time": "2023-03-15T13:48:12.902Z"
   },
   {
    "duration": 8,
    "start_time": "2023-03-15T13:48:13.184Z"
   },
   {
    "duration": 243,
    "start_time": "2023-03-15T13:48:13.194Z"
   },
   {
    "duration": 131,
    "start_time": "2023-03-15T13:48:13.441Z"
   },
   {
    "duration": 8,
    "start_time": "2023-03-15T13:48:13.574Z"
   },
   {
    "duration": 4,
    "start_time": "2023-03-15T13:48:13.584Z"
   },
   {
    "duration": 10,
    "start_time": "2023-03-15T13:48:13.590Z"
   },
   {
    "duration": 7,
    "start_time": "2023-03-15T13:48:13.601Z"
   },
   {
    "duration": 43,
    "start_time": "2023-03-15T13:48:13.609Z"
   },
   {
    "duration": 28,
    "start_time": "2023-03-15T13:48:13.653Z"
   },
   {
    "duration": 14,
    "start_time": "2023-03-15T13:48:13.683Z"
   },
   {
    "duration": 11,
    "start_time": "2023-03-15T13:48:13.699Z"
   },
   {
    "duration": 32,
    "start_time": "2023-03-15T13:48:13.712Z"
   },
   {
    "duration": 8,
    "start_time": "2023-03-15T13:48:13.750Z"
   },
   {
    "duration": 41,
    "start_time": "2023-03-15T13:48:13.760Z"
   },
   {
    "duration": 14,
    "start_time": "2023-03-15T13:48:13.803Z"
   },
   {
    "duration": 79,
    "start_time": "2023-03-15T13:48:27.953Z"
   },
   {
    "duration": 104,
    "start_time": "2023-03-15T15:01:25.582Z"
   },
   {
    "duration": 1685,
    "start_time": "2023-03-15T15:01:32.805Z"
   },
   {
    "duration": 322,
    "start_time": "2023-03-15T15:01:34.496Z"
   },
   {
    "duration": 13,
    "start_time": "2023-03-15T15:01:34.820Z"
   },
   {
    "duration": 4,
    "start_time": "2023-03-15T15:01:34.834Z"
   },
   {
    "duration": 30,
    "start_time": "2023-03-15T15:01:34.840Z"
   },
   {
    "duration": 9,
    "start_time": "2023-03-15T15:01:34.875Z"
   },
   {
    "duration": 30,
    "start_time": "2023-03-15T15:01:34.886Z"
   },
   {
    "duration": 14,
    "start_time": "2023-03-15T15:01:34.918Z"
   },
   {
    "duration": 30,
    "start_time": "2023-03-15T15:01:34.934Z"
   },
   {
    "duration": 12,
    "start_time": "2023-03-15T15:01:34.969Z"
   },
   {
    "duration": 14,
    "start_time": "2023-03-15T15:01:34.986Z"
   },
   {
    "duration": 11,
    "start_time": "2023-03-15T15:01:35.001Z"
   },
   {
    "duration": 15,
    "start_time": "2023-03-15T15:01:35.014Z"
   },
   {
    "duration": 47,
    "start_time": "2023-03-15T15:01:35.031Z"
   },
   {
    "duration": 16,
    "start_time": "2023-03-15T15:01:35.080Z"
   },
   {
    "duration": 90,
    "start_time": "2023-03-15T15:01:35.098Z"
   },
   {
    "duration": 20,
    "start_time": "2023-03-15T15:01:35.189Z"
   },
   {
    "duration": 7,
    "start_time": "2023-03-15T15:01:35.211Z"
   },
   {
    "duration": 15,
    "start_time": "2023-03-15T15:01:35.220Z"
   },
   {
    "duration": 24,
    "start_time": "2023-03-15T15:01:35.236Z"
   },
   {
    "duration": 22,
    "start_time": "2023-03-15T15:01:35.268Z"
   },
   {
    "duration": 28,
    "start_time": "2023-03-15T15:01:35.292Z"
   },
   {
    "duration": 19,
    "start_time": "2023-03-15T15:01:35.322Z"
   },
   {
    "duration": 36,
    "start_time": "2023-03-15T15:01:35.342Z"
   },
   {
    "duration": 19,
    "start_time": "2023-03-15T15:01:35.380Z"
   },
   {
    "duration": 12,
    "start_time": "2023-03-15T15:01:35.404Z"
   },
   {
    "duration": 193,
    "start_time": "2023-03-15T15:01:35.418Z"
   },
   {
    "duration": 10,
    "start_time": "2023-03-15T15:01:35.614Z"
   },
   {
    "duration": 197,
    "start_time": "2023-03-15T15:01:35.626Z"
   },
   {
    "duration": 32,
    "start_time": "2023-03-15T15:01:35.825Z"
   },
   {
    "duration": 97,
    "start_time": "2023-03-15T15:03:41.506Z"
   },
   {
    "duration": 3,
    "start_time": "2023-03-15T15:03:51.810Z"
   },
   {
    "duration": 100,
    "start_time": "2023-03-15T15:03:51.816Z"
   },
   {
    "duration": 10,
    "start_time": "2023-03-15T15:03:51.918Z"
   },
   {
    "duration": 41,
    "start_time": "2023-03-15T15:03:51.931Z"
   },
   {
    "duration": 21,
    "start_time": "2023-03-15T15:03:51.976Z"
   },
   {
    "duration": 19,
    "start_time": "2023-03-15T15:03:51.999Z"
   },
   {
    "duration": 11,
    "start_time": "2023-03-15T15:03:52.020Z"
   },
   {
    "duration": 17,
    "start_time": "2023-03-15T15:03:52.033Z"
   },
   {
    "duration": 30,
    "start_time": "2023-03-15T15:03:52.052Z"
   },
   {
    "duration": 12,
    "start_time": "2023-03-15T15:03:52.086Z"
   },
   {
    "duration": 12,
    "start_time": "2023-03-15T15:03:52.100Z"
   },
   {
    "duration": 14,
    "start_time": "2023-03-15T15:03:52.113Z"
   },
   {
    "duration": 31,
    "start_time": "2023-03-15T15:03:52.129Z"
   },
   {
    "duration": 21,
    "start_time": "2023-03-15T15:03:52.165Z"
   },
   {
    "duration": 3,
    "start_time": "2023-03-15T15:03:52.192Z"
   },
   {
    "duration": 15,
    "start_time": "2023-03-15T15:03:52.198Z"
   },
   {
    "duration": 16,
    "start_time": "2023-03-15T15:03:52.215Z"
   },
   {
    "duration": 31,
    "start_time": "2023-03-15T15:03:52.233Z"
   },
   {
    "duration": 11,
    "start_time": "2023-03-15T15:03:52.265Z"
   },
   {
    "duration": 11,
    "start_time": "2023-03-15T15:03:52.283Z"
   },
   {
    "duration": 11,
    "start_time": "2023-03-15T15:03:52.296Z"
   },
   {
    "duration": 8,
    "start_time": "2023-03-15T15:03:52.309Z"
   },
   {
    "duration": 10,
    "start_time": "2023-03-15T15:03:52.319Z"
   },
   {
    "duration": 29,
    "start_time": "2023-03-15T15:03:52.331Z"
   },
   {
    "duration": 11,
    "start_time": "2023-03-15T15:03:52.365Z"
   },
   {
    "duration": 9,
    "start_time": "2023-03-15T15:03:52.377Z"
   },
   {
    "duration": 170,
    "start_time": "2023-03-15T15:03:52.388Z"
   },
   {
    "duration": 18,
    "start_time": "2023-03-15T15:03:52.562Z"
   },
   {
    "duration": 147,
    "start_time": "2023-03-15T15:03:52.582Z"
   },
   {
    "duration": 23,
    "start_time": "2023-03-15T15:03:52.731Z"
   },
   {
    "duration": 287,
    "start_time": "2023-03-15T15:03:52.761Z"
   },
   {
    "duration": 253,
    "start_time": "2023-03-15T15:03:57.308Z"
   },
   {
    "duration": 242,
    "start_time": "2023-03-15T15:04:27.049Z"
   },
   {
    "duration": 280,
    "start_time": "2023-03-15T15:05:40.728Z"
   },
   {
    "duration": 20,
    "start_time": "2023-03-15T15:06:09.401Z"
   },
   {
    "duration": 16,
    "start_time": "2023-03-15T15:06:17.805Z"
   },
   {
    "duration": 23,
    "start_time": "2023-03-15T15:06:21.553Z"
   },
   {
    "duration": 488,
    "start_time": "2023-03-15T15:06:24.104Z"
   },
   {
    "duration": 276,
    "start_time": "2023-03-15T15:06:53.882Z"
   },
   {
    "duration": 364,
    "start_time": "2023-03-15T15:07:18.920Z"
   },
   {
    "duration": 254,
    "start_time": "2023-03-15T15:07:54.740Z"
   },
   {
    "duration": 281,
    "start_time": "2023-03-15T15:10:40.229Z"
   },
   {
    "duration": 326,
    "start_time": "2023-03-15T15:11:28.611Z"
   },
   {
    "duration": 349,
    "start_time": "2023-03-15T15:12:41.744Z"
   },
   {
    "duration": 12,
    "start_time": "2023-03-15T15:24:18.972Z"
   },
   {
    "duration": 151,
    "start_time": "2023-03-15T15:25:11.649Z"
   },
   {
    "duration": 267,
    "start_time": "2023-03-15T15:28:18.236Z"
   },
   {
    "duration": 232,
    "start_time": "2023-03-15T15:29:25.800Z"
   },
   {
    "duration": 171,
    "start_time": "2023-03-15T15:54:38.266Z"
   },
   {
    "duration": 254,
    "start_time": "2023-03-15T15:54:51.836Z"
   },
   {
    "duration": 148,
    "start_time": "2023-03-15T15:55:10.101Z"
   },
   {
    "duration": 147,
    "start_time": "2023-03-15T15:55:28.946Z"
   },
   {
    "duration": 252,
    "start_time": "2023-03-15T15:56:31.211Z"
   },
   {
    "duration": 68,
    "start_time": "2023-03-15T16:01:45.938Z"
   },
   {
    "duration": 7,
    "start_time": "2023-03-15T16:01:49.269Z"
   },
   {
    "duration": 6,
    "start_time": "2023-03-15T16:02:37.909Z"
   },
   {
    "duration": 6,
    "start_time": "2023-03-15T16:02:52.528Z"
   },
   {
    "duration": 6,
    "start_time": "2023-03-15T16:03:44.507Z"
   },
   {
    "duration": 9,
    "start_time": "2023-03-15T16:04:12.624Z"
   },
   {
    "duration": 3,
    "start_time": "2023-03-15T16:05:22.695Z"
   },
   {
    "duration": 12,
    "start_time": "2023-03-15T16:05:25.067Z"
   },
   {
    "duration": 9,
    "start_time": "2023-03-15T16:36:30.751Z"
   },
   {
    "duration": 3,
    "start_time": "2023-03-15T16:36:48.390Z"
   },
   {
    "duration": 94,
    "start_time": "2023-03-15T16:36:48.395Z"
   },
   {
    "duration": 2,
    "start_time": "2023-03-15T16:36:48.491Z"
   },
   {
    "duration": 28,
    "start_time": "2023-03-15T16:36:48.496Z"
   },
   {
    "duration": 8,
    "start_time": "2023-03-15T16:36:48.525Z"
   },
   {
    "duration": 13,
    "start_time": "2023-03-15T16:36:48.535Z"
   },
   {
    "duration": 12,
    "start_time": "2023-03-15T16:36:48.550Z"
   },
   {
    "duration": 7,
    "start_time": "2023-03-15T16:36:48.564Z"
   },
   {
    "duration": 12,
    "start_time": "2023-03-15T16:36:48.575Z"
   },
   {
    "duration": 12,
    "start_time": "2023-03-15T16:36:48.588Z"
   },
   {
    "duration": 14,
    "start_time": "2023-03-15T16:36:48.602Z"
   },
   {
    "duration": 8,
    "start_time": "2023-03-15T16:36:48.618Z"
   },
   {
    "duration": 7,
    "start_time": "2023-03-15T16:36:48.653Z"
   },
   {
    "duration": 9,
    "start_time": "2023-03-15T16:36:48.662Z"
   },
   {
    "duration": 12,
    "start_time": "2023-03-15T16:36:48.673Z"
   },
   {
    "duration": 15,
    "start_time": "2023-03-15T16:36:48.687Z"
   },
   {
    "duration": 6,
    "start_time": "2023-03-15T16:36:48.704Z"
   },
   {
    "duration": 8,
    "start_time": "2023-03-15T16:36:48.711Z"
   },
   {
    "duration": 34,
    "start_time": "2023-03-15T16:36:48.721Z"
   },
   {
    "duration": 15,
    "start_time": "2023-03-15T16:36:48.756Z"
   },
   {
    "duration": 14,
    "start_time": "2023-03-15T16:36:48.773Z"
   },
   {
    "duration": 7,
    "start_time": "2023-03-15T16:36:48.789Z"
   },
   {
    "duration": 11,
    "start_time": "2023-03-15T16:36:48.798Z"
   },
   {
    "duration": 39,
    "start_time": "2023-03-15T16:36:48.814Z"
   },
   {
    "duration": 7,
    "start_time": "2023-03-15T16:36:48.855Z"
   },
   {
    "duration": 6,
    "start_time": "2023-03-15T16:36:48.863Z"
   },
   {
    "duration": 6,
    "start_time": "2023-03-15T16:36:48.871Z"
   },
   {
    "duration": 7,
    "start_time": "2023-03-15T16:36:48.879Z"
   },
   {
    "duration": 8,
    "start_time": "2023-03-15T16:36:48.888Z"
   },
   {
    "duration": 8,
    "start_time": "2023-03-15T16:36:48.898Z"
   },
   {
    "duration": 183,
    "start_time": "2023-03-15T16:36:48.908Z"
   },
   {
    "duration": 11,
    "start_time": "2023-03-15T16:36:49.092Z"
   },
   {
    "duration": 161,
    "start_time": "2023-03-15T16:36:49.105Z"
   },
   {
    "duration": 12,
    "start_time": "2023-03-15T16:36:49.267Z"
   },
   {
    "duration": 231,
    "start_time": "2023-03-15T16:36:49.281Z"
   },
   {
    "duration": 213,
    "start_time": "2023-03-15T16:36:49.514Z"
   },
   {
    "duration": 12,
    "start_time": "2023-03-15T16:36:49.729Z"
   },
   {
    "duration": 303,
    "start_time": "2023-03-15T16:36:49.752Z"
   },
   {
    "duration": 266,
    "start_time": "2023-03-15T16:36:50.057Z"
   },
   {
    "duration": 322,
    "start_time": "2023-03-15T16:36:50.325Z"
   },
   {
    "duration": 245,
    "start_time": "2023-03-15T16:36:50.648Z"
   },
   {
    "duration": 241,
    "start_time": "2023-03-15T16:36:50.895Z"
   },
   {
    "duration": 6,
    "start_time": "2023-03-15T16:36:51.137Z"
   },
   {
    "duration": 240,
    "start_time": "2023-03-15T16:36:51.154Z"
   },
   {
    "duration": 147,
    "start_time": "2023-03-15T16:36:51.395Z"
   },
   {
    "duration": 11,
    "start_time": "2023-03-15T16:36:51.544Z"
   },
   {
    "duration": 11,
    "start_time": "2023-03-15T16:36:51.556Z"
   },
   {
    "duration": 9,
    "start_time": "2023-03-15T16:36:51.569Z"
   },
   {
    "duration": 6,
    "start_time": "2023-03-15T16:36:51.580Z"
   },
   {
    "duration": 7,
    "start_time": "2023-03-15T16:36:51.587Z"
   },
   {
    "duration": 21,
    "start_time": "2023-03-15T16:36:55.139Z"
   },
   {
    "duration": 21,
    "start_time": "2023-03-15T16:37:27.198Z"
   },
   {
    "duration": 1196,
    "start_time": "2023-03-15T16:52:33.393Z"
   },
   {
    "duration": 74,
    "start_time": "2023-03-15T16:52:34.592Z"
   },
   {
    "duration": 4,
    "start_time": "2023-03-15T16:52:34.668Z"
   },
   {
    "duration": 20,
    "start_time": "2023-03-15T16:52:34.673Z"
   },
   {
    "duration": 4,
    "start_time": "2023-03-15T16:52:34.696Z"
   },
   {
    "duration": 16,
    "start_time": "2023-03-15T16:52:34.702Z"
   },
   {
    "duration": 8,
    "start_time": "2023-03-15T16:52:34.720Z"
   },
   {
    "duration": 9,
    "start_time": "2023-03-15T16:52:34.729Z"
   },
   {
    "duration": 10,
    "start_time": "2023-03-15T16:52:34.754Z"
   },
   {
    "duration": 14,
    "start_time": "2023-03-15T16:52:34.766Z"
   },
   {
    "duration": 16,
    "start_time": "2023-03-15T16:52:34.782Z"
   },
   {
    "duration": 8,
    "start_time": "2023-03-15T16:52:34.799Z"
   },
   {
    "duration": 6,
    "start_time": "2023-03-15T16:52:34.809Z"
   },
   {
    "duration": 9,
    "start_time": "2023-03-15T16:52:34.852Z"
   },
   {
    "duration": 19,
    "start_time": "2023-03-15T16:52:34.863Z"
   },
   {
    "duration": 38,
    "start_time": "2023-03-15T16:52:34.884Z"
   },
   {
    "duration": 24,
    "start_time": "2023-03-15T16:52:34.924Z"
   },
   {
    "duration": 15,
    "start_time": "2023-03-15T16:52:34.950Z"
   },
   {
    "duration": 7,
    "start_time": "2023-03-15T16:52:34.967Z"
   },
   {
    "duration": 18,
    "start_time": "2023-03-15T16:52:34.975Z"
   },
   {
    "duration": 16,
    "start_time": "2023-03-15T16:52:34.995Z"
   },
   {
    "duration": 11,
    "start_time": "2023-03-15T16:52:35.013Z"
   },
   {
    "duration": 29,
    "start_time": "2023-03-15T16:52:35.026Z"
   },
   {
    "duration": 9,
    "start_time": "2023-03-15T16:52:35.057Z"
   },
   {
    "duration": 10,
    "start_time": "2023-03-15T16:52:35.068Z"
   },
   {
    "duration": 6,
    "start_time": "2023-03-15T16:52:35.079Z"
   },
   {
    "duration": 9,
    "start_time": "2023-03-15T16:52:35.087Z"
   },
   {
    "duration": 8,
    "start_time": "2023-03-15T16:52:35.099Z"
   },
   {
    "duration": 47,
    "start_time": "2023-03-15T16:52:35.109Z"
   },
   {
    "duration": 15,
    "start_time": "2023-03-15T16:52:35.159Z"
   },
   {
    "duration": 180,
    "start_time": "2023-03-15T16:52:35.176Z"
   },
   {
    "duration": 9,
    "start_time": "2023-03-15T16:52:35.358Z"
   },
   {
    "duration": 156,
    "start_time": "2023-03-15T16:52:35.369Z"
   },
   {
    "duration": 26,
    "start_time": "2023-03-15T16:52:35.527Z"
   },
   {
    "duration": 298,
    "start_time": "2023-03-15T16:52:35.555Z"
   },
   {
    "duration": 231,
    "start_time": "2023-03-15T16:52:35.855Z"
   },
   {
    "duration": 13,
    "start_time": "2023-03-15T16:52:36.088Z"
   },
   {
    "duration": 353,
    "start_time": "2023-03-15T16:52:36.103Z"
   },
   {
    "duration": 253,
    "start_time": "2023-03-15T16:52:36.458Z"
   },
   {
    "duration": 369,
    "start_time": "2023-03-15T16:52:36.713Z"
   },
   {
    "duration": 259,
    "start_time": "2023-03-15T16:52:37.086Z"
   },
   {
    "duration": 293,
    "start_time": "2023-03-15T16:52:37.346Z"
   },
   {
    "duration": 8,
    "start_time": "2023-03-15T16:52:37.641Z"
   },
   {
    "duration": 260,
    "start_time": "2023-03-15T16:52:37.651Z"
   },
   {
    "duration": 166,
    "start_time": "2023-03-15T16:52:37.913Z"
   },
   {
    "duration": 7,
    "start_time": "2023-03-15T16:52:38.081Z"
   },
   {
    "duration": 10,
    "start_time": "2023-03-15T16:52:38.090Z"
   },
   {
    "duration": 12,
    "start_time": "2023-03-15T16:52:38.103Z"
   },
   {
    "duration": 7,
    "start_time": "2023-03-15T16:52:38.118Z"
   },
   {
    "duration": 6,
    "start_time": "2023-03-15T16:52:38.153Z"
   },
   {
    "duration": 31,
    "start_time": "2023-03-15T16:52:38.161Z"
   },
   {
    "duration": 19,
    "start_time": "2023-03-15T16:52:38.194Z"
   },
   {
    "duration": 46,
    "start_time": "2023-03-15T16:52:38.215Z"
   },
   {
    "duration": 9,
    "start_time": "2023-03-15T16:52:38.263Z"
   },
   {
    "duration": 5,
    "start_time": "2023-03-15T16:52:38.274Z"
   },
   {
    "duration": 26,
    "start_time": "2023-03-15T16:52:38.281Z"
   },
   {
    "duration": 44,
    "start_time": "2023-03-15T16:52:38.310Z"
   },
   {
    "duration": 10,
    "start_time": "2023-03-15T16:52:57.007Z"
   },
   {
    "duration": 5,
    "start_time": "2023-03-15T17:04:35.880Z"
   },
   {
    "duration": 5,
    "start_time": "2023-03-15T17:04:59.546Z"
   },
   {
    "duration": 5,
    "start_time": "2023-03-15T17:08:15.167Z"
   },
   {
    "duration": 4,
    "start_time": "2023-03-15T17:08:24.456Z"
   },
   {
    "duration": 5,
    "start_time": "2023-03-15T17:09:14.421Z"
   },
   {
    "duration": 80,
    "start_time": "2023-03-15T17:10:22.306Z"
   },
   {
    "duration": 72,
    "start_time": "2023-03-15T17:10:46.744Z"
   },
   {
    "duration": 88,
    "start_time": "2023-03-15T17:11:11.104Z"
   },
   {
    "duration": 99,
    "start_time": "2023-03-15T17:11:17.458Z"
   },
   {
    "duration": 74,
    "start_time": "2023-03-15T17:12:30.468Z"
   },
   {
    "duration": 5,
    "start_time": "2023-03-15T17:13:13.114Z"
   },
   {
    "duration": 1229,
    "start_time": "2023-03-15T17:14:08.630Z"
   },
   {
    "duration": 76,
    "start_time": "2023-03-15T17:14:09.860Z"
   },
   {
    "duration": 2,
    "start_time": "2023-03-15T17:14:09.938Z"
   },
   {
    "duration": 25,
    "start_time": "2023-03-15T17:14:09.942Z"
   },
   {
    "duration": 4,
    "start_time": "2023-03-15T17:14:09.968Z"
   },
   {
    "duration": 21,
    "start_time": "2023-03-15T17:14:09.974Z"
   },
   {
    "duration": 15,
    "start_time": "2023-03-15T17:14:09.998Z"
   },
   {
    "duration": 25,
    "start_time": "2023-03-15T17:14:10.015Z"
   },
   {
    "duration": 31,
    "start_time": "2023-03-15T17:14:10.042Z"
   },
   {
    "duration": 24,
    "start_time": "2023-03-15T17:14:10.077Z"
   },
   {
    "duration": 17,
    "start_time": "2023-03-15T17:14:10.104Z"
   },
   {
    "duration": 9,
    "start_time": "2023-03-15T17:14:10.123Z"
   },
   {
    "duration": 19,
    "start_time": "2023-03-15T17:14:10.134Z"
   },
   {
    "duration": 12,
    "start_time": "2023-03-15T17:14:10.156Z"
   },
   {
    "duration": 14,
    "start_time": "2023-03-15T17:14:10.171Z"
   },
   {
    "duration": 15,
    "start_time": "2023-03-15T17:14:10.187Z"
   },
   {
    "duration": 9,
    "start_time": "2023-03-15T17:14:10.205Z"
   },
   {
    "duration": 40,
    "start_time": "2023-03-15T17:14:10.216Z"
   },
   {
    "duration": 4,
    "start_time": "2023-03-15T17:14:10.259Z"
   },
   {
    "duration": 16,
    "start_time": "2023-03-15T17:14:10.264Z"
   },
   {
    "duration": 14,
    "start_time": "2023-03-15T17:14:10.282Z"
   },
   {
    "duration": 11,
    "start_time": "2023-03-15T17:14:10.298Z"
   },
   {
    "duration": 12,
    "start_time": "2023-03-15T17:14:10.311Z"
   },
   {
    "duration": 31,
    "start_time": "2023-03-15T17:14:10.324Z"
   },
   {
    "duration": 8,
    "start_time": "2023-03-15T17:14:10.357Z"
   },
   {
    "duration": 8,
    "start_time": "2023-03-15T17:14:10.366Z"
   },
   {
    "duration": 7,
    "start_time": "2023-03-15T17:14:10.376Z"
   },
   {
    "duration": 7,
    "start_time": "2023-03-15T17:14:10.388Z"
   },
   {
    "duration": 9,
    "start_time": "2023-03-15T17:14:10.397Z"
   },
   {
    "duration": 51,
    "start_time": "2023-03-15T17:14:10.408Z"
   },
   {
    "duration": 198,
    "start_time": "2023-03-15T17:14:10.460Z"
   },
   {
    "duration": 10,
    "start_time": "2023-03-15T17:14:10.660Z"
   },
   {
    "duration": 184,
    "start_time": "2023-03-15T17:14:10.672Z"
   },
   {
    "duration": 14,
    "start_time": "2023-03-15T17:14:10.858Z"
   },
   {
    "duration": 305,
    "start_time": "2023-03-15T17:14:10.874Z"
   },
   {
    "duration": 211,
    "start_time": "2023-03-15T17:14:11.181Z"
   },
   {
    "duration": 16,
    "start_time": "2023-03-15T17:14:11.394Z"
   },
   {
    "duration": 327,
    "start_time": "2023-03-15T17:14:11.411Z"
   },
   {
    "duration": 235,
    "start_time": "2023-03-15T17:14:11.739Z"
   },
   {
    "duration": 327,
    "start_time": "2023-03-15T17:14:11.976Z"
   },
   {
    "duration": 279,
    "start_time": "2023-03-15T17:14:12.305Z"
   },
   {
    "duration": 273,
    "start_time": "2023-03-15T17:14:12.586Z"
   },
   {
    "duration": 7,
    "start_time": "2023-03-15T17:14:12.861Z"
   },
   {
    "duration": 231,
    "start_time": "2023-03-15T17:14:12.869Z"
   },
   {
    "duration": 153,
    "start_time": "2023-03-15T17:14:13.101Z"
   },
   {
    "duration": 7,
    "start_time": "2023-03-15T17:14:13.256Z"
   },
   {
    "duration": 6,
    "start_time": "2023-03-15T17:14:13.264Z"
   },
   {
    "duration": 7,
    "start_time": "2023-03-15T17:14:13.272Z"
   },
   {
    "duration": 11,
    "start_time": "2023-03-15T17:14:13.280Z"
   },
   {
    "duration": 6,
    "start_time": "2023-03-15T17:14:13.293Z"
   },
   {
    "duration": 5,
    "start_time": "2023-03-15T17:14:13.301Z"
   },
   {
    "duration": 52,
    "start_time": "2023-03-15T17:14:13.308Z"
   },
   {
    "duration": 10,
    "start_time": "2023-03-15T17:14:13.362Z"
   },
   {
    "duration": 9,
    "start_time": "2023-03-15T17:14:13.374Z"
   },
   {
    "duration": 8,
    "start_time": "2023-03-15T17:14:13.385Z"
   },
   {
    "duration": 14,
    "start_time": "2023-03-15T17:14:13.395Z"
   },
   {
    "duration": 20,
    "start_time": "2023-03-15T17:14:13.411Z"
   },
   {
    "duration": 15,
    "start_time": "2023-03-15T17:14:13.454Z"
   },
   {
    "duration": 9,
    "start_time": "2023-03-15T17:21:23.304Z"
   },
   {
    "duration": 7,
    "start_time": "2023-03-15T17:21:43.814Z"
   },
   {
    "duration": 6,
    "start_time": "2023-03-15T17:21:49.860Z"
   },
   {
    "duration": 1228,
    "start_time": "2023-03-15T17:22:21.954Z"
   },
   {
    "duration": 75,
    "start_time": "2023-03-15T17:22:23.184Z"
   },
   {
    "duration": 3,
    "start_time": "2023-03-15T17:22:23.260Z"
   },
   {
    "duration": 28,
    "start_time": "2023-03-15T17:22:23.265Z"
   },
   {
    "duration": 13,
    "start_time": "2023-03-15T17:22:23.295Z"
   },
   {
    "duration": 28,
    "start_time": "2023-03-15T17:22:23.309Z"
   },
   {
    "duration": 15,
    "start_time": "2023-03-15T17:22:23.339Z"
   },
   {
    "duration": 18,
    "start_time": "2023-03-15T17:22:23.355Z"
   },
   {
    "duration": 33,
    "start_time": "2023-03-15T17:22:23.374Z"
   },
   {
    "duration": 55,
    "start_time": "2023-03-15T17:22:23.408Z"
   },
   {
    "duration": 61,
    "start_time": "2023-03-15T17:22:23.465Z"
   },
   {
    "duration": 6,
    "start_time": "2023-03-15T17:22:23.528Z"
   },
   {
    "duration": 19,
    "start_time": "2023-03-15T17:22:23.536Z"
   },
   {
    "duration": 12,
    "start_time": "2023-03-15T17:22:23.558Z"
   },
   {
    "duration": 28,
    "start_time": "2023-03-15T17:22:23.572Z"
   },
   {
    "duration": 30,
    "start_time": "2023-03-15T17:22:23.602Z"
   },
   {
    "duration": 10,
    "start_time": "2023-03-15T17:22:23.634Z"
   },
   {
    "duration": 25,
    "start_time": "2023-03-15T17:22:23.646Z"
   },
   {
    "duration": 16,
    "start_time": "2023-03-15T17:22:23.673Z"
   },
   {
    "duration": 38,
    "start_time": "2023-03-15T17:22:23.691Z"
   },
   {
    "duration": 15,
    "start_time": "2023-03-15T17:22:23.731Z"
   },
   {
    "duration": 13,
    "start_time": "2023-03-15T17:22:23.748Z"
   },
   {
    "duration": 19,
    "start_time": "2023-03-15T17:22:23.763Z"
   },
   {
    "duration": 14,
    "start_time": "2023-03-15T17:22:23.784Z"
   },
   {
    "duration": 41,
    "start_time": "2023-03-15T17:22:23.799Z"
   },
   {
    "duration": 21,
    "start_time": "2023-03-15T17:22:23.842Z"
   },
   {
    "duration": 24,
    "start_time": "2023-03-15T17:22:23.864Z"
   },
   {
    "duration": 13,
    "start_time": "2023-03-15T17:22:23.891Z"
   },
   {
    "duration": 16,
    "start_time": "2023-03-15T17:22:23.906Z"
   },
   {
    "duration": 14,
    "start_time": "2023-03-15T17:22:23.924Z"
   },
   {
    "duration": 207,
    "start_time": "2023-03-15T17:22:23.940Z"
   },
   {
    "duration": 11,
    "start_time": "2023-03-15T17:22:24.154Z"
   },
   {
    "duration": 166,
    "start_time": "2023-03-15T17:22:24.167Z"
   },
   {
    "duration": 24,
    "start_time": "2023-03-15T17:22:24.335Z"
   },
   {
    "duration": 321,
    "start_time": "2023-03-15T17:22:24.361Z"
   },
   {
    "duration": 229,
    "start_time": "2023-03-15T17:22:24.684Z"
   },
   {
    "duration": 12,
    "start_time": "2023-03-15T17:22:24.914Z"
   },
   {
    "duration": 329,
    "start_time": "2023-03-15T17:22:24.927Z"
   },
   {
    "duration": 225,
    "start_time": "2023-03-15T17:22:25.258Z"
   },
   {
    "duration": 293,
    "start_time": "2023-03-15T17:22:25.485Z"
   },
   {
    "duration": 242,
    "start_time": "2023-03-15T17:22:25.782Z"
   },
   {
    "duration": 258,
    "start_time": "2023-03-15T17:22:26.025Z"
   },
   {
    "duration": 6,
    "start_time": "2023-03-15T17:22:26.285Z"
   },
   {
    "duration": 225,
    "start_time": "2023-03-15T17:22:26.293Z"
   },
   {
    "duration": 136,
    "start_time": "2023-03-15T17:22:26.520Z"
   },
   {
    "duration": 6,
    "start_time": "2023-03-15T17:22:26.658Z"
   },
   {
    "duration": 15,
    "start_time": "2023-03-15T17:22:26.666Z"
   },
   {
    "duration": 14,
    "start_time": "2023-03-15T17:22:26.682Z"
   },
   {
    "duration": 19,
    "start_time": "2023-03-15T17:22:26.698Z"
   },
   {
    "duration": 9,
    "start_time": "2023-03-15T17:22:26.719Z"
   },
   {
    "duration": 5,
    "start_time": "2023-03-15T17:22:26.730Z"
   },
   {
    "duration": 27,
    "start_time": "2023-03-15T17:22:26.737Z"
   },
   {
    "duration": 13,
    "start_time": "2023-03-15T17:22:26.765Z"
   },
   {
    "duration": 15,
    "start_time": "2023-03-15T17:22:26.780Z"
   },
   {
    "duration": 7,
    "start_time": "2023-03-15T17:22:26.797Z"
   },
   {
    "duration": 11,
    "start_time": "2023-03-15T17:22:26.806Z"
   },
   {
    "duration": 43,
    "start_time": "2023-03-15T17:22:26.819Z"
   },
   {
    "duration": 14,
    "start_time": "2023-03-15T17:22:26.863Z"
   },
   {
    "duration": 4,
    "start_time": "2023-03-15T17:24:59.562Z"
   },
   {
    "duration": 1209,
    "start_time": "2023-03-15T17:25:05.731Z"
   },
   {
    "duration": 73,
    "start_time": "2023-03-15T17:25:06.943Z"
   },
   {
    "duration": 3,
    "start_time": "2023-03-15T17:25:07.017Z"
   },
   {
    "duration": 13,
    "start_time": "2023-03-15T17:25:07.022Z"
   },
   {
    "duration": 3,
    "start_time": "2023-03-15T17:25:07.037Z"
   },
   {
    "duration": 19,
    "start_time": "2023-03-15T17:25:07.041Z"
   },
   {
    "duration": 8,
    "start_time": "2023-03-15T17:25:07.062Z"
   },
   {
    "duration": 7,
    "start_time": "2023-03-15T17:25:07.071Z"
   },
   {
    "duration": 13,
    "start_time": "2023-03-15T17:25:07.080Z"
   },
   {
    "duration": 17,
    "start_time": "2023-03-15T17:25:07.096Z"
   },
   {
    "duration": 25,
    "start_time": "2023-03-15T17:25:07.115Z"
   },
   {
    "duration": 13,
    "start_time": "2023-03-15T17:25:07.141Z"
   },
   {
    "duration": 7,
    "start_time": "2023-03-15T17:25:07.156Z"
   },
   {
    "duration": 10,
    "start_time": "2023-03-15T17:25:07.164Z"
   },
   {
    "duration": 15,
    "start_time": "2023-03-15T17:25:07.175Z"
   },
   {
    "duration": 10,
    "start_time": "2023-03-15T17:25:07.192Z"
   },
   {
    "duration": 6,
    "start_time": "2023-03-15T17:25:07.204Z"
   },
   {
    "duration": 7,
    "start_time": "2023-03-15T17:25:07.212Z"
   },
   {
    "duration": 34,
    "start_time": "2023-03-15T17:25:07.220Z"
   },
   {
    "duration": 19,
    "start_time": "2023-03-15T17:25:07.256Z"
   },
   {
    "duration": 12,
    "start_time": "2023-03-15T17:25:07.276Z"
   },
   {
    "duration": 6,
    "start_time": "2023-03-15T17:25:07.290Z"
   },
   {
    "duration": 19,
    "start_time": "2023-03-15T17:25:07.298Z"
   },
   {
    "duration": 13,
    "start_time": "2023-03-15T17:25:07.318Z"
   },
   {
    "duration": 11,
    "start_time": "2023-03-15T17:25:07.333Z"
   },
   {
    "duration": 9,
    "start_time": "2023-03-15T17:25:07.354Z"
   },
   {
    "duration": 9,
    "start_time": "2023-03-15T17:25:07.365Z"
   },
   {
    "duration": 7,
    "start_time": "2023-03-15T17:25:07.378Z"
   },
   {
    "duration": 22,
    "start_time": "2023-03-15T17:25:07.387Z"
   },
   {
    "duration": 12,
    "start_time": "2023-03-15T17:25:07.411Z"
   },
   {
    "duration": 183,
    "start_time": "2023-03-15T17:25:07.425Z"
   },
   {
    "duration": 9,
    "start_time": "2023-03-15T17:25:07.610Z"
   },
   {
    "duration": 153,
    "start_time": "2023-03-15T17:25:07.621Z"
   },
   {
    "duration": 17,
    "start_time": "2023-03-15T17:25:07.776Z"
   },
   {
    "duration": 308,
    "start_time": "2023-03-15T17:25:07.795Z"
   },
   {
    "duration": 244,
    "start_time": "2023-03-15T17:25:08.104Z"
   },
   {
    "duration": 14,
    "start_time": "2023-03-15T17:25:08.350Z"
   },
   {
    "duration": 310,
    "start_time": "2023-03-15T17:25:08.366Z"
   },
   {
    "duration": 256,
    "start_time": "2023-03-15T17:25:08.678Z"
   },
   {
    "duration": 325,
    "start_time": "2023-03-15T17:25:08.936Z"
   },
   {
    "duration": 258,
    "start_time": "2023-03-15T17:25:09.262Z"
   },
   {
    "duration": 308,
    "start_time": "2023-03-15T17:25:09.522Z"
   },
   {
    "duration": 11,
    "start_time": "2023-03-15T17:25:09.832Z"
   },
   {
    "duration": 243,
    "start_time": "2023-03-15T17:25:09.845Z"
   },
   {
    "duration": 162,
    "start_time": "2023-03-15T17:25:10.090Z"
   },
   {
    "duration": 7,
    "start_time": "2023-03-15T17:25:10.254Z"
   },
   {
    "duration": 7,
    "start_time": "2023-03-15T17:25:10.263Z"
   },
   {
    "duration": 9,
    "start_time": "2023-03-15T17:25:10.271Z"
   },
   {
    "duration": 39,
    "start_time": "2023-03-15T17:25:10.281Z"
   },
   {
    "duration": 7,
    "start_time": "2023-03-15T17:25:10.322Z"
   },
   {
    "duration": 10,
    "start_time": "2023-03-15T17:25:10.331Z"
   },
   {
    "duration": 23,
    "start_time": "2023-03-15T17:25:10.343Z"
   },
   {
    "duration": 10,
    "start_time": "2023-03-15T17:25:10.368Z"
   },
   {
    "duration": 15,
    "start_time": "2023-03-15T17:25:10.380Z"
   },
   {
    "duration": 9,
    "start_time": "2023-03-15T17:25:10.397Z"
   },
   {
    "duration": 5,
    "start_time": "2023-03-15T17:25:10.407Z"
   },
   {
    "duration": 41,
    "start_time": "2023-03-15T17:25:10.414Z"
   },
   {
    "duration": 14,
    "start_time": "2023-03-15T17:25:10.457Z"
   },
   {
    "duration": 14,
    "start_time": "2023-03-15T17:28:09.532Z"
   },
   {
    "duration": 1209,
    "start_time": "2023-03-15T17:29:42.545Z"
   },
   {
    "duration": 76,
    "start_time": "2023-03-15T17:29:43.756Z"
   },
   {
    "duration": 4,
    "start_time": "2023-03-15T17:29:43.833Z"
   },
   {
    "duration": 13,
    "start_time": "2023-03-15T17:29:43.839Z"
   },
   {
    "duration": 3,
    "start_time": "2023-03-15T17:29:43.854Z"
   },
   {
    "duration": 15,
    "start_time": "2023-03-15T17:29:43.858Z"
   },
   {
    "duration": 9,
    "start_time": "2023-03-15T17:29:43.875Z"
   },
   {
    "duration": 29,
    "start_time": "2023-03-15T17:29:43.887Z"
   },
   {
    "duration": 12,
    "start_time": "2023-03-15T17:29:43.920Z"
   },
   {
    "duration": 21,
    "start_time": "2023-03-15T17:29:43.935Z"
   },
   {
    "duration": 17,
    "start_time": "2023-03-15T17:29:43.959Z"
   },
   {
    "duration": 27,
    "start_time": "2023-03-15T17:29:43.978Z"
   },
   {
    "duration": 11,
    "start_time": "2023-03-15T17:29:44.007Z"
   },
   {
    "duration": 18,
    "start_time": "2023-03-15T17:29:44.020Z"
   },
   {
    "duration": 34,
    "start_time": "2023-03-15T17:29:44.041Z"
   },
   {
    "duration": 16,
    "start_time": "2023-03-15T17:29:44.076Z"
   },
   {
    "duration": 15,
    "start_time": "2023-03-15T17:29:44.095Z"
   },
   {
    "duration": 17,
    "start_time": "2023-03-15T17:29:44.112Z"
   },
   {
    "duration": 15,
    "start_time": "2023-03-15T17:29:44.131Z"
   },
   {
    "duration": 32,
    "start_time": "2023-03-15T17:29:44.147Z"
   },
   {
    "duration": 16,
    "start_time": "2023-03-15T17:29:44.180Z"
   },
   {
    "duration": 18,
    "start_time": "2023-03-15T17:29:44.198Z"
   },
   {
    "duration": 10,
    "start_time": "2023-03-15T17:29:44.218Z"
   },
   {
    "duration": 13,
    "start_time": "2023-03-15T17:29:44.230Z"
   },
   {
    "duration": 10,
    "start_time": "2023-03-15T17:29:44.245Z"
   },
   {
    "duration": 8,
    "start_time": "2023-03-15T17:29:44.256Z"
   },
   {
    "duration": 14,
    "start_time": "2023-03-15T17:29:44.265Z"
   },
   {
    "duration": 18,
    "start_time": "2023-03-15T17:29:44.282Z"
   },
   {
    "duration": 20,
    "start_time": "2023-03-15T17:29:44.302Z"
   },
   {
    "duration": 13,
    "start_time": "2023-03-15T17:29:44.324Z"
   },
   {
    "duration": 156,
    "start_time": "2023-03-15T17:29:44.339Z"
   },
   {
    "duration": 9,
    "start_time": "2023-03-15T17:29:44.497Z"
   },
   {
    "duration": 159,
    "start_time": "2023-03-15T17:29:44.508Z"
   },
   {
    "duration": 13,
    "start_time": "2023-03-15T17:29:44.668Z"
   },
   {
    "duration": 303,
    "start_time": "2023-03-15T17:29:44.682Z"
   },
   {
    "duration": 210,
    "start_time": "2023-03-15T17:29:44.986Z"
   },
   {
    "duration": 12,
    "start_time": "2023-03-15T17:29:45.197Z"
   },
   {
    "duration": 327,
    "start_time": "2023-03-15T17:29:45.211Z"
   },
   {
    "duration": 231,
    "start_time": "2023-03-15T17:29:45.540Z"
   },
   {
    "duration": 299,
    "start_time": "2023-03-15T17:29:45.773Z"
   },
   {
    "duration": 251,
    "start_time": "2023-03-15T17:29:46.073Z"
   },
   {
    "duration": 291,
    "start_time": "2023-03-15T17:29:46.325Z"
   },
   {
    "duration": 7,
    "start_time": "2023-03-15T17:29:46.617Z"
   },
   {
    "duration": 223,
    "start_time": "2023-03-15T17:29:46.626Z"
   },
   {
    "duration": 140,
    "start_time": "2023-03-15T17:29:46.852Z"
   },
   {
    "duration": 7,
    "start_time": "2023-03-15T17:29:46.994Z"
   },
   {
    "duration": 12,
    "start_time": "2023-03-15T17:29:47.003Z"
   },
   {
    "duration": 12,
    "start_time": "2023-03-15T17:29:47.016Z"
   },
   {
    "duration": 25,
    "start_time": "2023-03-15T17:29:47.029Z"
   },
   {
    "duration": 6,
    "start_time": "2023-03-15T17:29:47.056Z"
   },
   {
    "duration": 11,
    "start_time": "2023-03-15T17:29:47.064Z"
   },
   {
    "duration": 29,
    "start_time": "2023-03-15T17:29:47.077Z"
   },
   {
    "duration": 13,
    "start_time": "2023-03-15T17:29:47.108Z"
   },
   {
    "duration": 31,
    "start_time": "2023-03-15T17:29:47.122Z"
   },
   {
    "duration": 6,
    "start_time": "2023-03-15T17:29:47.155Z"
   },
   {
    "duration": 6,
    "start_time": "2023-03-15T17:29:47.163Z"
   },
   {
    "duration": 25,
    "start_time": "2023-03-15T17:29:47.171Z"
   },
   {
    "duration": 15,
    "start_time": "2023-03-15T17:29:47.197Z"
   },
   {
    "duration": 6,
    "start_time": "2023-03-15T17:33:02.496Z"
   },
   {
    "duration": 6,
    "start_time": "2023-03-15T17:33:10.682Z"
   },
   {
    "duration": 5,
    "start_time": "2023-03-15T17:33:49.363Z"
   },
   {
    "duration": 1180,
    "start_time": "2023-03-16T11:16:53.059Z"
   },
   {
    "duration": 75,
    "start_time": "2023-03-16T11:16:54.241Z"
   },
   {
    "duration": 3,
    "start_time": "2023-03-16T11:16:54.317Z"
   },
   {
    "duration": 13,
    "start_time": "2023-03-16T11:16:54.321Z"
   },
   {
    "duration": 4,
    "start_time": "2023-03-16T11:16:54.336Z"
   },
   {
    "duration": 12,
    "start_time": "2023-03-16T11:16:54.341Z"
   },
   {
    "duration": 14,
    "start_time": "2023-03-16T11:16:54.354Z"
   },
   {
    "duration": 12,
    "start_time": "2023-03-16T11:16:54.370Z"
   },
   {
    "duration": 24,
    "start_time": "2023-03-16T11:16:54.387Z"
   },
   {
    "duration": 20,
    "start_time": "2023-03-16T11:16:54.412Z"
   },
   {
    "duration": 11,
    "start_time": "2023-03-16T11:16:54.433Z"
   },
   {
    "duration": 6,
    "start_time": "2023-03-16T11:16:54.446Z"
   },
   {
    "duration": 5,
    "start_time": "2023-03-16T11:16:54.453Z"
   },
   {
    "duration": 6,
    "start_time": "2023-03-16T11:16:54.461Z"
   },
   {
    "duration": 9,
    "start_time": "2023-03-16T11:16:54.468Z"
   },
   {
    "duration": 11,
    "start_time": "2023-03-16T11:16:54.478Z"
   },
   {
    "duration": 5,
    "start_time": "2023-03-16T11:16:54.490Z"
   },
   {
    "duration": 6,
    "start_time": "2023-03-16T11:16:54.496Z"
   },
   {
    "duration": 3,
    "start_time": "2023-03-16T11:16:54.503Z"
   },
   {
    "duration": 11,
    "start_time": "2023-03-16T11:16:54.507Z"
   },
   {
    "duration": 12,
    "start_time": "2023-03-16T11:16:54.555Z"
   },
   {
    "duration": 6,
    "start_time": "2023-03-16T11:16:54.568Z"
   },
   {
    "duration": 6,
    "start_time": "2023-03-16T11:16:54.575Z"
   },
   {
    "duration": 7,
    "start_time": "2023-03-16T11:16:54.582Z"
   },
   {
    "duration": 9,
    "start_time": "2023-03-16T11:16:54.590Z"
   },
   {
    "duration": 5,
    "start_time": "2023-03-16T11:16:54.601Z"
   },
   {
    "duration": 10,
    "start_time": "2023-03-16T11:16:54.607Z"
   },
   {
    "duration": 5,
    "start_time": "2023-03-16T11:16:54.618Z"
   },
   {
    "duration": 7,
    "start_time": "2023-03-16T11:16:54.656Z"
   },
   {
    "duration": 10,
    "start_time": "2023-03-16T11:16:54.665Z"
   },
   {
    "duration": 159,
    "start_time": "2023-03-16T11:16:54.677Z"
   },
   {
    "duration": 8,
    "start_time": "2023-03-16T11:16:54.838Z"
   },
   {
    "duration": 129,
    "start_time": "2023-03-16T11:16:54.847Z"
   },
   {
    "duration": 10,
    "start_time": "2023-03-16T11:16:54.977Z"
   },
   {
    "duration": 283,
    "start_time": "2023-03-16T11:16:54.988Z"
   },
   {
    "duration": 213,
    "start_time": "2023-03-16T11:16:55.272Z"
   },
   {
    "duration": 12,
    "start_time": "2023-03-16T11:16:55.486Z"
   },
   {
    "duration": 268,
    "start_time": "2023-03-16T11:16:55.499Z"
   },
   {
    "duration": 203,
    "start_time": "2023-03-16T11:16:55.769Z"
   },
   {
    "duration": 293,
    "start_time": "2023-03-16T11:16:55.974Z"
   },
   {
    "duration": 225,
    "start_time": "2023-03-16T11:16:56.271Z"
   },
   {
    "duration": 287,
    "start_time": "2023-03-16T11:16:56.498Z"
   },
   {
    "duration": 6,
    "start_time": "2023-03-16T11:16:56.787Z"
   },
   {
    "duration": 190,
    "start_time": "2023-03-16T11:16:56.795Z"
   },
   {
    "duration": 121,
    "start_time": "2023-03-16T11:16:56.986Z"
   },
   {
    "duration": 7,
    "start_time": "2023-03-16T11:16:57.109Z"
   },
   {
    "duration": 5,
    "start_time": "2023-03-16T11:16:57.117Z"
   },
   {
    "duration": 7,
    "start_time": "2023-03-16T11:16:57.124Z"
   },
   {
    "duration": 29,
    "start_time": "2023-03-16T11:16:57.132Z"
   },
   {
    "duration": 15,
    "start_time": "2023-03-16T11:16:57.163Z"
   },
   {
    "duration": 20,
    "start_time": "2023-03-16T11:16:57.179Z"
   },
   {
    "duration": 22,
    "start_time": "2023-03-16T11:16:57.200Z"
   },
   {
    "duration": 11,
    "start_time": "2023-03-16T11:16:57.224Z"
   },
   {
    "duration": 8,
    "start_time": "2023-03-16T11:16:57.236Z"
   },
   {
    "duration": 6,
    "start_time": "2023-03-16T11:16:57.245Z"
   },
   {
    "duration": 8,
    "start_time": "2023-03-16T11:16:57.255Z"
   },
   {
    "duration": 34,
    "start_time": "2023-03-16T11:16:57.264Z"
   },
   {
    "duration": 10,
    "start_time": "2023-03-16T11:16:57.300Z"
   },
   {
    "duration": 266,
    "start_time": "2023-03-16T11:17:10.694Z"
   },
   {
    "duration": 1074,
    "start_time": "2023-03-16T11:17:14.252Z"
   },
   {
    "duration": 79,
    "start_time": "2023-03-16T11:17:15.327Z"
   },
   {
    "duration": 4,
    "start_time": "2023-03-16T11:17:15.407Z"
   },
   {
    "duration": 33,
    "start_time": "2023-03-16T11:17:15.413Z"
   },
   {
    "duration": 13,
    "start_time": "2023-03-16T11:17:15.448Z"
   },
   {
    "duration": 27,
    "start_time": "2023-03-16T11:17:15.463Z"
   },
   {
    "duration": 22,
    "start_time": "2023-03-16T11:17:15.492Z"
   },
   {
    "duration": 18,
    "start_time": "2023-03-16T11:17:15.515Z"
   },
   {
    "duration": 21,
    "start_time": "2023-03-16T11:17:15.534Z"
   },
   {
    "duration": 23,
    "start_time": "2023-03-16T11:17:15.558Z"
   },
   {
    "duration": 24,
    "start_time": "2023-03-16T11:17:15.582Z"
   },
   {
    "duration": 11,
    "start_time": "2023-03-16T11:17:15.607Z"
   },
   {
    "duration": 20,
    "start_time": "2023-03-16T11:17:15.620Z"
   },
   {
    "duration": 24,
    "start_time": "2023-03-16T11:17:15.642Z"
   },
   {
    "duration": 18,
    "start_time": "2023-03-16T11:17:15.667Z"
   },
   {
    "duration": 32,
    "start_time": "2023-03-16T11:17:15.687Z"
   },
   {
    "duration": 16,
    "start_time": "2023-03-16T11:17:15.721Z"
   },
   {
    "duration": 29,
    "start_time": "2023-03-16T11:17:15.738Z"
   },
   {
    "duration": 16,
    "start_time": "2023-03-16T11:17:15.768Z"
   },
   {
    "duration": 15,
    "start_time": "2023-03-16T11:17:15.785Z"
   },
   {
    "duration": 11,
    "start_time": "2023-03-16T11:17:15.802Z"
   },
   {
    "duration": 15,
    "start_time": "2023-03-16T11:17:15.814Z"
   },
   {
    "duration": 18,
    "start_time": "2023-03-16T11:17:15.830Z"
   },
   {
    "duration": 17,
    "start_time": "2023-03-16T11:17:15.850Z"
   },
   {
    "duration": 13,
    "start_time": "2023-03-16T11:17:15.868Z"
   },
   {
    "duration": 25,
    "start_time": "2023-03-16T11:17:15.882Z"
   },
   {
    "duration": 10,
    "start_time": "2023-03-16T11:17:15.908Z"
   },
   {
    "duration": 18,
    "start_time": "2023-03-16T11:17:15.921Z"
   },
   {
    "duration": 29,
    "start_time": "2023-03-16T11:17:15.940Z"
   },
   {
    "duration": 14,
    "start_time": "2023-03-16T11:17:15.970Z"
   },
   {
    "duration": 150,
    "start_time": "2023-03-16T11:17:15.986Z"
   },
   {
    "duration": 7,
    "start_time": "2023-03-16T11:17:16.138Z"
   },
   {
    "duration": 125,
    "start_time": "2023-03-16T11:17:16.146Z"
   },
   {
    "duration": 10,
    "start_time": "2023-03-16T11:17:16.273Z"
   },
   {
    "duration": 268,
    "start_time": "2023-03-16T11:17:16.284Z"
   },
   {
    "duration": 198,
    "start_time": "2023-03-16T11:17:16.554Z"
   },
   {
    "duration": 12,
    "start_time": "2023-03-16T11:17:16.755Z"
   },
   {
    "duration": 300,
    "start_time": "2023-03-16T11:17:16.769Z"
   },
   {
    "duration": 214,
    "start_time": "2023-03-16T11:17:17.070Z"
   },
   {
    "duration": 289,
    "start_time": "2023-03-16T11:17:17.286Z"
   },
   {
    "duration": 212,
    "start_time": "2023-03-16T11:17:17.577Z"
   },
   {
    "duration": 239,
    "start_time": "2023-03-16T11:17:17.790Z"
   },
   {
    "duration": 5,
    "start_time": "2023-03-16T11:17:18.031Z"
   },
   {
    "duration": 187,
    "start_time": "2023-03-16T11:17:18.038Z"
   },
   {
    "duration": 129,
    "start_time": "2023-03-16T11:17:18.227Z"
   },
   {
    "duration": 5,
    "start_time": "2023-03-16T11:17:18.358Z"
   },
   {
    "duration": 4,
    "start_time": "2023-03-16T11:17:18.365Z"
   },
   {
    "duration": 4,
    "start_time": "2023-03-16T11:17:18.370Z"
   },
   {
    "duration": 8,
    "start_time": "2023-03-16T11:17:18.375Z"
   },
   {
    "duration": 6,
    "start_time": "2023-03-16T11:17:18.384Z"
   },
   {
    "duration": 7,
    "start_time": "2023-03-16T11:17:18.391Z"
   },
   {
    "duration": 20,
    "start_time": "2023-03-16T11:17:18.399Z"
   },
   {
    "duration": 44,
    "start_time": "2023-03-16T11:17:18.420Z"
   },
   {
    "duration": 8,
    "start_time": "2023-03-16T11:17:18.465Z"
   },
   {
    "duration": 6,
    "start_time": "2023-03-16T11:17:18.474Z"
   },
   {
    "duration": 4,
    "start_time": "2023-03-16T11:17:18.481Z"
   },
   {
    "duration": 19,
    "start_time": "2023-03-16T11:17:18.486Z"
   },
   {
    "duration": 11,
    "start_time": "2023-03-16T11:17:18.507Z"
   },
   {
    "duration": 48,
    "start_time": "2023-03-20T04:52:18.185Z"
   },
   {
    "duration": 1129,
    "start_time": "2023-03-20T04:52:25.921Z"
   },
   {
    "duration": 225,
    "start_time": "2023-03-20T04:52:27.052Z"
   },
   {
    "duration": 3,
    "start_time": "2023-03-20T04:52:27.279Z"
   },
   {
    "duration": 16,
    "start_time": "2023-03-20T04:52:27.284Z"
   },
   {
    "duration": 8,
    "start_time": "2023-03-20T04:52:27.301Z"
   },
   {
    "duration": 12,
    "start_time": "2023-03-20T04:52:27.311Z"
   },
   {
    "duration": 10,
    "start_time": "2023-03-20T04:52:27.325Z"
   },
   {
    "duration": 11,
    "start_time": "2023-03-20T04:52:27.336Z"
   },
   {
    "duration": 13,
    "start_time": "2023-03-20T04:52:27.349Z"
   },
   {
    "duration": 12,
    "start_time": "2023-03-20T04:52:27.364Z"
   },
   {
    "duration": 16,
    "start_time": "2023-03-20T04:52:27.378Z"
   },
   {
    "duration": 8,
    "start_time": "2023-03-20T04:52:27.396Z"
   },
   {
    "duration": 7,
    "start_time": "2023-03-20T04:52:27.424Z"
   },
   {
    "duration": 8,
    "start_time": "2023-03-20T04:52:27.432Z"
   },
   {
    "duration": 10,
    "start_time": "2023-03-20T04:52:27.441Z"
   },
   {
    "duration": 14,
    "start_time": "2023-03-20T04:52:27.453Z"
   },
   {
    "duration": 9,
    "start_time": "2023-03-20T04:52:27.469Z"
   },
   {
    "duration": 21,
    "start_time": "2023-03-20T04:52:27.480Z"
   },
   {
    "duration": 21,
    "start_time": "2023-03-20T04:52:27.503Z"
   },
   {
    "duration": 19,
    "start_time": "2023-03-20T04:52:27.526Z"
   },
   {
    "duration": 14,
    "start_time": "2023-03-20T04:52:27.546Z"
   },
   {
    "duration": 7,
    "start_time": "2023-03-20T04:52:27.561Z"
   },
   {
    "duration": 11,
    "start_time": "2023-03-20T04:52:27.569Z"
   },
   {
    "duration": 6,
    "start_time": "2023-03-20T04:52:27.581Z"
   },
   {
    "duration": 35,
    "start_time": "2023-03-20T04:52:27.589Z"
   },
   {
    "duration": 8,
    "start_time": "2023-03-20T04:52:27.626Z"
   },
   {
    "duration": 6,
    "start_time": "2023-03-20T04:52:27.635Z"
   },
   {
    "duration": 7,
    "start_time": "2023-03-20T04:52:27.643Z"
   },
   {
    "duration": 4,
    "start_time": "2023-03-20T04:52:39.410Z"
   }
  ],
  "kernelspec": {
   "display_name": "Python 3 (ipykernel)",
   "language": "python",
   "name": "python3"
  },
  "language_info": {
   "codemirror_mode": {
    "name": "ipython",
    "version": 3
   },
   "file_extension": ".py",
   "mimetype": "text/x-python",
   "name": "python",
   "nbconvert_exporter": "python",
   "pygments_lexer": "ipython3",
   "version": "3.9.13"
  },
  "toc": {
   "base_numbering": 1,
   "nav_menu": {},
   "number_sections": true,
   "sideBar": true,
   "skip_h1_title": true,
   "title_cell": "Table of Contents",
   "title_sidebar": "Contents",
   "toc_cell": false,
   "toc_position": {
    "height": "calc(100% - 180px)",
    "left": "10px",
    "top": "150px",
    "width": "508px"
   },
   "toc_section_display": true,
   "toc_window_display": true
  }
 },
 "nbformat": 4,
 "nbformat_minor": 2
}
