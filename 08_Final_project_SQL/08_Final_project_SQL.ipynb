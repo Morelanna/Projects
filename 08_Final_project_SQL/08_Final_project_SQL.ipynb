{
 "cells": [
  {
   "cell_type": "markdown",
   "metadata": {},
   "source": [
    "# Проект по SQL"
   ]
  },
  {
   "cell_type": "markdown",
   "metadata": {},
   "source": [
    "**Цель исследования:** Проанализировать базу данных. В ней — информация о книгах, издательствах, авторах, а также пользовательские обзоры книг. Эти данные помогут сформулировать ценностное предложение для нового продукта."
   ]
  },
  {
   "cell_type": "markdown",
   "metadata": {},
   "source": [
    "**Описание данных:**"
   ]
  },
  {
   "cell_type": "markdown",
   "metadata": {},
   "source": [
    "**Таблица `books` cодержит данные о книгах:**\n",
    "- *book_id* — идентификатор книги;\n",
    "- *author_id* — идентификатор автора;\n",
    "- *title* — название книги;\n",
    "- *num_pages* — количество страниц;\n",
    "- *publication_date* — дата публикации книги;\n",
    "- *publisher_id* — идентификатор издателя."
   ]
  },
  {
   "cell_type": "markdown",
   "metadata": {},
   "source": [
    "**Таблица `authors` cодержит данные об авторах:**\n",
    "- *author_id* — идентификатор автора;\n",
    "- *author* — имя автора."
   ]
  },
  {
   "cell_type": "markdown",
   "metadata": {},
   "source": [
    "**Таблица `publishers` cодержит данные об издательствах:**\n",
    "- *publisher_id* — идентификатор издательства;\n",
    "- *publisher* — название издательства."
   ]
  },
  {
   "cell_type": "markdown",
   "metadata": {},
   "source": [
    "**Таблица `ratings` cодержит данные о пользовательских оценках книг:**\n",
    "- *rating_id* — идентификатор оценки;\n",
    "- *book_id* — идентификатор книги;\n",
    "- *username* — имя пользователя, оставившего оценку;\n",
    "- *rating* — оценка книги."
   ]
  },
  {
   "cell_type": "markdown",
   "metadata": {},
   "source": [
    "**Таблица `reviews` cодержит данные о пользовательских обзорах:**\n",
    "- *review_id* — идентификатор обзора;\n",
    "- *book_id* — идентификатор книги;\n",
    "- *username* — имя автора обзора;\n",
    "- *text* — текст обзора."
   ]
  },
  {
   "cell_type": "markdown",
   "metadata": {},
   "source": [
    "**Задания:**  \n",
    "  \n",
    "`Задача 1.` Посчитайте, сколько книг вышло после 1 января 2000 года  \n",
    "`Задача 2.` Для каждой книги посчитайте количество обзоров и среднюю оценку  \n",
    "`Задача 3.` Определите издательство, которое выпустило наибольшее число книг толще 50 страниц — так вы исключите из анализа брошюры  \n",
    "`Задача 4.` Определите автора с самой высокой средней оценкой книг — учитывайте только книги с 50 и более оценками  \n",
    "`Задача 5.` Посчитайте среднее количество обзоров от пользователей, которые поставили больше 48 оценок  "
   ]
  },
  {
   "cell_type": "markdown",
   "metadata": {},
   "source": [
    "**План проекта:**  \n",
    "  \n",
    "`Шаг 1.` Исследование таблиц (вывод первых строк)  \n",
    "`Шаг 2.` Решение задач и вывод результатов  \n",
    "`Шаг 3.` Выводы по задачам  "
   ]
  },
  {
   "cell_type": "code",
   "execution_count": 1,
   "metadata": {},
   "outputs": [],
   "source": [
    "# импортируем библиотеки\n",
    "import pandas as pd\n",
    "from sqlalchemy import text, create_engine\n",
    "# устанавливаем параметры\n",
    "db_config = {'user': 'praktikum_student', # имя пользователя\n",
    "'pwd': 'Sdf4$2;d-d30pp', # пароль\n",
    "'host': 'rc1b-wcoijxj3yxfsf3fs.mdb.yandexcloud.net',\n",
    "'port': 6432, # порт подключения\n",
    "'db': 'data-analyst-final-project-db'} # название базы данных\n",
    "connection_string = 'postgresql://{user}:{pwd}@{host}:{port}/{db}'.format(**db_config)\n",
    "# сохраняем коннектор\n",
    "engine = create_engine(connection_string, connect_args={'sslmode':'require'})"
   ]
  },
  {
   "cell_type": "code",
   "execution_count": 2,
   "metadata": {},
   "outputs": [],
   "source": [
    "# функция для вывода результата\n",
    "def result(query):\n",
    "    con=engine.connect()\n",
    "    return pd.io.sql.read_sql(sql=text(query), con = con)"
   ]
  },
  {
   "cell_type": "markdown",
   "metadata": {},
   "source": [
    "## Исследование таблиц"
   ]
  },
  {
   "cell_type": "markdown",
   "metadata": {},
   "source": [
    "### Таблица `books`"
   ]
  },
  {
   "cell_type": "code",
   "execution_count": 3,
   "metadata": {},
   "outputs": [
    {
     "data": {
      "text/html": [
       "<div>\n",
       "<style scoped>\n",
       "    .dataframe tbody tr th:only-of-type {\n",
       "        vertical-align: middle;\n",
       "    }\n",
       "\n",
       "    .dataframe tbody tr th {\n",
       "        vertical-align: top;\n",
       "    }\n",
       "\n",
       "    .dataframe thead th {\n",
       "        text-align: right;\n",
       "    }\n",
       "</style>\n",
       "<table border=\"1\" class=\"dataframe\">\n",
       "  <thead>\n",
       "    <tr style=\"text-align: right;\">\n",
       "      <th></th>\n",
       "      <th>book_id</th>\n",
       "      <th>author_id</th>\n",
       "      <th>title</th>\n",
       "      <th>num_pages</th>\n",
       "      <th>publication_date</th>\n",
       "      <th>publisher_id</th>\n",
       "    </tr>\n",
       "  </thead>\n",
       "  <tbody>\n",
       "    <tr>\n",
       "      <th>0</th>\n",
       "      <td>1</td>\n",
       "      <td>546</td>\n",
       "      <td>'Salem's Lot</td>\n",
       "      <td>594</td>\n",
       "      <td>2005-11-01</td>\n",
       "      <td>93</td>\n",
       "    </tr>\n",
       "  </tbody>\n",
       "</table>\n",
       "</div>"
      ],
      "text/plain": [
       "   book_id  author_id         title  num_pages publication_date  publisher_id\n",
       "0        1        546  'Salem's Lot        594       2005-11-01            93"
      ]
     },
     "execution_count": 3,
     "metadata": {},
     "output_type": "execute_result"
    }
   ],
   "source": [
    "query = '''\n",
    "        SELECT *\n",
    "        FROM books\n",
    "        LIMIT 1;\n",
    "        '''\n",
    "result(query)"
   ]
  },
  {
   "cell_type": "markdown",
   "metadata": {},
   "source": [
    "### Таблица `authors`"
   ]
  },
  {
   "cell_type": "code",
   "execution_count": 4,
   "metadata": {},
   "outputs": [
    {
     "data": {
      "text/html": [
       "<div>\n",
       "<style scoped>\n",
       "    .dataframe tbody tr th:only-of-type {\n",
       "        vertical-align: middle;\n",
       "    }\n",
       "\n",
       "    .dataframe tbody tr th {\n",
       "        vertical-align: top;\n",
       "    }\n",
       "\n",
       "    .dataframe thead th {\n",
       "        text-align: right;\n",
       "    }\n",
       "</style>\n",
       "<table border=\"1\" class=\"dataframe\">\n",
       "  <thead>\n",
       "    <tr style=\"text-align: right;\">\n",
       "      <th></th>\n",
       "      <th>author_id</th>\n",
       "      <th>author</th>\n",
       "    </tr>\n",
       "  </thead>\n",
       "  <tbody>\n",
       "    <tr>\n",
       "      <th>0</th>\n",
       "      <td>1</td>\n",
       "      <td>A.S. Byatt</td>\n",
       "    </tr>\n",
       "  </tbody>\n",
       "</table>\n",
       "</div>"
      ],
      "text/plain": [
       "   author_id      author\n",
       "0          1  A.S. Byatt"
      ]
     },
     "execution_count": 4,
     "metadata": {},
     "output_type": "execute_result"
    }
   ],
   "source": [
    "query = '''\n",
    "        SELECT *\n",
    "        FROM authors\n",
    "        LIMIT 1;\n",
    "        '''\n",
    "result(query)"
   ]
  },
  {
   "cell_type": "markdown",
   "metadata": {},
   "source": [
    "### Таблица `publishers`"
   ]
  },
  {
   "cell_type": "code",
   "execution_count": 5,
   "metadata": {},
   "outputs": [
    {
     "data": {
      "text/html": [
       "<div>\n",
       "<style scoped>\n",
       "    .dataframe tbody tr th:only-of-type {\n",
       "        vertical-align: middle;\n",
       "    }\n",
       "\n",
       "    .dataframe tbody tr th {\n",
       "        vertical-align: top;\n",
       "    }\n",
       "\n",
       "    .dataframe thead th {\n",
       "        text-align: right;\n",
       "    }\n",
       "</style>\n",
       "<table border=\"1\" class=\"dataframe\">\n",
       "  <thead>\n",
       "    <tr style=\"text-align: right;\">\n",
       "      <th></th>\n",
       "      <th>publisher_id</th>\n",
       "      <th>publisher</th>\n",
       "    </tr>\n",
       "  </thead>\n",
       "  <tbody>\n",
       "    <tr>\n",
       "      <th>0</th>\n",
       "      <td>1</td>\n",
       "      <td>Ace</td>\n",
       "    </tr>\n",
       "  </tbody>\n",
       "</table>\n",
       "</div>"
      ],
      "text/plain": [
       "   publisher_id publisher\n",
       "0             1       Ace"
      ]
     },
     "execution_count": 5,
     "metadata": {},
     "output_type": "execute_result"
    }
   ],
   "source": [
    "query = '''\n",
    "        SELECT *\n",
    "        FROM publishers\n",
    "        LIMIT 1;\n",
    "        '''\n",
    "result(query)"
   ]
  },
  {
   "cell_type": "markdown",
   "metadata": {},
   "source": [
    "### Таблица `ratings`"
   ]
  },
  {
   "cell_type": "code",
   "execution_count": 6,
   "metadata": {},
   "outputs": [
    {
     "data": {
      "text/html": [
       "<div>\n",
       "<style scoped>\n",
       "    .dataframe tbody tr th:only-of-type {\n",
       "        vertical-align: middle;\n",
       "    }\n",
       "\n",
       "    .dataframe tbody tr th {\n",
       "        vertical-align: top;\n",
       "    }\n",
       "\n",
       "    .dataframe thead th {\n",
       "        text-align: right;\n",
       "    }\n",
       "</style>\n",
       "<table border=\"1\" class=\"dataframe\">\n",
       "  <thead>\n",
       "    <tr style=\"text-align: right;\">\n",
       "      <th></th>\n",
       "      <th>rating_id</th>\n",
       "      <th>book_id</th>\n",
       "      <th>username</th>\n",
       "      <th>rating</th>\n",
       "    </tr>\n",
       "  </thead>\n",
       "  <tbody>\n",
       "    <tr>\n",
       "      <th>0</th>\n",
       "      <td>1</td>\n",
       "      <td>1</td>\n",
       "      <td>ryanfranco</td>\n",
       "      <td>4</td>\n",
       "    </tr>\n",
       "  </tbody>\n",
       "</table>\n",
       "</div>"
      ],
      "text/plain": [
       "   rating_id  book_id    username  rating\n",
       "0          1        1  ryanfranco       4"
      ]
     },
     "execution_count": 6,
     "metadata": {},
     "output_type": "execute_result"
    }
   ],
   "source": [
    "query = '''\n",
    "        SELECT *\n",
    "        FROM ratings\n",
    "        LIMIT 1;\n",
    "        '''\n",
    "result(query)"
   ]
  },
  {
   "cell_type": "markdown",
   "metadata": {},
   "source": [
    "### Таблица `reviews`"
   ]
  },
  {
   "cell_type": "code",
   "execution_count": 7,
   "metadata": {},
   "outputs": [
    {
     "data": {
      "text/html": [
       "<div>\n",
       "<style scoped>\n",
       "    .dataframe tbody tr th:only-of-type {\n",
       "        vertical-align: middle;\n",
       "    }\n",
       "\n",
       "    .dataframe tbody tr th {\n",
       "        vertical-align: top;\n",
       "    }\n",
       "\n",
       "    .dataframe thead th {\n",
       "        text-align: right;\n",
       "    }\n",
       "</style>\n",
       "<table border=\"1\" class=\"dataframe\">\n",
       "  <thead>\n",
       "    <tr style=\"text-align: right;\">\n",
       "      <th></th>\n",
       "      <th>review_id</th>\n",
       "      <th>book_id</th>\n",
       "      <th>username</th>\n",
       "      <th>text</th>\n",
       "    </tr>\n",
       "  </thead>\n",
       "  <tbody>\n",
       "    <tr>\n",
       "      <th>0</th>\n",
       "      <td>1</td>\n",
       "      <td>1</td>\n",
       "      <td>brandtandrea</td>\n",
       "      <td>Mention society tell send professor analysis. ...</td>\n",
       "    </tr>\n",
       "  </tbody>\n",
       "</table>\n",
       "</div>"
      ],
      "text/plain": [
       "   review_id  book_id      username  \\\n",
       "0          1        1  brandtandrea   \n",
       "\n",
       "                                                text  \n",
       "0  Mention society tell send professor analysis. ...  "
      ]
     },
     "execution_count": 7,
     "metadata": {},
     "output_type": "execute_result"
    }
   ],
   "source": [
    "query = '''\n",
    "        SELECT *\n",
    "        FROM reviews\n",
    "        LIMIT 1;\n",
    "        '''\n",
    "result(query)"
   ]
  },
  {
   "cell_type": "markdown",
   "metadata": {},
   "source": [
    "## Решение задач"
   ]
  },
  {
   "cell_type": "markdown",
   "metadata": {},
   "source": [
    "### Задача 1. Посчитайте, сколько книг вышло после 1 января 2000 года."
   ]
  },
  {
   "cell_type": "code",
   "execution_count": 8,
   "metadata": {},
   "outputs": [
    {
     "data": {
      "text/html": [
       "<div>\n",
       "<style scoped>\n",
       "    .dataframe tbody tr th:only-of-type {\n",
       "        vertical-align: middle;\n",
       "    }\n",
       "\n",
       "    .dataframe tbody tr th {\n",
       "        vertical-align: top;\n",
       "    }\n",
       "\n",
       "    .dataframe thead th {\n",
       "        text-align: right;\n",
       "    }\n",
       "</style>\n",
       "<table border=\"1\" class=\"dataframe\">\n",
       "  <thead>\n",
       "    <tr style=\"text-align: right;\">\n",
       "      <th></th>\n",
       "      <th>count_books</th>\n",
       "    </tr>\n",
       "  </thead>\n",
       "  <tbody>\n",
       "    <tr>\n",
       "      <th>0</th>\n",
       "      <td>819</td>\n",
       "    </tr>\n",
       "  </tbody>\n",
       "</table>\n",
       "</div>"
      ],
      "text/plain": [
       "   count_books\n",
       "0          819"
      ]
     },
     "execution_count": 8,
     "metadata": {},
     "output_type": "execute_result"
    }
   ],
   "source": [
    "query = '''\n",
    "        SELECT COUNT(book_id) AS count_books\n",
    "        FROM books\n",
    "        WHERE publication_date > '2000-01-01';\n",
    "        '''\n",
    "result(query)"
   ]
  },
  {
   "cell_type": "markdown",
   "metadata": {},
   "source": [
    "### Задача 2. Для каждой книги посчитайте количество обзоров и среднюю оценку."
   ]
  },
  {
   "cell_type": "code",
   "execution_count": 9,
   "metadata": {},
   "outputs": [
    {
     "data": {
      "text/html": [
       "<div>\n",
       "<style scoped>\n",
       "    .dataframe tbody tr th:only-of-type {\n",
       "        vertical-align: middle;\n",
       "    }\n",
       "\n",
       "    .dataframe tbody tr th {\n",
       "        vertical-align: top;\n",
       "    }\n",
       "\n",
       "    .dataframe thead th {\n",
       "        text-align: right;\n",
       "    }\n",
       "</style>\n",
       "<table border=\"1\" class=\"dataframe\">\n",
       "  <thead>\n",
       "    <tr style=\"text-align: right;\">\n",
       "      <th></th>\n",
       "      <th>title</th>\n",
       "      <th>count_reviews</th>\n",
       "      <th>average_rating</th>\n",
       "    </tr>\n",
       "  </thead>\n",
       "  <tbody>\n",
       "    <tr>\n",
       "      <th>0</th>\n",
       "      <td>Cane River</td>\n",
       "      <td>2</td>\n",
       "      <td>4.50</td>\n",
       "    </tr>\n",
       "    <tr>\n",
       "      <th>1</th>\n",
       "      <td>The Summons</td>\n",
       "      <td>3</td>\n",
       "      <td>4.33</td>\n",
       "    </tr>\n",
       "    <tr>\n",
       "      <th>2</th>\n",
       "      <td>The Mad Ship (Liveship Traders  #2)</td>\n",
       "      <td>2</td>\n",
       "      <td>4.50</td>\n",
       "    </tr>\n",
       "    <tr>\n",
       "      <th>3</th>\n",
       "      <td>Chapterhouse: Dune (Dune Chronicles #6)</td>\n",
       "      <td>2</td>\n",
       "      <td>4.00</td>\n",
       "    </tr>\n",
       "    <tr>\n",
       "      <th>4</th>\n",
       "      <td>Ella Enchanted (Ella Enchanted #1)</td>\n",
       "      <td>4</td>\n",
       "      <td>4.08</td>\n",
       "    </tr>\n",
       "    <tr>\n",
       "      <th>...</th>\n",
       "      <td>...</td>\n",
       "      <td>...</td>\n",
       "      <td>...</td>\n",
       "    </tr>\n",
       "    <tr>\n",
       "      <th>989</th>\n",
       "      <td>Swann's Way (In Search of Lost Time  #1)</td>\n",
       "      <td>2</td>\n",
       "      <td>3.00</td>\n",
       "    </tr>\n",
       "    <tr>\n",
       "      <th>990</th>\n",
       "      <td>The 6th Target (Women's Murder Club  #6)</td>\n",
       "      <td>2</td>\n",
       "      <td>3.50</td>\n",
       "    </tr>\n",
       "    <tr>\n",
       "      <th>991</th>\n",
       "      <td>Rachel's Holiday (Walsh Family  #2)</td>\n",
       "      <td>2</td>\n",
       "      <td>3.50</td>\n",
       "    </tr>\n",
       "    <tr>\n",
       "      <th>992</th>\n",
       "      <td>John Adams</td>\n",
       "      <td>4</td>\n",
       "      <td>3.80</td>\n",
       "    </tr>\n",
       "    <tr>\n",
       "      <th>993</th>\n",
       "      <td>Lover Eternal (Black Dagger Brotherhood  #2)</td>\n",
       "      <td>4</td>\n",
       "      <td>3.83</td>\n",
       "    </tr>\n",
       "  </tbody>\n",
       "</table>\n",
       "<p>994 rows × 3 columns</p>\n",
       "</div>"
      ],
      "text/plain": [
       "                                            title  count_reviews  \\\n",
       "0                                      Cane River              2   \n",
       "1                                     The Summons              3   \n",
       "2             The Mad Ship (Liveship Traders  #2)              2   \n",
       "3         Chapterhouse: Dune (Dune Chronicles #6)              2   \n",
       "4              Ella Enchanted (Ella Enchanted #1)              4   \n",
       "..                                            ...            ...   \n",
       "989      Swann's Way (In Search of Lost Time  #1)              2   \n",
       "990      The 6th Target (Women's Murder Club  #6)              2   \n",
       "991           Rachel's Holiday (Walsh Family  #2)              2   \n",
       "992                                    John Adams              4   \n",
       "993  Lover Eternal (Black Dagger Brotherhood  #2)              4   \n",
       "\n",
       "     average_rating  \n",
       "0              4.50  \n",
       "1              4.33  \n",
       "2              4.50  \n",
       "3              4.00  \n",
       "4              4.08  \n",
       "..              ...  \n",
       "989            3.00  \n",
       "990            3.50  \n",
       "991            3.50  \n",
       "992            3.80  \n",
       "993            3.83  \n",
       "\n",
       "[994 rows x 3 columns]"
      ]
     },
     "execution_count": 9,
     "metadata": {},
     "output_type": "execute_result"
    }
   ],
   "source": [
    "query = '''\n",
    "        WITH\n",
    "        cu AS (SELECT book_id,\n",
    "                      COUNT(review_id) as count_reviews\n",
    "               FROM reviews\n",
    "               GROUP BY book_id),\n",
    "        rat AS (SELECT book_id,\n",
    "                       AVG(rating) as average_rating\n",
    "                FROM ratings\n",
    "                GROUP BY book_id)\n",
    "        SELECT b.title,\n",
    "               cu.count_reviews,\n",
    "               ROUND(rat.average_rating, 2) AS average_rating\n",
    "        FROM books AS b\n",
    "        JOIN cu ON cu.book_id = b.book_id\n",
    "        JOIN rat ON rat.book_id = b.book_id\n",
    "        GROUP BY b.title,\n",
    "                 cu.count_reviews,\n",
    "                 average_rating;\n",
    "        '''\n",
    "result(query)"
   ]
  },
  {
   "cell_type": "markdown",
   "metadata": {},
   "source": [
    "### Задача 3. Определите издательство, которое выпустило наибольшее число книг толще 50 страниц — так вы исключите из анализа брошюры."
   ]
  },
  {
   "cell_type": "code",
   "execution_count": 10,
   "metadata": {},
   "outputs": [
    {
     "data": {
      "text/html": [
       "<div>\n",
       "<style scoped>\n",
       "    .dataframe tbody tr th:only-of-type {\n",
       "        vertical-align: middle;\n",
       "    }\n",
       "\n",
       "    .dataframe tbody tr th {\n",
       "        vertical-align: top;\n",
       "    }\n",
       "\n",
       "    .dataframe thead th {\n",
       "        text-align: right;\n",
       "    }\n",
       "</style>\n",
       "<table border=\"1\" class=\"dataframe\">\n",
       "  <thead>\n",
       "    <tr style=\"text-align: right;\">\n",
       "      <th></th>\n",
       "      <th>publisher</th>\n",
       "      <th>count_books</th>\n",
       "    </tr>\n",
       "  </thead>\n",
       "  <tbody>\n",
       "    <tr>\n",
       "      <th>0</th>\n",
       "      <td>Penguin Books</td>\n",
       "      <td>42</td>\n",
       "    </tr>\n",
       "  </tbody>\n",
       "</table>\n",
       "</div>"
      ],
      "text/plain": [
       "       publisher  count_books\n",
       "0  Penguin Books           42"
      ]
     },
     "execution_count": 10,
     "metadata": {},
     "output_type": "execute_result"
    }
   ],
   "source": [
    "query = '''\n",
    "        SELECT publ.publisher,\n",
    "               COUNT (p.book_id) AS count_books\n",
    "        FROM (SELECT book_id,\n",
    "                publisher_id\n",
    "                FROM books\n",
    "                WHERE num_pages > 50) AS p\n",
    "        JOIN publishers AS publ ON publ.publisher_id = p.publisher_id\n",
    "        GROUP BY publisher\n",
    "        ORDER BY count_books DESC\n",
    "        LIMIT 1;\n",
    "        '''\n",
    "result(query)"
   ]
  },
  {
   "cell_type": "markdown",
   "metadata": {},
   "source": [
    "### Задача 4. Определите автора с самой высокой средней оценкой книг — учитывайте только книги с 50 и более оценками."
   ]
  },
  {
   "cell_type": "code",
   "execution_count": 11,
   "metadata": {},
   "outputs": [
    {
     "data": {
      "text/html": [
       "<div>\n",
       "<style scoped>\n",
       "    .dataframe tbody tr th:only-of-type {\n",
       "        vertical-align: middle;\n",
       "    }\n",
       "\n",
       "    .dataframe tbody tr th {\n",
       "        vertical-align: top;\n",
       "    }\n",
       "\n",
       "    .dataframe thead th {\n",
       "        text-align: right;\n",
       "    }\n",
       "</style>\n",
       "<table border=\"1\" class=\"dataframe\">\n",
       "  <thead>\n",
       "    <tr style=\"text-align: right;\">\n",
       "      <th></th>\n",
       "      <th>author</th>\n",
       "      <th>average_rating</th>\n",
       "    </tr>\n",
       "  </thead>\n",
       "  <tbody>\n",
       "    <tr>\n",
       "      <th>0</th>\n",
       "      <td>J.K. Rowling/Mary GrandPré</td>\n",
       "      <td>4.28</td>\n",
       "    </tr>\n",
       "  </tbody>\n",
       "</table>\n",
       "</div>"
      ],
      "text/plain": [
       "                       author  average_rating\n",
       "0  J.K. Rowling/Mary GrandPré            4.28"
      ]
     },
     "execution_count": 11,
     "metadata": {},
     "output_type": "execute_result"
    }
   ],
   "source": [
    "query = '''\n",
    "        SELECT\n",
    "        a.author,\n",
    "        ROUND(AVG(rat.average_rating), 2) AS average_rating    \n",
    "        FROM books AS b\n",
    "        LEFT JOIN (SELECT book_id,\n",
    "                          COUNT(rating) AS count_rat,\n",
    "                          AVG(rating) AS average_rating\n",
    "                   FROM ratings\n",
    "                   GROUP BY book_id) AS rat ON rat.book_id = b.book_id\n",
    "        LEFT JOIN authors AS a ON a.author_id = b.author_id\n",
    "        WHERE rat.count_rat >= 50\n",
    "        GROUP BY author\n",
    "        ORDER BY average_rating DESC\n",
    "        LIMIT 1;   \n",
    "        '''\n",
    "result(query)"
   ]
  },
  {
   "cell_type": "markdown",
   "metadata": {},
   "source": [
    "### Задача 5. Посчитайте среднее количество обзоров от пользователей, которые поставили больше 48 оценок."
   ]
  },
  {
   "cell_type": "code",
   "execution_count": 12,
   "metadata": {},
   "outputs": [
    {
     "data": {
      "text/html": [
       "<div>\n",
       "<style scoped>\n",
       "    .dataframe tbody tr th:only-of-type {\n",
       "        vertical-align: middle;\n",
       "    }\n",
       "\n",
       "    .dataframe tbody tr th {\n",
       "        vertical-align: top;\n",
       "    }\n",
       "\n",
       "    .dataframe thead th {\n",
       "        text-align: right;\n",
       "    }\n",
       "</style>\n",
       "<table border=\"1\" class=\"dataframe\">\n",
       "  <thead>\n",
       "    <tr style=\"text-align: right;\">\n",
       "      <th></th>\n",
       "      <th>average_reviews</th>\n",
       "    </tr>\n",
       "  </thead>\n",
       "  <tbody>\n",
       "    <tr>\n",
       "      <th>0</th>\n",
       "      <td>24.0</td>\n",
       "    </tr>\n",
       "  </tbody>\n",
       "</table>\n",
       "</div>"
      ],
      "text/plain": [
       "   average_reviews\n",
       "0             24.0"
      ]
     },
     "execution_count": 12,
     "metadata": {},
     "output_type": "execute_result"
    }
   ],
   "source": [
    "query = '''\n",
    "        WITH\n",
    "        rat AS (SELECT username  \n",
    "                FROM ratings\n",
    "                GROUP BY username\n",
    "                HAVING COUNT(rating_id) > 48),\n",
    "        rev AS (SELECT username,\n",
    "                COUNT(review_id) AS count_review\n",
    "                FROM reviews\n",
    "                GROUP BY username)\n",
    "        SELECT AVG(rev.count_review) AS average_reviews\n",
    "        FROM rat\n",
    "        LEFT JOIN rev ON rev.username = rat.username;\n",
    "        '''\n",
    "result(query)"
   ]
  },
  {
   "cell_type": "markdown",
   "metadata": {},
   "source": [
    "## Вывод по задачам"
   ]
  },
  {
   "cell_type": "markdown",
   "metadata": {},
   "source": [
    "- После 1 января 2000 года вышло **819 книг**.\n",
    "- Для каждой книги посчитали количество обзоров и среднюю оценку, книг в списке 994.\n",
    "- Издательство, которое выпустило наибольшее число книг толще 50 страниц - **Penguin Books**, 42 книги.\n",
    "- Автор с самой высокой средней оценкой книг (учитывали только книги с 50 и более оценками) - **J.K. Rowling/Mary GrandPré** с оценкой 4.28.\n",
    "- Среднее количество обзоров от пользователей, которые поставили больше 48 оценок - **24**."
   ]
  }
 ],
 "metadata": {
  "ExecuteTimeLog": [
   {
    "duration": 8633,
    "start_time": "2023-05-15T21:03:13.423Z"
   },
   {
    "duration": 4,
    "start_time": "2023-05-15T21:45:29.739Z"
   },
   {
    "duration": 4,
    "start_time": "2023-05-15T21:45:42.606Z"
   },
   {
    "duration": 42,
    "start_time": "2023-05-15T21:49:31.095Z"
   },
   {
    "duration": 50,
    "start_time": "2023-05-16T07:36:55.882Z"
   },
   {
    "duration": 11485,
    "start_time": "2023-05-16T07:37:03.766Z"
   },
   {
    "duration": 3,
    "start_time": "2023-05-16T07:37:15.253Z"
   },
   {
    "duration": 84,
    "start_time": "2023-05-16T07:37:15.261Z"
   },
   {
    "duration": 22,
    "start_time": "2023-05-16T07:37:15.347Z"
   },
   {
    "duration": 11,
    "start_time": "2023-05-16T07:37:40.107Z"
   },
   {
    "duration": 20,
    "start_time": "2023-05-16T07:37:52.984Z"
   },
   {
    "duration": 14,
    "start_time": "2023-05-16T07:38:06.803Z"
   },
   {
    "duration": 10,
    "start_time": "2023-05-16T07:45:49.992Z"
   },
   {
    "duration": 172,
    "start_time": "2023-05-16T09:12:25.075Z"
   },
   {
    "duration": 144,
    "start_time": "2023-05-16T09:13:39.283Z"
   },
   {
    "duration": 81,
    "start_time": "2023-05-16T09:15:14.786Z"
   },
   {
    "duration": 71,
    "start_time": "2023-05-16T09:17:26.903Z"
   },
   {
    "duration": 29,
    "start_time": "2023-05-16T09:18:24.200Z"
   },
   {
    "duration": 2,
    "start_time": "2023-05-16T09:34:25.407Z"
   },
   {
    "duration": 29,
    "start_time": "2023-05-16T09:34:30.907Z"
   },
   {
    "duration": 14,
    "start_time": "2023-05-16T09:34:43.145Z"
   },
   {
    "duration": 25,
    "start_time": "2023-05-16T10:53:16.519Z"
   },
   {
    "duration": 154,
    "start_time": "2023-05-16T12:16:47.716Z"
   },
   {
    "duration": 383,
    "start_time": "2023-05-16T12:17:21.931Z"
   },
   {
    "duration": 94,
    "start_time": "2023-05-16T12:17:54.500Z"
   },
   {
    "duration": 83,
    "start_time": "2023-05-16T12:18:11.623Z"
   },
   {
    "duration": 86,
    "start_time": "2023-05-16T12:18:27.442Z"
   },
   {
    "duration": 130,
    "start_time": "2023-05-16T12:18:32.078Z"
   },
   {
    "duration": 69,
    "start_time": "2023-05-16T12:37:00.406Z"
   },
   {
    "duration": 23626,
    "start_time": "2023-05-16T12:37:11.525Z"
   },
   {
    "duration": 18,
    "start_time": "2023-05-16T12:37:35.167Z"
   },
   {
    "duration": 526,
    "start_time": "2023-05-16T12:37:35.200Z"
   },
   {
    "duration": 73,
    "start_time": "2023-05-16T12:37:35.735Z"
   },
   {
    "duration": 62,
    "start_time": "2023-05-16T12:37:35.810Z"
   },
   {
    "duration": 49,
    "start_time": "2023-05-16T12:37:35.882Z"
   },
   {
    "duration": 49,
    "start_time": "2023-05-16T12:37:35.943Z"
   },
   {
    "duration": 41,
    "start_time": "2023-05-16T12:37:35.999Z"
   },
   {
    "duration": 137,
    "start_time": "2023-05-16T12:37:36.049Z"
   },
   {
    "duration": 82,
    "start_time": "2023-05-16T12:37:36.208Z"
   },
   {
    "duration": 102,
    "start_time": "2023-05-16T12:37:36.296Z"
   },
   {
    "duration": 109,
    "start_time": "2023-05-16T12:37:36.405Z"
   }
  ],
  "kernelspec": {
   "display_name": "Python 3 (ipykernel)",
   "language": "python",
   "name": "python3"
  },
  "language_info": {
   "codemirror_mode": {
    "name": "ipython",
    "version": 3
   },
   "file_extension": ".py",
   "mimetype": "text/x-python",
   "name": "python",
   "nbconvert_exporter": "python",
   "pygments_lexer": "ipython3",
   "version": "3.9.13"
  },
  "toc": {
   "base_numbering": 1,
   "nav_menu": {},
   "number_sections": true,
   "sideBar": true,
   "skip_h1_title": true,
   "title_cell": "Table of Contents",
   "title_sidebar": "Contents",
   "toc_cell": false,
   "toc_position": {},
   "toc_section_display": true,
   "toc_window_display": false
  }
 },
 "nbformat": 4,
 "nbformat_minor": 2
}
